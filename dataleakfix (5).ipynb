{
  "nbformat": 4,
  "nbformat_minor": 0,
  "metadata": {
    "colab": {
      "provenance": [],
      "gpuType": "T4"
    },
    "kernelspec": {
      "name": "python3",
      "display_name": "Python 3"
    },
    "language_info": {
      "name": "python"
    },
    "accelerator": "GPU"
  },
  "cells": [
    {
      "cell_type": "markdown",
      "source": [],
      "metadata": {
        "id": "bxhhfW5JEAX2"
      }
    },
    {
      "cell_type": "code",
      "execution_count": null,
      "metadata": {
        "colab": {
          "base_uri": "https://localhost:8080/"
        },
        "id": "vznFDJajCqi1",
        "outputId": "9e779931-25d2-4f72-8637-3bc87552f96a"
      },
      "outputs": [
        {
          "output_type": "stream",
          "name": "stdout",
          "text": [
            "Mounted at /content/drive\n"
          ]
        }
      ],
      "source": [
        "from google.colab import drive\n",
        "drive.mount('/content/drive')"
      ]
    },
    {
      "cell_type": "code",
      "source": [
        "import os\n",
        "import pandas as pd\n",
        "folder_path = \"/content/drive/MyDrive/Original_Dataset\""
      ],
      "metadata": {
        "id": "Zwp5rppKCxfM"
      },
      "execution_count": null,
      "outputs": []
    },
    {
      "cell_type": "code",
      "source": [
        "import os\n",
        "print(os.listdir(\"/content/drive/MyDrive\"))"
      ],
      "metadata": {
        "colab": {
          "base_uri": "https://localhost:8080/"
        },
        "id": "uNRv9Q0_J6ej",
        "outputId": "66034663-efc7-4eaa-e104-332926e35fd2"
      },
      "execution_count": null,
      "outputs": [
        {
          "output_type": "stream",
          "name": "stdout",
          "text": [
            "['exhibition videos', 'af video.mp4', 'Colab Notebooks', 'data.zip', 'CODELOOM (File responses)', 'CODELOOM (Responses).gsheet', 'CODELOOM.gform', 'dataset', 'Split Dataset', 'model_checkpoint.weights.h5', 'final_model.h5', 'Original_Dataset.zip']\n"
          ]
        }
      ]
    },
    {
      "cell_type": "code",
      "source": [
        "import zipfile\n",
        "\n",
        "zip_path = \"/content/drive/MyDrive/Original_Dataset.zip\"\n",
        "extract_path = \"/content/Original_Dataset\"\n",
        "\n",
        "with zipfile.ZipFile(zip_path, 'r') as zip_ref:\n",
        "    zip_ref.extractall(extract_path)"
      ],
      "metadata": {
        "id": "T8XNcCT0DCZa"
      },
      "execution_count": null,
      "outputs": []
    },
    {
      "cell_type": "code",
      "source": [
        "import random\n",
        "import shutil\n",
        "from tqdm import tqdm\n",
        "\n",
        "def split_dataset(original_dir, output_dir, train_pct=0.7, test_pct=0.2, val_pct=0.1, seed=42):\n",
        "    assert abs(train_pct + test_pct + val_pct - 1.0) < 1e-6, \"Splits must sum to 1.0\"\n",
        "\n",
        "    random.seed(seed)\n",
        "\n",
        "    for class_name in os.listdir(original_dir):\n",
        "        class_path = os.path.join(original_dir, class_name)\n",
        "        if not os.path.isdir(class_path):\n",
        "            continue\n",
        "\n",
        "        images = os.listdir(class_path)\n",
        "        images = [img for img in images if img.lower().endswith(('.jpg', '.jpeg', '.png'))]\n",
        "        random.shuffle(images)\n",
        "\n",
        "        total = len(images)\n",
        "        train_end = int(total * train_pct)\n",
        "        test_end = train_end + int(total * test_pct)\n",
        "\n",
        "        split_points = {\n",
        "            'train': images[:train_end],\n",
        "            'test': images[train_end:test_end],\n",
        "            'val': images[test_end:]\n",
        "        }\n",
        "\n",
        "        for split, split_images in split_points.items():\n",
        "            out_class_dir = os.path.join(output_dir, split, class_name)\n",
        "            os.makedirs(out_class_dir, exist_ok=True)\n",
        "\n",
        "            for img in tqdm(split_images, desc=f\"Copying {split}/{class_name}\"):\n",
        "                src = os.path.join(class_path, img)\n",
        "                dst = os.path.join(out_class_dir, img)\n",
        "                shutil.copy2(src, dst)\n"
      ],
      "metadata": {
        "id": "x8Ul9Sp0DHEl"
      },
      "execution_count": null,
      "outputs": []
    },
    {
      "cell_type": "code",
      "source": [
        "split_dataset(\n",
        "    original_dir=\"/content/Original_Dataset/Original Dataset\",\n",
        "    output_dir=\"split_dataset\",\n",
        "    train_pct=0.7,\n",
        "    test_pct=0.2,\n",
        "    val_pct=0.1\n",
        ")"
      ],
      "metadata": {
        "colab": {
          "base_uri": "https://localhost:8080/"
        },
        "id": "7qljB9RRH90i",
        "outputId": "8b771c04-939c-49d1-ea96-dec526a2722b"
      },
      "execution_count": null,
      "outputs": [
        {
          "output_type": "stream",
          "name": "stderr",
          "text": [
            "Copying train/LeafBlight: 100%|██████████| 280/280 [00:00<00:00, 3449.40it/s]\n",
            "Copying test/LeafBlight: 100%|██████████| 80/80 [00:00<00:00, 3251.65it/s]\n",
            "Copying val/LeafBlight: 100%|██████████| 40/40 [00:00<00:00, 3393.66it/s]\n",
            "Copying train/HealthyLeaf: 100%|██████████| 175/175 [00:00<00:00, 1962.77it/s]\n",
            "Copying test/HealthyLeaf: 100%|██████████| 50/50 [00:00<00:00, 1827.14it/s]\n",
            "Copying val/HealthyLeaf: 100%|██████████| 25/25 [00:00<00:00, 1985.75it/s]\n",
            "Copying train/BlackPoint: 100%|██████████| 212/212 [00:00<00:00, 1242.22it/s]\n",
            "Copying test/BlackPoint: 100%|██████████| 60/60 [00:00<00:00, 1640.46it/s]\n",
            "Copying val/BlackPoint: 100%|██████████| 31/31 [00:00<00:00, 1922.63it/s]\n",
            "Copying train/WheatBlast: 100%|██████████| 280/280 [00:00<00:00, 735.60it/s]\n",
            "Copying test/WheatBlast: 100%|██████████| 80/80 [00:00<00:00, 419.60it/s]\n",
            "Copying val/WheatBlast: 100%|██████████| 40/40 [00:00<00:00, 339.54it/s]\n",
            "Copying train/FusariumFootRot: 100%|██████████| 175/175 [00:00<00:00, 369.75it/s]\n",
            "Copying test/FusariumFootRot: 100%|██████████| 50/50 [00:00<00:00, 424.90it/s]\n",
            "Copying val/FusariumFootRot: 100%|██████████| 25/25 [00:00<00:00, 436.62it/s]\n"
          ]
        }
      ]
    },
    {
      "cell_type": "code",
      "source": [
        "# AUGMENTATION OF TRAIN SET\n",
        "import tensorflow as tf\n",
        "from tensorflow.keras import layers\n",
        "\n",
        "# Image dimensions and batch size\n",
        "IMAGE_SIZE = (224, 224)\n",
        "BATCH_SIZE = 32\n",
        "\n",
        "# augmentation layer\n",
        "data_augmentation = tf.keras.Sequential([\n",
        "    # 1. Geometric Transformations\n",
        "    layers.RandomFlip(\"horizontal_and_vertical\"),\n",
        "    layers.RandomRotation(0.15),\n",
        "    layers.RandomZoom(height_factor=(-0.2, 0.2), width_factor=(-0.2, 0.2)),\n",
        "    layers.RandomTranslation(0.1, 0.1),\n",
        "\n",
        "    # 2. Color & Intensity Modifications\n",
        "    layers.RandomBrightness(factor=0.3),\n",
        "    layers.RandomContrast(0.3),\n",
        "    layers.Lambda(lambda x: tf.image.random_saturation(x, 0.7, 1.3)),\n",
        "])"
      ],
      "metadata": {
        "id": "EPn-E0dgLOGS"
      },
      "execution_count": null,
      "outputs": []
    },
    {
      "cell_type": "code",
      "source": [
        "# LOADING DATASET\n",
        "train_ds = tf.keras.utils.image_dataset_from_directory(\n",
        "    directory=\"split_dataset/train\",\n",
        "    image_size=IMAGE_SIZE,\n",
        "    batch_size=BATCH_SIZE,\n",
        "    label_mode='categorical'\n",
        ").map(lambda x, y: (data_augmentation(x, training=True), y))  # Augmentation here\n",
        "\n",
        "val_ds = tf.keras.utils.image_dataset_from_directory(\n",
        "    directory=\"split_dataset/val\",\n",
        "    image_size=IMAGE_SIZE,\n",
        "    batch_size=BATCH_SIZE,\n",
        "    label_mode='categorical'\n",
        ")\n",
        "\n",
        "test_ds = tf.keras.utils.image_dataset_from_directory(\n",
        "    directory=\"split_dataset/test\",\n",
        "    image_size=IMAGE_SIZE,\n",
        "    batch_size=BATCH_SIZE,\n",
        "    label_mode='categorical'\n",
        ")"
      ],
      "metadata": {
        "colab": {
          "base_uri": "https://localhost:8080/"
        },
        "id": "OzKLsT_0Ncn9",
        "outputId": "e993f509-e257-4325-ec34-03452656b3ae"
      },
      "execution_count": null,
      "outputs": [
        {
          "output_type": "stream",
          "name": "stdout",
          "text": [
            "Found 1122 files belonging to 5 classes.\n",
            "Found 161 files belonging to 5 classes.\n",
            "Found 320 files belonging to 5 classes.\n"
          ]
        }
      ]
    },
    {
      "cell_type": "markdown",
      "source": [
        "Fixing extra class inclusion\n"
      ],
      "metadata": {
        "id": "fVwc7hJ-OzTK"
      }
    },
    {
      "cell_type": "code",
      "source": [
        "import os\n",
        "\n",
        "class_folders = os.listdir(\"split_dataset/train\")\n",
        "print(\"Classes:\", class_folders)\n",
        "print(\"Total classes:\", len(class_folders))\n"
      ],
      "metadata": {
        "colab": {
          "base_uri": "https://localhost:8080/"
        },
        "id": "MCYJ20aeNlYT",
        "outputId": "08e36bbc-971b-44f6-c377-bbc2b9d484c4"
      },
      "execution_count": null,
      "outputs": [
        {
          "output_type": "stream",
          "name": "stdout",
          "text": [
            "Classes: ['LeafBlight', 'HealthyLeaf', 'BlackPoint', 'WheatBlast', 'FusariumFootRot']\n",
            "Total classes: 5\n"
          ]
        }
      ]
    },
    {
      "cell_type": "code",
      "source": [
        "import shutil\n",
        "bad_class = \"Original Dataset\"\n",
        "\n",
        "for split in ['train', 'val', 'test']:\n",
        "    folder = f\"split_dataset/{split}/{bad_class}\"\n",
        "    if os.path.exists(folder):\n",
        "        print(f\"Removing: {folder}\")\n",
        "        shutil.rmtree(folder)"
      ],
      "metadata": {
        "id": "HIlmhI-cOdGn"
      },
      "execution_count": null,
      "outputs": []
    },
    {
      "cell_type": "code",
      "source": [
        "print(\"Train Classes:\", os.listdir(\"split_dataset/train\"))"
      ],
      "metadata": {
        "colab": {
          "base_uri": "https://localhost:8080/"
        },
        "id": "sc-L1D44O7f0",
        "outputId": "06f87799-c19b-43b2-aefc-48e5ebceb634"
      },
      "execution_count": null,
      "outputs": [
        {
          "output_type": "stream",
          "name": "stdout",
          "text": [
            "Train Classes: ['LeafBlight', 'HealthyLeaf', 'BlackPoint', 'WheatBlast', 'FusariumFootRot']\n"
          ]
        }
      ]
    },
    {
      "cell_type": "code",
      "source": [
        "# RELOADING DATASET\n",
        "train_ds = tf.keras.utils.image_dataset_from_directory(\n",
        "    directory=\"split_dataset/train\",\n",
        "    image_size=(224, 224),\n",
        "    batch_size=32,\n",
        "    label_mode='categorical'\n",
        ").map(lambda x, y: (data_augmentation(x, training=True), y))\n",
        "\n",
        "val_ds = tf.keras.utils.image_dataset_from_directory(\n",
        "    directory=\"split_dataset/val\",\n",
        "    image_size=(224, 224),\n",
        "    batch_size=32,\n",
        "    label_mode='categorical'\n",
        ")\n",
        "\n",
        "test_ds = tf.keras.utils.image_dataset_from_directory(\n",
        "    directory=\"split_dataset/test\",\n",
        "    image_size=(224, 224),\n",
        "    batch_size=32,\n",
        "    label_mode='categorical'\n",
        ")"
      ],
      "metadata": {
        "colab": {
          "base_uri": "https://localhost:8080/"
        },
        "id": "5ATcryCuO-3-",
        "outputId": "049a286d-44df-4d63-8709-8a64f6b41b94"
      },
      "execution_count": null,
      "outputs": [
        {
          "output_type": "stream",
          "name": "stdout",
          "text": [
            "Found 1122 files belonging to 5 classes.\n",
            "Found 161 files belonging to 5 classes.\n",
            "Found 320 files belonging to 5 classes.\n"
          ]
        }
      ]
    },
    {
      "cell_type": "code",
      "source": [
        "# Dataset Prefetching\n",
        "AUTOTUNE = tf.data.AUTOTUNE\n",
        "train_ds = train_ds.cache().prefetch(buffer_size=AUTOTUNE)\n",
        "val_ds   = val_ds.cache().prefetch(buffer_size=AUTOTUNE)\n",
        "test_ds  = test_ds.cache().prefetch(buffer_size=AUTOTUNE)"
      ],
      "metadata": {
        "id": "EyqMzzvWPObw"
      },
      "execution_count": null,
      "outputs": []
    },
    {
      "cell_type": "code",
      "source": [
        "from tensorflow.keras import backend as K\n",
        "K.clear_session()"
      ],
      "metadata": {
        "id": "tvOE179yT2Tz"
      },
      "execution_count": null,
      "outputs": []
    },
    {
      "cell_type": "code",
      "source": [
        "#Model Definition\n",
        "base_model = tf.keras.applications.EfficientNetB0(\n",
        "    include_top=False,\n",
        "    input_shape=(224, 224, 3),\n",
        "    weights='imagenet'\n",
        ")"
      ],
      "metadata": {
        "id": "2ETbXP3yPfz3",
        "colab": {
          "base_uri": "https://localhost:8080/"
        },
        "outputId": "02c20c02-a7ce-49aa-8988-a481a8cd97c7"
      },
      "execution_count": null,
      "outputs": [
        {
          "output_type": "stream",
          "name": "stdout",
          "text": [
            "Downloading data from https://storage.googleapis.com/keras-applications/efficientnetb0_notop.h5\n",
            "\u001b[1m16705208/16705208\u001b[0m \u001b[32m━━━━━━━━━━━━━━━━━━━━\u001b[0m\u001b[37m\u001b[0m \u001b[1m0s\u001b[0m 0us/step\n"
          ]
        }
      ]
    },
    {
      "cell_type": "code",
      "source": [
        "import tensorflow as tf\n",
        "from tensorflow.keras import layers, models\n",
        "from PIL import Image, UnidentifiedImageError"
      ],
      "metadata": {
        "id": "4QJ1D6ZqPi2d"
      },
      "execution_count": null,
      "outputs": []
    },
    {
      "cell_type": "code",
      "source": [
        "import tensorflow as tf\n",
        "from tensorflow.keras import layers\n",
        "from tensorflow.keras.utils import register_keras_serializable\n",
        "\n",
        "@register_keras_serializable()\n",
        "class ChannelMean(layers.Layer):\n",
        "    def call(self, inputs):\n",
        "        return tf.reduce_mean(inputs, axis=-1, keepdims=True)\n",
        "\n",
        "@register_keras_serializable()\n",
        "class ChannelMax(layers.Layer):\n",
        "    def call(self, inputs):\n",
        "        return tf.reduce_max(inputs, axis=-1, keepdims=True)\n",
        "\n",
        "# CBAM block (safe version)\n",
        "def cbam_block(input_feature, ratio=8):\n",
        "    channel = input_feature.shape[-1]\n",
        "\n",
        "    # CHANNEL ATTENTION\n",
        "    avg_pool = layers.GlobalAveragePooling2D()(input_feature)\n",
        "    max_pool = layers.GlobalMaxPooling2D()(input_feature)\n",
        "\n",
        "    shared_dense = tf.keras.Sequential([\n",
        "        layers.Dense(channel // ratio, activation='relu'),\n",
        "        layers.Dense(channel)\n",
        "    ])\n",
        "\n",
        "    avg_out = shared_dense(avg_pool)\n",
        "    max_out = shared_dense(max_pool)\n",
        "\n",
        "    channel_attention = layers.Add()([avg_out, max_out])\n",
        "    channel_attention = layers.Activation('sigmoid')(channel_attention)\n",
        "    channel_attention = layers.Reshape((1, 1, channel))(channel_attention)\n",
        "    channel_refined = layers.Multiply()([input_feature, channel_attention])\n",
        "\n",
        "    # SPATIAL ATTENTION\n",
        "    avg_pool_spatial = ChannelMean()(channel_refined)\n",
        "    max_pool_spatial = ChannelMax()(channel_refined)\n",
        "    concat = layers.Concatenate(axis=-1)([avg_pool_spatial, max_pool_spatial])\n",
        "\n",
        "    spatial_attention = layers.Conv2D(filters=1, kernel_size=7, padding='same', activation='sigmoid')(concat)\n",
        "    refined_feature = layers.Multiply()([channel_refined, spatial_attention])\n",
        "\n",
        "    return refined_feature"
      ],
      "metadata": {
        "id": "7pHwT3Kxc0wK"
      },
      "execution_count": null,
      "outputs": []
    },
    {
      "cell_type": "code",
      "source": [
        "# so that i dont use previously trained model\n",
        "from tensorflow.keras import backend as K\n",
        "K.clear_session()"
      ],
      "metadata": {
        "id": "A-5PwPBehoJ1"
      },
      "execution_count": null,
      "outputs": []
    },
    {
      "cell_type": "code",
      "source": [
        "# Base model\n",
        "from tensorflow.keras.applications import EfficientNetB0\n",
        "base_model = EfficientNetB0(include_top=False, input_shape=(224, 224, 3), weights='imagenet')\n",
        "base_model.trainable = False  # Initially frozen"
      ],
      "metadata": {
        "id": "8aeZVJwJTWsg"
      },
      "execution_count": null,
      "outputs": []
    },
    {
      "cell_type": "code",
      "source": [
        "# final model\n",
        "inputs = tf.keras.Input(shape=(224, 224, 3))\n",
        "x = base_model(inputs, training=False)\n",
        "x = cbam_block(x)  # Now safe\n",
        "x = layers.GlobalAveragePooling2D()(x)\n",
        "x = layers.Dropout(0.4)(x)\n",
        "outputs = layers.Dense(5, activation='softmax')(x)\n",
        "\n",
        "model = tf.keras.Model(inputs, outputs)"
      ],
      "metadata": {
        "id": "tUe8ke8YSCQL"
      },
      "execution_count": null,
      "outputs": []
    },
    {
      "cell_type": "code",
      "source": [
        "from tensorflow.keras import optimizers\n",
        "\n",
        "model.compile(\n",
        "    optimizer=optimizers.Adam(learning_rate=1e-5),\n",
        "    loss='categorical_crossentropy',\n",
        "    metrics=['accuracy']\n",
        ")"
      ],
      "metadata": {
        "id": "pGSdLSiISYn1"
      },
      "execution_count": null,
      "outputs": []
    },
    {
      "cell_type": "code",
      "source": [
        "from tensorflow.keras import callbacks\n",
        "\n",
        "callback_list = [\n",
        "    callbacks.EarlyStopping(\n",
        "        monitor='val_loss', patience=3, restore_best_weights=True\n",
        "    ),\n",
        "    callbacks.ModelCheckpoint(\n",
        "        filepath='best_cbam_model.keras',\n",
        "        monitor='val_accuracy',\n",
        "        save_best_only=True\n",
        "    )\n",
        "]"
      ],
      "metadata": {
        "id": "pJ2c7lsoTlwi"
      },
      "execution_count": null,
      "outputs": []
    },
    {
      "cell_type": "code",
      "source": [
        "# INITIAL TRAINING\n",
        "history = model.fit(\n",
        "    train_ds,\n",
        "    validation_data=val_ds,\n",
        "    epochs=20,\n",
        "    callbacks=callback_list\n",
        ")"
      ],
      "metadata": {
        "colab": {
          "base_uri": "https://localhost:8080/"
        },
        "id": "pl0fTGdWT88N",
        "outputId": "527a16eb-8d9c-43a6-8a97-84120c251972"
      },
      "execution_count": null,
      "outputs": [
        {
          "output_type": "stream",
          "name": "stdout",
          "text": [
            "Epoch 1/20\n",
            "\u001b[1m36/36\u001b[0m \u001b[32m━━━━━━━━━━━━━━━━━━━━\u001b[0m\u001b[37m\u001b[0m \u001b[1m76s\u001b[0m 1s/step - accuracy: 0.2628 - loss: 1.5904 - val_accuracy: 0.3106 - val_loss: 1.5821\n",
            "Epoch 2/20\n",
            "\u001b[1m36/36\u001b[0m \u001b[32m━━━━━━━━━━━━━━━━━━━━\u001b[0m\u001b[37m\u001b[0m \u001b[1m2s\u001b[0m 60ms/step - accuracy: 0.2931 - loss: 1.5740 - val_accuracy: 0.3354 - val_loss: 1.5652\n",
            "Epoch 3/20\n",
            "\u001b[1m36/36\u001b[0m \u001b[32m━━━━━━━━━━━━━━━━━━━━\u001b[0m\u001b[37m\u001b[0m \u001b[1m2s\u001b[0m 57ms/step - accuracy: 0.3326 - loss: 1.5564 - val_accuracy: 0.3665 - val_loss: 1.5478\n",
            "Epoch 4/20\n",
            "\u001b[1m36/36\u001b[0m \u001b[32m━━━━━━━━━━━━━━━━━━━━\u001b[0m\u001b[37m\u001b[0m \u001b[1m2s\u001b[0m 61ms/step - accuracy: 0.3530 - loss: 1.5368 - val_accuracy: 0.4099 - val_loss: 1.5293\n",
            "Epoch 5/20\n",
            "\u001b[1m36/36\u001b[0m \u001b[32m━━━━━━━━━━━━━━━━━━━━\u001b[0m\u001b[37m\u001b[0m \u001b[1m3s\u001b[0m 61ms/step - accuracy: 0.3747 - loss: 1.5129 - val_accuracy: 0.4472 - val_loss: 1.5096\n",
            "Epoch 6/20\n",
            "\u001b[1m36/36\u001b[0m \u001b[32m━━━━━━━━━━━━━━━━━━━━\u001b[0m\u001b[37m\u001b[0m \u001b[1m2s\u001b[0m 65ms/step - accuracy: 0.4188 - loss: 1.5019 - val_accuracy: 0.4783 - val_loss: 1.4888\n",
            "Epoch 7/20\n",
            "\u001b[1m36/36\u001b[0m \u001b[32m━━━━━━━━━━━━━━━━━━━━\u001b[0m\u001b[37m\u001b[0m \u001b[1m2s\u001b[0m 59ms/step - accuracy: 0.4244 - loss: 1.4930 - val_accuracy: 0.4969 - val_loss: 1.4670\n",
            "Epoch 8/20\n",
            "\u001b[1m36/36\u001b[0m \u001b[32m━━━━━━━━━━━━━━━━━━━━\u001b[0m\u001b[37m\u001b[0m \u001b[1m2s\u001b[0m 58ms/step - accuracy: 0.4561 - loss: 1.4643 - val_accuracy: 0.5280 - val_loss: 1.4435\n",
            "Epoch 9/20\n",
            "\u001b[1m36/36\u001b[0m \u001b[32m━━━━━━━━━━━━━━━━━━━━\u001b[0m\u001b[37m\u001b[0m \u001b[1m2s\u001b[0m 63ms/step - accuracy: 0.5027 - loss: 1.4410 - val_accuracy: 0.5528 - val_loss: 1.4190\n",
            "Epoch 10/20\n",
            "\u001b[1m36/36\u001b[0m \u001b[32m━━━━━━━━━━━━━━━━━━━━\u001b[0m\u001b[37m\u001b[0m \u001b[1m2s\u001b[0m 63ms/step - accuracy: 0.5485 - loss: 1.4158 - val_accuracy: 0.5839 - val_loss: 1.3930\n",
            "Epoch 11/20\n",
            "\u001b[1m36/36\u001b[0m \u001b[32m━━━━━━━━━━━━━━━━━━━━\u001b[0m\u001b[37m\u001b[0m \u001b[1m2s\u001b[0m 58ms/step - accuracy: 0.6008 - loss: 1.3826 - val_accuracy: 0.6087 - val_loss: 1.3657\n",
            "Epoch 12/20\n",
            "\u001b[1m36/36\u001b[0m \u001b[32m━━━━━━━━━━━━━━━━━━━━\u001b[0m\u001b[37m\u001b[0m \u001b[1m2s\u001b[0m 68ms/step - accuracy: 0.5949 - loss: 1.3599 - val_accuracy: 0.6335 - val_loss: 1.3370\n",
            "Epoch 13/20\n",
            "\u001b[1m36/36\u001b[0m \u001b[32m━━━━━━━━━━━━━━━━━━━━\u001b[0m\u001b[37m\u001b[0m \u001b[1m2s\u001b[0m 67ms/step - accuracy: 0.6413 - loss: 1.3361 - val_accuracy: 0.6708 - val_loss: 1.3081\n",
            "Epoch 14/20\n",
            "\u001b[1m36/36\u001b[0m \u001b[32m━━━━━━━━━━━━━━━━━━━━\u001b[0m\u001b[37m\u001b[0m \u001b[1m2s\u001b[0m 62ms/step - accuracy: 0.6446 - loss: 1.3059 - val_accuracy: 0.6957 - val_loss: 1.2784\n",
            "Epoch 15/20\n",
            "\u001b[1m36/36\u001b[0m \u001b[32m━━━━━━━━━━━━━━━━━━━━\u001b[0m\u001b[37m\u001b[0m \u001b[1m2s\u001b[0m 57ms/step - accuracy: 0.6611 - loss: 1.2895 - val_accuracy: 0.7205 - val_loss: 1.2486\n",
            "Epoch 16/20\n",
            "\u001b[1m36/36\u001b[0m \u001b[32m━━━━━━━━━━━━━━━━━━━━\u001b[0m\u001b[37m\u001b[0m \u001b[1m2s\u001b[0m 62ms/step - accuracy: 0.6838 - loss: 1.2503 - val_accuracy: 0.7391 - val_loss: 1.2190\n",
            "Epoch 17/20\n",
            "\u001b[1m36/36\u001b[0m \u001b[32m━━━━━━━━━━━━━━━━━━━━\u001b[0m\u001b[37m\u001b[0m \u001b[1m3s\u001b[0m 65ms/step - accuracy: 0.6947 - loss: 1.2244 - val_accuracy: 0.7640 - val_loss: 1.1899\n",
            "Epoch 18/20\n",
            "\u001b[1m36/36\u001b[0m \u001b[32m━━━━━━━━━━━━━━━━━━━━\u001b[0m\u001b[37m\u001b[0m \u001b[1m3s\u001b[0m 65ms/step - accuracy: 0.7081 - loss: 1.1987 - val_accuracy: 0.7702 - val_loss: 1.1610\n",
            "Epoch 19/20\n",
            "\u001b[1m36/36\u001b[0m \u001b[32m━━━━━━━━━━━━━━━━━━━━\u001b[0m\u001b[37m\u001b[0m \u001b[1m2s\u001b[0m 62ms/step - accuracy: 0.7185 - loss: 1.1748 - val_accuracy: 0.7888 - val_loss: 1.1329\n",
            "Epoch 20/20\n",
            "\u001b[1m36/36\u001b[0m \u001b[32m━━━━━━━━━━━━━━━━━━━━\u001b[0m\u001b[37m\u001b[0m \u001b[1m2s\u001b[0m 58ms/step - accuracy: 0.7345 - loss: 1.1478 - val_accuracy: 0.8075 - val_loss: 1.1053\n"
          ]
        }
      ]
    },
    {
      "cell_type": "code",
      "source": [
        "# Unfreezing\n",
        "base_model.trainable = True\n",
        "\n",
        "# Optionally: freeze lower layers\n",
        "for layer in base_model.layers[:150]:\n",
        "    layer.trainable = False\n",
        "\n",
        "# Re-compile with a smaller learning rate\n",
        "model.compile(\n",
        "    optimizer=optimizers.Adam(learning_rate=1e-5),\n",
        "    loss='categorical_crossentropy',\n",
        "    metrics=['accuracy']\n",
        ")\n",
        "\n",
        "# Continue training\n",
        "fine_tune_history = model.fit(\n",
        "    train_ds,\n",
        "    validation_data=val_ds,\n",
        "    epochs=20,\n",
        "    callbacks=callback_list\n",
        ")"
      ],
      "metadata": {
        "colab": {
          "base_uri": "https://localhost:8080/"
        },
        "id": "LuBT7bckUDQe",
        "outputId": "ca9918b4-f380-44fd-b2e0-c2fc96105cf8"
      },
      "execution_count": null,
      "outputs": [
        {
          "output_type": "stream",
          "name": "stdout",
          "text": [
            "Epoch 1/20\n",
            "\u001b[1m36/36\u001b[0m \u001b[32m━━━━━━━━━━━━━━━━━━━━\u001b[0m\u001b[37m\u001b[0m \u001b[1m74s\u001b[0m 924ms/step - accuracy: 0.5085 - loss: 1.4219 - val_accuracy: 0.8199 - val_loss: 1.0771\n",
            "Epoch 2/20\n",
            "\u001b[1m36/36\u001b[0m \u001b[32m━━━━━━━━━━━━━━━━━━━━\u001b[0m\u001b[37m\u001b[0m \u001b[1m2s\u001b[0m 63ms/step - accuracy: 0.6120 - loss: 1.3449 - val_accuracy: 0.8137 - val_loss: 1.0391\n",
            "Epoch 3/20\n",
            "\u001b[1m36/36\u001b[0m \u001b[32m━━━━━━━━━━━━━━━━━━━━\u001b[0m\u001b[37m\u001b[0m \u001b[1m2s\u001b[0m 62ms/step - accuracy: 0.6687 - loss: 1.2662 - val_accuracy: 0.8199 - val_loss: 0.9863\n",
            "Epoch 4/20\n",
            "\u001b[1m36/36\u001b[0m \u001b[32m━━━━━━━━━━━━━━━━━━━━\u001b[0m\u001b[37m\u001b[0m \u001b[1m4s\u001b[0m 96ms/step - accuracy: 0.7189 - loss: 1.1763 - val_accuracy: 0.8447 - val_loss: 0.9241\n",
            "Epoch 5/20\n",
            "\u001b[1m36/36\u001b[0m \u001b[32m━━━━━━━━━━━━━━━━━━━━\u001b[0m\u001b[37m\u001b[0m \u001b[1m5s\u001b[0m 98ms/step - accuracy: 0.7891 - loss: 1.0874 - val_accuracy: 0.8944 - val_loss: 0.8580\n",
            "Epoch 6/20\n",
            "\u001b[1m36/36\u001b[0m \u001b[32m━━━━━━━━━━━━━━━━━━━━\u001b[0m\u001b[37m\u001b[0m \u001b[1m2s\u001b[0m 63ms/step - accuracy: 0.8129 - loss: 0.9991 - val_accuracy: 0.8944 - val_loss: 0.7918\n",
            "Epoch 7/20\n",
            "\u001b[1m36/36\u001b[0m \u001b[32m━━━━━━━━━━━━━━━━━━━━\u001b[0m\u001b[37m\u001b[0m \u001b[1m3s\u001b[0m 95ms/step - accuracy: 0.8548 - loss: 0.9064 - val_accuracy: 0.9130 - val_loss: 0.7280\n",
            "Epoch 8/20\n",
            "\u001b[1m36/36\u001b[0m \u001b[32m━━━━━━━━━━━━━━━━━━━━\u001b[0m\u001b[37m\u001b[0m \u001b[1m4s\u001b[0m 64ms/step - accuracy: 0.8704 - loss: 0.8411 - val_accuracy: 0.9130 - val_loss: 0.6667\n",
            "Epoch 9/20\n",
            "\u001b[1m36/36\u001b[0m \u001b[32m━━━━━━━━━━━━━━━━━━━━\u001b[0m\u001b[37m\u001b[0m \u001b[1m2s\u001b[0m 63ms/step - accuracy: 0.8818 - loss: 0.7663 - val_accuracy: 0.9130 - val_loss: 0.6077\n",
            "Epoch 10/20\n",
            "\u001b[1m36/36\u001b[0m \u001b[32m━━━━━━━━━━━━━━━━━━━━\u001b[0m\u001b[37m\u001b[0m \u001b[1m3s\u001b[0m 86ms/step - accuracy: 0.8985 - loss: 0.6953 - val_accuracy: 0.9193 - val_loss: 0.5558\n",
            "Epoch 11/20\n",
            "\u001b[1m36/36\u001b[0m \u001b[32m━━━━━━━━━━━━━━━━━━━━\u001b[0m\u001b[37m\u001b[0m \u001b[1m2s\u001b[0m 69ms/step - accuracy: 0.9092 - loss: 0.6370 - val_accuracy: 0.9193 - val_loss: 0.5046\n",
            "Epoch 12/20\n",
            "\u001b[1m36/36\u001b[0m \u001b[32m━━━━━━━━━━━━━━━━━━━━\u001b[0m\u001b[37m\u001b[0m \u001b[1m2s\u001b[0m 66ms/step - accuracy: 0.9168 - loss: 0.5911 - val_accuracy: 0.9193 - val_loss: 0.4572\n",
            "Epoch 13/20\n",
            "\u001b[1m36/36\u001b[0m \u001b[32m━━━━━━━━━━━━━━━━━━━━\u001b[0m\u001b[37m\u001b[0m \u001b[1m3s\u001b[0m 86ms/step - accuracy: 0.9364 - loss: 0.5352 - val_accuracy: 0.9255 - val_loss: 0.4170\n",
            "Epoch 14/20\n",
            "\u001b[1m36/36\u001b[0m \u001b[32m━━━━━━━━━━━━━━━━━━━━\u001b[0m\u001b[37m\u001b[0m \u001b[1m3s\u001b[0m 87ms/step - accuracy: 0.9408 - loss: 0.4806 - val_accuracy: 0.9317 - val_loss: 0.3798\n",
            "Epoch 15/20\n",
            "\u001b[1m36/36\u001b[0m \u001b[32m━━━━━━━━━━━━━━━━━━━━\u001b[0m\u001b[37m\u001b[0m \u001b[1m3s\u001b[0m 86ms/step - accuracy: 0.9495 - loss: 0.4350 - val_accuracy: 0.9379 - val_loss: 0.3464\n",
            "Epoch 16/20\n",
            "\u001b[1m36/36\u001b[0m \u001b[32m━━━━━━━━━━━━━━━━━━━━\u001b[0m\u001b[37m\u001b[0m \u001b[1m3s\u001b[0m 71ms/step - accuracy: 0.9489 - loss: 0.4049 - val_accuracy: 0.9379 - val_loss: 0.3168\n",
            "Epoch 17/20\n",
            "\u001b[1m36/36\u001b[0m \u001b[32m━━━━━━━━━━━━━━━━━━━━\u001b[0m\u001b[37m\u001b[0m \u001b[1m2s\u001b[0m 64ms/step - accuracy: 0.9622 - loss: 0.3532 - val_accuracy: 0.9379 - val_loss: 0.2900\n",
            "Epoch 18/20\n",
            "\u001b[1m36/36\u001b[0m \u001b[32m━━━━━━━━━━━━━━━━━━━━\u001b[0m\u001b[37m\u001b[0m \u001b[1m2s\u001b[0m 68ms/step - accuracy: 0.9650 - loss: 0.3141 - val_accuracy: 0.9379 - val_loss: 0.2670\n",
            "Epoch 19/20\n",
            "\u001b[1m36/36\u001b[0m \u001b[32m━━━━━━━━━━━━━━━━━━━━\u001b[0m\u001b[37m\u001b[0m \u001b[1m3s\u001b[0m 67ms/step - accuracy: 0.9660 - loss: 0.2888 - val_accuracy: 0.9379 - val_loss: 0.2467\n",
            "Epoch 20/20\n",
            "\u001b[1m36/36\u001b[0m \u001b[32m━━━━━━━━━━━━━━━━━━━━\u001b[0m\u001b[37m\u001b[0m \u001b[1m3s\u001b[0m 85ms/step - accuracy: 0.9778 - loss: 0.2639 - val_accuracy: 0.9441 - val_loss: 0.2292\n"
          ]
        }
      ]
    },
    {
      "cell_type": "code",
      "source": [
        "model.save(\"efficientnet_cbam_wheat.keras\")"
      ],
      "metadata": {
        "id": "12UW41yHUYvV"
      },
      "execution_count": null,
      "outputs": []
    },
    {
      "cell_type": "markdown",
      "source": [
        "EVALUATION"
      ],
      "metadata": {
        "id": "Pt82UXbjVtXZ"
      }
    },
    {
      "cell_type": "code",
      "source": [
        "import tensorflow as tf\n",
        "model = tf.keras.models.load_model(\n",
        "    \"efficientnet_cbam_wheat.keras\",\n",
        "    custom_objects={\n",
        "        \"cbam_block\": cbam_block,\n",
        "        \"ChannelMean\": ChannelMean,\n",
        "        \"ChannelMax\": ChannelMax\n",
        "\n",
        "    }\n",
        ")"
      ],
      "metadata": {
        "id": "8M7P_4klbx5z"
      },
      "execution_count": null,
      "outputs": []
    },
    {
      "cell_type": "code",
      "source": [
        "from tensorflow.keras.models import load_model\n",
        "\n",
        "model = load_model(\"efficientnet_cbam_wheat.keras\", custom_objects={\n",
        "    \"cbam_block\": cbam_block,\n",
        "    \"ChannelMean\": ChannelMean,\n",
        "    \"ChannelMax\": ChannelMax\n",
        "})"
      ],
      "metadata": {
        "id": "lXHfnnQDWNnr"
      },
      "execution_count": null,
      "outputs": []
    },
    {
      "cell_type": "code",
      "source": [
        "loss, accuracy = model.evaluate(test_ds)\n",
        "print(f\"Test Accuracy: {accuracy:.4f}\")\n",
        "print(f\"Test Loss: {loss:.4f}\")"
      ],
      "metadata": {
        "colab": {
          "base_uri": "https://localhost:8080/"
        },
        "id": "4d5NmAcLVzzL",
        "outputId": "14162498-59e4-4e06-b32e-0d2e5a854679"
      },
      "execution_count": null,
      "outputs": [
        {
          "output_type": "stream",
          "name": "stdout",
          "text": [
            "\u001b[1m10/10\u001b[0m \u001b[32m━━━━━━━━━━━━━━━━━━━━\u001b[0m\u001b[37m\u001b[0m \u001b[1m11s\u001b[0m 105ms/step - accuracy: 0.9374 - loss: 0.2848\n",
            "Test Accuracy: 0.9594\n",
            "Test Loss: 0.2552\n"
          ]
        }
      ]
    },
    {
      "cell_type": "code",
      "source": [
        "import numpy as np\n",
        "\n",
        "# Get predictions\n",
        "y_pred_probs = model.predict(test_ds)\n",
        "y_pred = np.argmax(y_pred_probs, axis=1)\n",
        "\n",
        "# Get true labels\n",
        "y_true = np.concatenate([np.argmax(label, axis=-1) for _, label in test_ds])"
      ],
      "metadata": {
        "colab": {
          "base_uri": "https://localhost:8080/"
        },
        "id": "-uFb5EPzj0DI",
        "outputId": "74a37575-96ba-4481-a5d3-d495cf29a4f1"
      },
      "execution_count": null,
      "outputs": [
        {
          "output_type": "stream",
          "name": "stdout",
          "text": [
            "\u001b[1m10/10\u001b[0m \u001b[32m━━━━━━━━━━━━━━━━━━━━\u001b[0m\u001b[37m\u001b[0m \u001b[1m6s\u001b[0m 36ms/step\n"
          ]
        }
      ]
    },
    {
      "cell_type": "code",
      "source": [
        "# confusion matrix and classification report\n",
        "from sklearn.metrics import confusion_matrix, classification_report\n",
        "import seaborn as sns\n",
        "import matplotlib.pyplot as plt\n",
        "\n",
        "# Confusion Matrix\n",
        "cm = confusion_matrix(y_true, y_pred)\n",
        "plt.figure(figsize=(8, 6))\n",
        "sns.heatmap(cm, annot=True, fmt=\"d\", cmap=\"Blues\")\n",
        "plt.xlabel(\"Predicted Label\")\n",
        "plt.ylabel(\"True Label\")\n",
        "plt.title(\"Confusion Matrix\")\n",
        "plt.show()\n",
        "\n",
        "# Classification Report\n",
        "print(\"Classification Report:\")\n",
        "print(classification_report(y_true, y_pred))"
      ],
      "metadata": {
        "colab": {
          "base_uri": "https://localhost:8080/",
          "height": 790
        },
        "id": "YavUbQiKkFbh",
        "outputId": "963e305c-d7ec-4b6d-d1f9-f6fda359edd8"
      },
      "execution_count": null,
      "outputs": [
        {
          "output_type": "display_data",
          "data": {
            "text/plain": [
              "<Figure size 800x600 with 2 Axes>"
            ],
            "image/png": "[encoded data removed]"
          },
          "metadata": {}
        },
        {
          "output_type": "stream",
          "name": "stdout",
          "text": [
            "Classification Report:\n",
            "              precision    recall  f1-score   support\n",
            "\n",
            "           0       0.92      0.98      0.95        60\n",
            "           1       0.88      1.00      0.93        50\n",
            "           2       0.97      0.76      0.85        50\n",
            "           3       1.00      1.00      1.00        80\n",
            "           4       1.00      1.00      1.00        80\n",
            "\n",
            "    accuracy                           0.96       320\n",
            "   macro avg       0.95      0.95      0.95       320\n",
            "weighted avg       0.96      0.96      0.96       320\n",
            "\n"
          ]
        }
      ]
    },
    {
      "cell_type": "code",
      "source": [
        "# roc-auc\n",
        "from sklearn.metrics import roc_curve, auc\n",
        "from sklearn.preprocessing import label_binarize\n",
        "from sklearn.metrics import roc_auc_score\n",
        "\n",
        "n_classes = y_pred_probs.shape[1]\n",
        "y_true_bin = label_binarize(y_true, classes=list(range(n_classes)))\n",
        "\n",
        "# Computeing ROC AUC\n",
        "fpr = dict()\n",
        "tpr = dict()\n",
        "roc_auc = dict()\n",
        "\n",
        "for i in range(n_classes):\n",
        "    fpr[i], tpr[i], _ = roc_curve(y_true_bin[:, i], y_pred_probs[:, i])\n",
        "    roc_auc[i] = auc(fpr[i], tpr[i])\n",
        "\n",
        "# Plotting all ROC curves\n",
        "plt.figure(figsize=(10, 8))\n",
        "for i in range(n_classes):\n",
        "    plt.plot(fpr[i], tpr[i], label=f\"Class {i} (AUC = {roc_auc[i]:.2f})\")\n",
        "\n",
        "plt.plot([0, 1], [0, 1], \"k--\")  # Diagonal line\n",
        "plt.xlabel(\"False Positive Rate\")\n",
        "plt.ylabel(\"True Positive Rate\")\n",
        "plt.title(\"ROC-AUC Curve (Multi-class)\")\n",
        "plt.legend(loc=\"lower right\")\n",
        "plt.grid(True)\n",
        "plt.show()\n",
        "\n",
        "# Overall AUC\n",
        "print(f\"Macro ROC-AUC Score: {roc_auc_score(y_true_bin, y_pred_probs, average='macro'):.4f}\")"
      ],
      "metadata": {
        "colab": {
          "base_uri": "https://localhost:8080/",
          "height": 735
        },
        "id": "mOOlC_wMkNIP",
        "outputId": "65e30794-db58-4e16-f760-f16badd7a17f"
      },
      "execution_count": null,
      "outputs": [
        {
          "output_type": "display_data",
          "data": {
            "text/plain": [
              "<Figure size 1000x800 with 1 Axes>"
            ],
            "image/png": "[encoded data removed]"
          },
          "metadata": {}
        },
        {
          "output_type": "stream",
          "name": "stdout",
          "text": [
            "Macro ROC-AUC Score: 0.9924\n"
          ]
        }
      ]
    },
    {
      "cell_type": "code",
      "source": [
        "from google.colab import files\n",
        "files.download('efficientnet_cbam_wheat.keras')"
      ],
      "metadata": {
        "colab": {
          "base_uri": "https://localhost:8080/",
          "height": 17
        },
        "id": "_ldpEOxWBQqQ",
        "outputId": "66157d1a-f85d-4d6a-b23a-da421527ee46"
      },
      "execution_count": null,
      "outputs": [
        {
          "output_type": "display_data",
          "data": {
            "text/plain": [
              "<IPython.core.display.Javascript object>"
            ],
            "application/javascript": [
              "\n",
              "    async function download(id, filename, size) {\n",
              "      if (!google.colab.kernel.accessAllowed) {\n",
              "        return;\n",
              "      }\n",
              "      const div = document.createElement('div');\n",
              "      const label = document.createElement('label');\n",
              "      label.textContent = `Downloading \"${filename}\": `;\n",
              "      div.appendChild(label);\n",
              "      const progress = document.createElement('progress');\n",
              "      progress.max = size;\n",
              "      div.appendChild(progress);\n",
              "      document.body.appendChild(div);\n",
              "\n",
              "      const buffers = [];\n",
              "      let downloaded = 0;\n",
              "\n",
              "      const channel = await google.colab.kernel.comms.open(id);\n",
              "      // Send a message to notify the kernel that we're ready.\n",
              "      channel.send({})\n",
              "\n",
              "      for await (const message of channel.messages) {\n",
              "        // Send a message to notify the kernel that we're ready.\n",
              "        channel.send({})\n",
              "        if (message.buffers) {\n",
              "          for (const buffer of message.buffers) {\n",
              "            buffers.push(buffer);\n",
              "            downloaded += buffer.byteLength;\n",
              "            progress.value = downloaded;\n",
              "          }\n",
              "        }\n",
              "      }\n",
              "      const blob = new Blob(buffers, {type: 'application/binary'});\n",
              "      const a = document.createElement('a');\n",
              "      a.href = window.URL.createObjectURL(blob);\n",
              "      a.download = filename;\n",
              "      div.appendChild(a);\n",
              "      a.click();\n",
              "      div.remove();\n",
              "    }\n",
              "  "
            ]
          },
          "metadata": {}
        },
        {
          "output_type": "display_data",
          "data": {
            "text/plain": [
              "<IPython.core.display.Javascript object>"
            ],
            "application/javascript": [
              "download(\"download_da1346de-bb79-46f2-bb67-4d1f227a5087\", \"efficientnet_cbam_wheat.keras\", 48461023)"
            ]
          },
          "metadata": {}
        }
      ]
    },
    {
      "cell_type": "markdown",
      "source": [
        "MOBILENETV2"
      ],
      "metadata": {
        "id": "5jYUqlUkqA08"
      }
    },
    {
      "cell_type": "code",
      "source": [
        "#new model\n",
        "from tensorflow.keras import backend as K\n",
        "K.clear_session()"
      ],
      "metadata": {
        "id": "RAwkY7Bmk6TM"
      },
      "execution_count": null,
      "outputs": []
    },
    {
      "cell_type": "code",
      "source": [
        "# Defining mobilenet-V2\n",
        "import os\n",
        "import numpy as np\n",
        "import matplotlib.pyplot as plt\n",
        "import tensorflow as tf\n",
        "import pandas as pd\n",
        "from tensorflow.keras.preprocessing.image import ImageDataGenerator\n",
        "from tensorflow.keras import layers, models\n",
        "from tensorflow.keras.applications import MobileNetV2\n",
        "from tensorflow.keras.applications.mobilenet_v2 import preprocess_input as mobilenet_preprocess\n",
        "from tensorflow.keras.applications.resnet50 import preprocess_input as resnet_preprocess\n",
        "from sklearn.metrics import classification_report, confusion_matrix\n",
        "import seaborn as sns"
      ],
      "metadata": {
        "id": "zi-xQibhg4g5"
      },
      "execution_count": null,
      "outputs": []
    },
    {
      "cell_type": "code",
      "source": [
        "from tensorflow.keras.layers import Layer\n",
        "from tensorflow.keras.utils import register_keras_serializable\n",
        "import tensorflow as tf\n",
        "\n",
        "@register_keras_serializable()\n",
        "class ChannelMean(Layer):\n",
        "    def call(self, inputs):\n",
        "        return tf.reduce_mean(inputs, axis=-1, keepdims=True)\n",
        "\n",
        "@register_keras_serializable()\n",
        "class ChannelMax(Layer):\n",
        "    def call(self, inputs):\n",
        "        return tf.reduce_max(inputs, axis=-1, keepdims=True)\n",
        "\n",
        "class CBAM(tf.keras.layers.Layer):\n",
        "    def __init__(self, ratio=8, **kwargs):\n",
        "        super().__init__(**kwargs)\n",
        "        self.ratio = ratio\n",
        "        self.channel_mean = ChannelMean()\n",
        "        self.channel_max = ChannelMax()\n",
        "        self.spatial_conv = tf.keras.layers.Conv2D(filters=1, kernel_size=7, padding='same', activation='sigmoid')\n",
        "\n",
        "    def build(self, input_shape):\n",
        "        channel = input_shape[-1]\n",
        "\n",
        "        # Define shared MLP for channel attention\n",
        "        self.shared_dense_1 = tf.keras.layers.Dense(channel // self.ratio, activation='relu')\n",
        "        self.shared_dense_2 = tf.keras.layers.Dense(channel)\n",
        "\n",
        "    def call(self, inputs):\n",
        "        # ----- Channel Attention -----\n",
        "        avg_pool = tf.reduce_mean(inputs, axis=[1, 2])  # shape: (batch, channels)\n",
        "        max_pool = tf.reduce_max(inputs, axis=[1, 2])  # shape: (batch, channels)\n",
        "\n",
        "        avg_out = self.shared_dense_2(self.shared_dense_1(avg_pool))\n",
        "        max_out = self.shared_dense_2(self.shared_dense_1(max_pool))\n",
        "\n",
        "        channel_attention = tf.nn.sigmoid(avg_out + max_out)\n",
        "        channel_attention = tf.reshape(channel_attention, [-1, 1, 1, inputs.shape[-1]])\n",
        "        x = inputs * channel_attention\n",
        "\n",
        "        # ----- Spatial Attention -----\n",
        "        avg_pool_spatial = self.channel_mean(x)\n",
        "        max_pool_spatial = self.channel_max(x)\n",
        "        concat = tf.concat([avg_pool_spatial, max_pool_spatial], axis=-1)\n",
        "\n",
        "        spatial_attention = self.spatial_conv(concat)\n",
        "        refined_feature = x * spatial_attention\n",
        "\n",
        "        return refined_feature\n"
      ],
      "metadata": {
        "id": "dVWY-o2cl7gh"
      },
      "execution_count": null,
      "outputs": []
    },
    {
      "cell_type": "code",
      "source": [
        "def build_mobilenet_cbam_model(input_shape=(224, 224, 3), num_classes=5):\n",
        "    base_model = MobileNetV2(weights='imagenet', include_top=False, input_shape=input_shape)\n",
        "    base_model.trainable = False  # freezing base model\n",
        "\n",
        "    inputs = layers.Input(shape=input_shape)\n",
        "    x = base_model(inputs, training=False)\n",
        "    x = CBAM()(x)\n",
        "    x = layers.GlobalAveragePooling2D()(x)\n",
        "    x = layers.Dense(128, activation='relu')(x)\n",
        "    x = layers.Dropout(0.5)(x)\n",
        "    outputs = layers.Dense(num_classes, activation='softmax')(x)\n",
        "\n",
        "    return tf.keras.Model(inputs, outputs)"
      ],
      "metadata": {
        "id": "Bf5_DkMof8qL"
      },
      "execution_count": null,
      "outputs": []
    },
    {
      "cell_type": "code",
      "source": [
        "# Clear session before building\n",
        "from tensorflow.keras import backend as K\n",
        "\n",
        "mobilenet_cbam_model = build_mobilenet_cbam_model()\n",
        "\n",
        "# Clear session after building but before compilation\n",
        "K.clear_session()\n",
        "\n",
        "mobilenet_cbam_model.compile(\n",
        "    optimizer=optimizers.Adam(learning_rate=1e-4),\n",
        "    loss='categorical_crossentropy',\n",
        "    metrics=['accuracy']\n",
        ")\n",
        "\n",
        "mobilenet_cbam_callbacks = [\n",
        "    callbacks.ModelCheckpoint(\n",
        "        filepath='mobilenet_cbam_model.keras',\n",
        "        monitor='val_accuracy',\n",
        "        save_best_only=True,\n",
        "        verbose=1\n",
        "    ),\n",
        "    callbacks.EarlyStopping(\n",
        "        monitor='val_loss',\n",
        "        patience=3,\n",
        "        restore_best_weights=True,\n",
        "        verbose=1\n",
        "    )\n",
        "]\n",
        "\n",
        "history_cbam = mobilenet_cbam_model.fit(\n",
        "    train_ds,\n",
        "    validation_data=val_ds,\n",
        "    epochs=20,\n",
        "    callbacks=mobilenet_cbam_callbacks\n",
        ")"
      ],
      "metadata": {
        "colab": {
          "base_uri": "https://localhost:8080/"
        },
        "id": "CAsD-xyfgC4R",
        "outputId": "5af2ee7f-c02b-472a-cd17-2e2e0285e2f5"
      },
      "execution_count": null,
      "outputs": [
        {
          "output_type": "stream",
          "name": "stdout",
          "text": [
            "Epoch 1/20\n",
            "\u001b[1m36/36\u001b[0m \u001b[32m━━━━━━━━━━━━━━━━━━━━\u001b[0m\u001b[37m\u001b[0m \u001b[1m0s\u001b[0m 828ms/step - accuracy: 0.2733 - loss: 1.6549\n",
            "Epoch 1: val_accuracy improved from -inf to 0.37267, saving model to mobilenet_cbam_model.keras\n",
            "\u001b[1m36/36\u001b[0m \u001b[32m━━━━━━━━━━━━━━━━━━━━\u001b[0m\u001b[37m\u001b[0m \u001b[1m49s\u001b[0m 1s/step - accuracy: 0.2745 - loss: 1.6531 - val_accuracy: 0.3727 - val_loss: 1.5019\n",
            "Epoch 2/20\n",
            "\u001b[1m35/36\u001b[0m \u001b[32m━━━━━━━━━━━━━━━━━━━\u001b[0m\u001b[37m━\u001b[0m \u001b[1m0s\u001b[0m 33ms/step - accuracy: 0.3765 - loss: 1.4434\n",
            "Epoch 2: val_accuracy did not improve from 0.37267\n",
            "\u001b[1m36/36\u001b[0m \u001b[32m━━━━━━━━━━━━━━━━━━━━\u001b[0m\u001b[37m\u001b[0m \u001b[1m40s\u001b[0m 39ms/step - accuracy: 0.3788 - loss: 1.4409 - val_accuracy: 0.3540 - val_loss: 1.4345\n",
            "Epoch 3/20\n",
            "\u001b[1m35/36\u001b[0m \u001b[32m━━━━━━━━━━━━━━━━━━━\u001b[0m\u001b[37m━\u001b[0m \u001b[1m0s\u001b[0m 30ms/step - accuracy: 0.4962 - loss: 1.2946\n",
            "Epoch 3: val_accuracy did not improve from 0.37267\n",
            "\u001b[1m36/36\u001b[0m \u001b[32m━━━━━━━━━━━━━━━━━━━━\u001b[0m\u001b[37m\u001b[0m \u001b[1m1s\u001b[0m 36ms/step - accuracy: 0.4971 - loss: 1.2930 - val_accuracy: 0.3727 - val_loss: 1.3841\n",
            "Epoch 4/20\n",
            "\u001b[1m35/36\u001b[0m \u001b[32m━━━━━━━━━━━━━━━━━━━\u001b[0m\u001b[37m━\u001b[0m \u001b[1m0s\u001b[0m 30ms/step - accuracy: 0.5353 - loss: 1.1866\n",
            "Epoch 4: val_accuracy improved from 0.37267 to 0.39130, saving model to mobilenet_cbam_model.keras\n",
            "\u001b[1m36/36\u001b[0m \u001b[32m━━━━━━━━━━━━━━━━━━━━\u001b[0m\u001b[37m\u001b[0m \u001b[1m2s\u001b[0m 49ms/step - accuracy: 0.5360 - loss: 1.1851 - val_accuracy: 0.3913 - val_loss: 1.3518\n",
            "Epoch 5/20\n",
            "\u001b[1m35/36\u001b[0m \u001b[32m━━━━━━━━━━━━━━━━━━━\u001b[0m\u001b[37m━\u001b[0m \u001b[1m0s\u001b[0m 31ms/step - accuracy: 0.5695 - loss: 1.1130\n",
            "Epoch 5: val_accuracy improved from 0.39130 to 0.44099, saving model to mobilenet_cbam_model.keras\n",
            "\u001b[1m36/36\u001b[0m \u001b[32m━━━━━━━━━━━━━━━━━━━━\u001b[0m\u001b[37m\u001b[0m \u001b[1m2s\u001b[0m 50ms/step - accuracy: 0.5704 - loss: 1.1117 - val_accuracy: 0.4410 - val_loss: 1.2982\n",
            "Epoch 6/20\n",
            "\u001b[1m35/36\u001b[0m \u001b[32m━━━━━━━━━━━━━━━━━━━\u001b[0m\u001b[37m━\u001b[0m \u001b[1m0s\u001b[0m 30ms/step - accuracy: 0.5970 - loss: 1.0389\n",
            "Epoch 6: val_accuracy improved from 0.44099 to 0.47205, saving model to mobilenet_cbam_model.keras\n",
            "\u001b[1m36/36\u001b[0m \u001b[32m━━━━━━━━━━━━━━━━━━━━\u001b[0m\u001b[37m\u001b[0m \u001b[1m2s\u001b[0m 49ms/step - accuracy: 0.5978 - loss: 1.0379 - val_accuracy: 0.4720 - val_loss: 1.2657\n",
            "Epoch 7/20\n",
            "\u001b[1m35/36\u001b[0m \u001b[32m━━━━━━━━━━━━━━━━━━━\u001b[0m\u001b[37m━\u001b[0m \u001b[1m0s\u001b[0m 30ms/step - accuracy: 0.6361 - loss: 0.9662\n",
            "Epoch 7: val_accuracy did not improve from 0.47205\n",
            "\u001b[1m36/36\u001b[0m \u001b[32m━━━━━━━━━━━━━━━━━━━━\u001b[0m\u001b[37m\u001b[0m \u001b[1m1s\u001b[0m 34ms/step - accuracy: 0.6373 - loss: 0.9648 - val_accuracy: 0.4286 - val_loss: 1.2826\n",
            "Epoch 8/20\n",
            "\u001b[1m35/36\u001b[0m \u001b[32m━━━━━━━━━━━━━━━━━━━\u001b[0m\u001b[37m━\u001b[0m \u001b[1m0s\u001b[0m 33ms/step - accuracy: 0.6639 - loss: 0.8967\n",
            "Epoch 8: val_accuracy did not improve from 0.47205\n",
            "\u001b[1m36/36\u001b[0m \u001b[32m━━━━━━━━━━━━━━━━━━━━\u001b[0m\u001b[37m\u001b[0m \u001b[1m1s\u001b[0m 39ms/step - accuracy: 0.6647 - loss: 0.8955 - val_accuracy: 0.4472 - val_loss: 1.2187\n",
            "Epoch 9/20\n",
            "\u001b[1m35/36\u001b[0m \u001b[32m━━━━━━━━━━━━━━━━━━━\u001b[0m\u001b[37m━\u001b[0m \u001b[1m0s\u001b[0m 31ms/step - accuracy: 0.6954 - loss: 0.8499\n",
            "Epoch 9: val_accuracy did not improve from 0.47205\n",
            "\u001b[1m36/36\u001b[0m \u001b[32m━━━━━━━━━━━━━━━━━━━━\u001b[0m\u001b[37m\u001b[0m \u001b[1m2s\u001b[0m 35ms/step - accuracy: 0.6960 - loss: 0.8485 - val_accuracy: 0.4348 - val_loss: 1.2465\n",
            "Epoch 10/20\n",
            "\u001b[1m35/36\u001b[0m \u001b[32m━━━━━━━━━━━━━━━━━━━\u001b[0m\u001b[37m━\u001b[0m \u001b[1m0s\u001b[0m 31ms/step - accuracy: 0.7143 - loss: 0.8143\n",
            "Epoch 10: val_accuracy improved from 0.47205 to 0.47826, saving model to mobilenet_cbam_model.keras\n",
            "\u001b[1m36/36\u001b[0m \u001b[32m━━━━━━━━━━━━━━━━━━━━\u001b[0m\u001b[37m\u001b[0m \u001b[1m2s\u001b[0m 50ms/step - accuracy: 0.7146 - loss: 0.8124 - val_accuracy: 0.4783 - val_loss: 1.2076\n",
            "Epoch 11/20\n",
            "\u001b[1m35/36\u001b[0m \u001b[32m━━━━━━━━━━━━━━━━━━━\u001b[0m\u001b[37m━\u001b[0m \u001b[1m0s\u001b[0m 31ms/step - accuracy: 0.7587 - loss: 0.7209\n",
            "Epoch 11: val_accuracy improved from 0.47826 to 0.49068, saving model to mobilenet_cbam_model.keras\n",
            "\u001b[1m36/36\u001b[0m \u001b[32m━━━━━━━━━━━━━━━━━━━━\u001b[0m\u001b[37m\u001b[0m \u001b[1m2s\u001b[0m 50ms/step - accuracy: 0.7588 - loss: 0.7205 - val_accuracy: 0.4907 - val_loss: 1.1988\n",
            "Epoch 12/20\n",
            "\u001b[1m35/36\u001b[0m \u001b[32m━━━━━━━━━━━━━━━━━━━\u001b[0m\u001b[37m━\u001b[0m \u001b[1m0s\u001b[0m 30ms/step - accuracy: 0.7848 - loss: 0.6805\n",
            "Epoch 12: val_accuracy did not improve from 0.49068\n",
            "\u001b[1m36/36\u001b[0m \u001b[32m━━━━━━━━━━━━━━━━━━━━\u001b[0m\u001b[37m\u001b[0m \u001b[1m2s\u001b[0m 36ms/step - accuracy: 0.7846 - loss: 0.6800 - val_accuracy: 0.4720 - val_loss: 1.1802\n",
            "Epoch 13/20\n",
            "\u001b[1m35/36\u001b[0m \u001b[32m━━━━━━━━━━━━━━━━━━━\u001b[0m\u001b[37m━\u001b[0m \u001b[1m0s\u001b[0m 31ms/step - accuracy: 0.8002 - loss: 0.6308\n",
            "Epoch 13: val_accuracy improved from 0.49068 to 0.49689, saving model to mobilenet_cbam_model.keras\n",
            "\u001b[1m36/36\u001b[0m \u001b[32m━━━━━━━━━━━━━━━━━━━━\u001b[0m\u001b[37m\u001b[0m \u001b[1m3s\u001b[0m 47ms/step - accuracy: 0.7995 - loss: 0.6305 - val_accuracy: 0.4969 - val_loss: 1.2155\n",
            "Epoch 14/20\n",
            "\u001b[1m34/36\u001b[0m \u001b[32m━━━━━━━━━━━━━━━━━━\u001b[0m\u001b[37m━━\u001b[0m \u001b[1m0s\u001b[0m 33ms/step - accuracy: 0.8014 - loss: 0.5960\n",
            "Epoch 14: val_accuracy did not improve from 0.49689\n",
            "\u001b[1m36/36\u001b[0m \u001b[32m━━━━━━━━━━━━━━━━━━━━\u001b[0m\u001b[37m\u001b[0m \u001b[1m1s\u001b[0m 36ms/step - accuracy: 0.8010 - loss: 0.5954 - val_accuracy: 0.4658 - val_loss: 1.3059\n",
            "Epoch 15/20\n",
            "\u001b[1m35/36\u001b[0m \u001b[32m━━━━━━━━━━━━━━━━━━━\u001b[0m\u001b[37m━\u001b[0m \u001b[1m0s\u001b[0m 33ms/step - accuracy: 0.8011 - loss: 0.5597\n",
            "Epoch 15: val_accuracy did not improve from 0.49689\n",
            "\u001b[1m36/36\u001b[0m \u001b[32m━━━━━━━━━━━━━━━━━━━━\u001b[0m\u001b[37m\u001b[0m \u001b[1m1s\u001b[0m 37ms/step - accuracy: 0.8020 - loss: 0.5588 - val_accuracy: 0.4720 - val_loss: 1.2476\n",
            "Epoch 15: early stopping\n",
            "Restoring model weights from the end of the best epoch: 12.\n"
          ]
        }
      ]
    },
    {
      "cell_type": "code",
      "source": [
        "# Unfreeze the base model\n",
        "model.get_layer('mobilenetv2_1.00_224').trainable = True"
      ],
      "metadata": {
        "id": "-R896QikhnL3"
      },
      "execution_count": null,
      "outputs": []
    },
    {
      "cell_type": "code",
      "source": [
        "\n",
        "# Recompile with lower learning rate\n",
        "model.compile(\n",
        "    optimizer=optimizers.Adam(1e-5),\n",
        "    loss='categorical_crossentropy',\n",
        "    metrics=['accuracy']\n",
        ")\n",
        "\n",
        "# Fine-tuning callbacks\n",
        "fine_tune_callbacks = [\n",
        "    callbacks.ModelCheckpoint('mobilenet_cbam_finetuned.keras', monitor='val_accuracy', save_best_only=True, verbose=1),\n",
        "    callbacks.EarlyStopping(monitor='val_loss', patience=5, restore_best_weights=True, verbose=1),\n",
        "    callbacks.ReduceLROnPlateau(monitor='val_loss', factor=0.5, patience=2, min_lr=1e-6, verbose=1)\n",
        "]\n",
        "\n",
        "# Fine-tune for additional epochs\n",
        "history2 = model.fit(\n",
        "    train_ds,\n",
        "    validation_data=val_ds,\n",
        "    epochs=20,\n",
        "    callbacks=fine_tune_callbacks\n",
        ")"
      ],
      "metadata": {
        "id": "agOay2NSjYnU",
        "colab": {
          "base_uri": "https://localhost:8080/"
        },
        "outputId": "128be3b3-c4a1-4336-8112-52bf5b864cc0"
      },
      "execution_count": null,
      "outputs": [
        {
          "output_type": "stream",
          "name": "stdout",
          "text": [
            "Epoch 1/20\n",
            "\u001b[1m36/36\u001b[0m \u001b[32m━━━━━━━━━━━━━━━━━━━━\u001b[0m\u001b[37m\u001b[0m \u001b[1m0s\u001b[0m 713ms/step - accuracy: 0.2484 - loss: 3.6375\n",
            "Epoch 1: val_accuracy improved from -inf to 0.41615, saving model to mobilenet_cbam_finetuned.keras\n",
            "\u001b[1m36/36\u001b[0m \u001b[32m━━━━━━━━━━━━━━━━━━━━\u001b[0m\u001b[37m\u001b[0m \u001b[1m84s\u001b[0m 923ms/step - accuracy: 0.2496 - loss: 3.6267 - val_accuracy: 0.4161 - val_loss: 2.2304 - learning_rate: 1.0000e-05\n",
            "Epoch 2/20\n",
            "\u001b[1m35/36\u001b[0m \u001b[32m━━━━━━━━━━━━━━━━━━━\u001b[0m\u001b[37m━\u001b[0m \u001b[1m0s\u001b[0m 102ms/step - accuracy: 0.5171 - loss: 1.6067\n",
            "Epoch 2: val_accuracy improved from 0.41615 to 0.46584, saving model to mobilenet_cbam_finetuned.keras\n",
            "\u001b[1m36/36\u001b[0m \u001b[32m━━━━━━━━━━━━━━━━━━━━\u001b[0m\u001b[37m\u001b[0m \u001b[1m5s\u001b[0m 126ms/step - accuracy: 0.5182 - loss: 1.6033 - val_accuracy: 0.4658 - val_loss: 2.2384 - learning_rate: 1.0000e-05\n",
            "Epoch 3/20\n",
            "\u001b[1m35/36\u001b[0m \u001b[32m━━━━━━━━━━━━━━━━━━━\u001b[0m\u001b[37m━\u001b[0m \u001b[1m0s\u001b[0m 120ms/step - accuracy: 0.7001 - loss: 0.8811\n",
            "Epoch 3: val_accuracy improved from 0.46584 to 0.53416, saving model to mobilenet_cbam_finetuned.keras\n",
            "\u001b[1m36/36\u001b[0m \u001b[32m━━━━━━━━━━━━━━━━━━━━\u001b[0m\u001b[37m\u001b[0m \u001b[1m6s\u001b[0m 155ms/step - accuracy: 0.7005 - loss: 0.8794 - val_accuracy: 0.5342 - val_loss: 2.2255 - learning_rate: 1.0000e-05\n",
            "Epoch 4/20\n",
            "\u001b[1m35/36\u001b[0m \u001b[32m━━━━━━━━━━━━━━━━━━━\u001b[0m\u001b[37m━\u001b[0m \u001b[1m0s\u001b[0m 100ms/step - accuracy: 0.7936 - loss: 0.5725\n",
            "Epoch 4: val_accuracy improved from 0.53416 to 0.58385, saving model to mobilenet_cbam_finetuned.keras\n",
            "\u001b[1m36/36\u001b[0m \u001b[32m━━━━━━━━━━━━━━━━━━━━\u001b[0m\u001b[37m\u001b[0m \u001b[1m4s\u001b[0m 123ms/step - accuracy: 0.7936 - loss: 0.5719 - val_accuracy: 0.5839 - val_loss: 2.2388 - learning_rate: 1.0000e-05\n",
            "Epoch 5/20\n",
            "\u001b[1m35/36\u001b[0m \u001b[32m━━━━━━━━━━━━━━━━━━━\u001b[0m\u001b[37m━\u001b[0m \u001b[1m0s\u001b[0m 100ms/step - accuracy: 0.8522 - loss: 0.4016\n",
            "Epoch 5: val_accuracy did not improve from 0.58385\n",
            "\n",
            "Epoch 5: ReduceLROnPlateau reducing learning rate to 4.999999873689376e-06.\n",
            "\u001b[1m36/36\u001b[0m \u001b[32m━━━━━━━━━━━━━━━━━━━━\u001b[0m\u001b[37m\u001b[0m \u001b[1m4s\u001b[0m 102ms/step - accuracy: 0.8521 - loss: 0.4027 - val_accuracy: 0.5652 - val_loss: 2.2909 - learning_rate: 1.0000e-05\n",
            "Epoch 6/20\n",
            "\u001b[1m35/36\u001b[0m \u001b[32m━━━━━━━━━━━━━━━━━━━\u001b[0m\u001b[37m━\u001b[0m \u001b[1m0s\u001b[0m 103ms/step - accuracy: 0.8974 - loss: 0.3000\n",
            "Epoch 6: val_accuracy improved from 0.58385 to 0.59006, saving model to mobilenet_cbam_finetuned.keras\n",
            "\u001b[1m36/36\u001b[0m \u001b[32m━━━━━━━━━━━━━━━━━━━━\u001b[0m\u001b[37m\u001b[0m \u001b[1m5s\u001b[0m 139ms/step - accuracy: 0.8970 - loss: 0.3006 - val_accuracy: 0.5901 - val_loss: 2.2925 - learning_rate: 5.0000e-06\n",
            "Epoch 7/20\n",
            "\u001b[1m35/36\u001b[0m \u001b[32m━━━━━━━━━━━━━━━━━━━\u001b[0m\u001b[37m━\u001b[0m \u001b[1m0s\u001b[0m 101ms/step - accuracy: 0.9077 - loss: 0.2856\n",
            "Epoch 7: val_accuracy did not improve from 0.59006\n",
            "\n",
            "Epoch 7: ReduceLROnPlateau reducing learning rate to 2.499999936844688e-06.\n",
            "\u001b[1m36/36\u001b[0m \u001b[32m━━━━━━━━━━━━━━━━━━━━\u001b[0m\u001b[37m\u001b[0m \u001b[1m4s\u001b[0m 103ms/step - accuracy: 0.9074 - loss: 0.2862 - val_accuracy: 0.5652 - val_loss: 2.2638 - learning_rate: 5.0000e-06\n",
            "Epoch 8/20\n",
            "\u001b[1m35/36\u001b[0m \u001b[32m━━━━━━━━━━━━━━━━━━━\u001b[0m\u001b[37m━\u001b[0m \u001b[1m0s\u001b[0m 101ms/step - accuracy: 0.9238 - loss: 0.2161\n",
            "Epoch 8: val_accuracy did not improve from 0.59006\n",
            "\u001b[1m36/36\u001b[0m \u001b[32m━━━━━━━━━━━━━━━━━━━━\u001b[0m\u001b[37m\u001b[0m \u001b[1m4s\u001b[0m 106ms/step - accuracy: 0.9233 - loss: 0.2176 - val_accuracy: 0.5528 - val_loss: 2.1803 - learning_rate: 2.5000e-06\n",
            "Epoch 9/20\n",
            "\u001b[1m35/36\u001b[0m \u001b[32m━━━━━━━━━━━━━━━━━━━\u001b[0m\u001b[37m━\u001b[0m \u001b[1m0s\u001b[0m 102ms/step - accuracy: 0.9421 - loss: 0.1967\n",
            "Epoch 9: val_accuracy did not improve from 0.59006\n",
            "\u001b[1m36/36\u001b[0m \u001b[32m━━━━━━━━━━━━━━━━━━━━\u001b[0m\u001b[37m\u001b[0m \u001b[1m4s\u001b[0m 108ms/step - accuracy: 0.9416 - loss: 0.1979 - val_accuracy: 0.5652 - val_loss: 2.0669 - learning_rate: 2.5000e-06\n",
            "Epoch 10/20\n",
            "\u001b[1m35/36\u001b[0m \u001b[32m━━━━━━━━━━━━━━━━━━━\u001b[0m\u001b[37m━\u001b[0m \u001b[1m0s\u001b[0m 102ms/step - accuracy: 0.9457 - loss: 0.1977\n",
            "Epoch 10: val_accuracy did not improve from 0.59006\n",
            "\u001b[1m36/36\u001b[0m \u001b[32m━━━━━━━━━━━━━━━━━━━━\u001b[0m\u001b[37m\u001b[0m \u001b[1m5s\u001b[0m 106ms/step - accuracy: 0.9451 - loss: 0.1988 - val_accuracy: 0.5652 - val_loss: 1.9316 - learning_rate: 2.5000e-06\n",
            "Epoch 11/20\n",
            "\u001b[1m35/36\u001b[0m \u001b[32m━━━━━━━━━━━━━━━━━━━\u001b[0m\u001b[37m━\u001b[0m \u001b[1m0s\u001b[0m 101ms/step - accuracy: 0.9423 - loss: 0.1961\n",
            "Epoch 11: val_accuracy did not improve from 0.59006\n",
            "\u001b[1m36/36\u001b[0m \u001b[32m━━━━━━━━━━━━━━━━━━━━\u001b[0m\u001b[37m\u001b[0m \u001b[1m4s\u001b[0m 106ms/step - accuracy: 0.9419 - loss: 0.1972 - val_accuracy: 0.5528 - val_loss: 1.8278 - learning_rate: 2.5000e-06\n",
            "Epoch 12/20\n",
            "\u001b[1m35/36\u001b[0m \u001b[32m━━━━━━━━━━━━━━━━━━━\u001b[0m\u001b[37m━\u001b[0m \u001b[1m0s\u001b[0m 103ms/step - accuracy: 0.9466 - loss: 0.1865\n",
            "Epoch 12: val_accuracy did not improve from 0.59006\n",
            "\u001b[1m36/36\u001b[0m \u001b[32m━━━━━━━━━━━━━━━━━━━━\u001b[0m\u001b[37m\u001b[0m \u001b[1m4s\u001b[0m 109ms/step - accuracy: 0.9466 - loss: 0.1864 - val_accuracy: 0.5528 - val_loss: 1.7245 - learning_rate: 2.5000e-06\n",
            "Epoch 13/20\n",
            "\u001b[1m35/36\u001b[0m \u001b[32m━━━━━━━━━━━━━━━━━━━\u001b[0m\u001b[37m━\u001b[0m \u001b[1m0s\u001b[0m 103ms/step - accuracy: 0.9557 - loss: 0.1618\n",
            "Epoch 13: val_accuracy did not improve from 0.59006\n",
            "\u001b[1m36/36\u001b[0m \u001b[32m━━━━━━━━━━━━━━━━━━━━\u001b[0m\u001b[37m\u001b[0m \u001b[1m4s\u001b[0m 107ms/step - accuracy: 0.9554 - loss: 0.1626 - val_accuracy: 0.5776 - val_loss: 1.6171 - learning_rate: 2.5000e-06\n",
            "Epoch 14/20\n",
            "\u001b[1m35/36\u001b[0m \u001b[32m━━━━━━━━━━━━━━━━━━━\u001b[0m\u001b[37m━\u001b[0m \u001b[1m0s\u001b[0m 101ms/step - accuracy: 0.9636 - loss: 0.1503\n",
            "Epoch 14: val_accuracy did not improve from 0.59006\n",
            "\u001b[1m36/36\u001b[0m \u001b[32m━━━━━━━━━━━━━━━━━━━━\u001b[0m\u001b[37m\u001b[0m \u001b[1m4s\u001b[0m 106ms/step - accuracy: 0.9632 - loss: 0.1510 - val_accuracy: 0.5839 - val_loss: 1.5076 - learning_rate: 2.5000e-06\n",
            "Epoch 15/20\n",
            "\u001b[1m35/36\u001b[0m \u001b[32m━━━━━━━━━━━━━━━━━━━\u001b[0m\u001b[37m━\u001b[0m \u001b[1m0s\u001b[0m 102ms/step - accuracy: 0.9623 - loss: 0.1456\n",
            "Epoch 15: val_accuracy improved from 0.59006 to 0.61491, saving model to mobilenet_cbam_finetuned.keras\n",
            "\u001b[1m36/36\u001b[0m \u001b[32m━━━━━━━━━━━━━━━━━━━━\u001b[0m\u001b[37m\u001b[0m \u001b[1m5s\u001b[0m 132ms/step - accuracy: 0.9618 - loss: 0.1465 - val_accuracy: 0.6149 - val_loss: 1.3927 - learning_rate: 2.5000e-06\n",
            "Epoch 16/20\n",
            "\u001b[1m35/36\u001b[0m \u001b[32m━━━━━━━━━━━━━━━━━━━\u001b[0m\u001b[37m━\u001b[0m \u001b[1m0s\u001b[0m 105ms/step - accuracy: 0.9543 - loss: 0.1538\n",
            "Epoch 16: val_accuracy improved from 0.61491 to 0.65839, saving model to mobilenet_cbam_finetuned.keras\n",
            "\u001b[1m36/36\u001b[0m \u001b[32m━━━━━━━━━━━━━━━━━━━━\u001b[0m\u001b[37m\u001b[0m \u001b[1m5s\u001b[0m 130ms/step - accuracy: 0.9546 - loss: 0.1534 - val_accuracy: 0.6584 - val_loss: 1.3125 - learning_rate: 2.5000e-06\n",
            "Epoch 17/20\n",
            "\u001b[1m35/36\u001b[0m \u001b[32m━━━━━━━━━━━━━━━━━━━\u001b[0m\u001b[37m━\u001b[0m \u001b[1m0s\u001b[0m 101ms/step - accuracy: 0.9787 - loss: 0.1200\n",
            "Epoch 17: val_accuracy improved from 0.65839 to 0.66460, saving model to mobilenet_cbam_finetuned.keras\n",
            "\u001b[1m36/36\u001b[0m \u001b[32m━━━━━━━━━━━━━━━━━━━━\u001b[0m\u001b[37m\u001b[0m \u001b[1m5s\u001b[0m 128ms/step - accuracy: 0.9782 - loss: 0.1207 - val_accuracy: 0.6646 - val_loss: 1.2381 - learning_rate: 2.5000e-06\n",
            "Epoch 18/20\n",
            "\u001b[1m36/36\u001b[0m \u001b[32m━━━━━━━━━━━━━━━━━━━━\u001b[0m\u001b[37m\u001b[0m \u001b[1m0s\u001b[0m 111ms/step - accuracy: 0.9744 - loss: 0.1256\n",
            "Epoch 18: val_accuracy improved from 0.66460 to 0.67702, saving model to mobilenet_cbam_finetuned.keras\n",
            "\u001b[1m36/36\u001b[0m \u001b[32m━━━━━━━━━━━━━━━━━━━━\u001b[0m\u001b[37m\u001b[0m \u001b[1m7s\u001b[0m 190ms/step - accuracy: 0.9742 - loss: 0.1261 - val_accuracy: 0.6770 - val_loss: 1.1814 - learning_rate: 2.5000e-06\n",
            "Epoch 19/20\n",
            "\u001b[1m35/36\u001b[0m \u001b[32m━━━━━━━━━━━━━━━━━━━\u001b[0m\u001b[37m━\u001b[0m \u001b[1m0s\u001b[0m 120ms/step - accuracy: 0.9874 - loss: 0.1104\n",
            "Epoch 19: val_accuracy improved from 0.67702 to 0.68944, saving model to mobilenet_cbam_finetuned.keras\n",
            "\u001b[1m36/36\u001b[0m \u001b[32m━━━━━━━━━━━━━━━━━━━━\u001b[0m\u001b[37m\u001b[0m \u001b[1m5s\u001b[0m 145ms/step - accuracy: 0.9869 - loss: 0.1108 - val_accuracy: 0.6894 - val_loss: 1.1290 - learning_rate: 2.5000e-06\n",
            "Epoch 20/20\n",
            "\u001b[1m35/36\u001b[0m \u001b[32m━━━━━━━━━━━━━━━━━━━\u001b[0m\u001b[37m━\u001b[0m \u001b[1m0s\u001b[0m 101ms/step - accuracy: 0.9805 - loss: 0.1134\n",
            "Epoch 20: val_accuracy improved from 0.68944 to 0.72050, saving model to mobilenet_cbam_finetuned.keras\n",
            "\u001b[1m36/36\u001b[0m \u001b[32m━━━━━━━━━━━━━━━━━━━━\u001b[0m\u001b[37m\u001b[0m \u001b[1m5s\u001b[0m 126ms/step - accuracy: 0.9799 - loss: 0.1142 - val_accuracy: 0.7205 - val_loss: 1.0775 - learning_rate: 2.5000e-06\n",
            "Restoring model weights from the end of the best epoch: 20.\n"
          ]
        }
      ]
    },
    {
      "cell_type": "code",
      "source": [
        "model.save(\"mobilenet_cbam_final.keras\")"
      ],
      "metadata": {
        "id": "rbbqQlkdufZR"
      },
      "execution_count": null,
      "outputs": []
    },
    {
      "cell_type": "markdown",
      "source": [
        "EVALUATION OF MOBILENET-V2"
      ],
      "metadata": {
        "id": "qi1Jjm7DusPf"
      }
    },
    {
      "cell_type": "code",
      "source": [
        "# import os\n",
        "\n",
        "# # List all files in the current directory\n",
        "# print(os.listdir())"
      ],
      "metadata": {
        "colab": {
          "base_uri": "https://localhost:8080/"
        },
        "id": "Clzwr-UghN3q",
        "outputId": "d4b1fbb8-6d86-4663-bd7d-f7ed1543ff0b"
      },
      "execution_count": null,
      "outputs": [
        {
          "output_type": "stream",
          "name": "stdout",
          "text": [
            "['.config', 'nasnet_model.keras', 'drive', 'Original_Dataset', 'split_dataset', 'mobilenetv2_wheat.keras', 'nasnet_cbam_model.keras', 'sample_data']\n"
          ]
        }
      ]
    },
    {
      "cell_type": "code",
      "source": [
        "from tensorflow.keras.models import load_model\n",
        "\n",
        "# Loading the best model from training\n",
        "model_cbam_loaded = load_model('mobilenet_cbam_model.keras', custom_objects={'CBAM': CBAM})"
      ],
      "metadata": {
        "id": "sZAyiAZkgt51"
      },
      "execution_count": null,
      "outputs": []
    },
    {
      "cell_type": "code",
      "source": [
        "from tensorflow.keras.models import load_model\n",
        "\n",
        "model = load_model(\n",
        "    \"mobilenet_cbam_final.keras\",\n",
        "    custom_objects={\n",
        "        \"CBAM\": CBAM,\n",
        "        \"ChannelMean\": ChannelMean,\n",
        "        \"ChannelMax\": ChannelMax\n",
        "    }\n",
        ")"
      ],
      "metadata": {
        "id": "TPtsaoL0wqjm"
      },
      "execution_count": null,
      "outputs": []
    },
    {
      "cell_type": "code",
      "source": [
        "loss, acc = model.evaluate(test_ds)\n",
        "print(f\"Test Accuracy: {acc:.4f}\")\n",
        "print(f\"Test Loss: {loss:.4f}\")"
      ],
      "metadata": {
        "colab": {
          "base_uri": "https://localhost:8080/"
        },
        "id": "99Bwcl4mw0WJ",
        "outputId": "2086235b-4af8-401c-e481-1f8d506f7d2a"
      },
      "execution_count": null,
      "outputs": [
        {
          "output_type": "stream",
          "name": "stdout",
          "text": [
            "\u001b[1m10/10\u001b[0m \u001b[32m━━━━━━━━━━━━━━━━━━━━\u001b[0m\u001b[37m\u001b[0m \u001b[1m9s\u001b[0m 132ms/step - accuracy: 0.6462 - loss: 1.1766\n",
            "Test Accuracy: 0.6594\n",
            "Test Loss: 1.1161\n"
          ]
        }
      ]
    },
    {
      "cell_type": "code",
      "source": [
        "import numpy as np\n",
        "\n",
        "y_true = []\n",
        "y_pred = []\n",
        "y_prob = []\n",
        "\n",
        "for images, labels in test_ds:\n",
        "    preds = model.predict(images)\n",
        "    y_true.extend(tf.argmax(labels, axis=1).numpy())\n",
        "    y_pred.extend(tf.argmax(preds, axis=1).numpy())\n",
        "    y_prob.extend(preds)  # raw probabilities"
      ],
      "metadata": {
        "colab": {
          "base_uri": "https://localhost:8080/"
        },
        "id": "6GnGmX2Rxcp1",
        "outputId": "a950d3a1-97f4-45f7-8460-90caba402399"
      },
      "execution_count": null,
      "outputs": [
        {
          "output_type": "stream",
          "name": "stdout",
          "text": [
            "\u001b[1m1/1\u001b[0m \u001b[32m━━━━━━━━━━━━━━━━━━━━\u001b[0m\u001b[37m\u001b[0m \u001b[1m8s\u001b[0m 8s/step\n",
            "\u001b[1m1/1\u001b[0m \u001b[32m━━━━━━━━━━━━━━━━━━━━\u001b[0m\u001b[37m\u001b[0m \u001b[1m0s\u001b[0m 319ms/step\n",
            "\u001b[1m1/1\u001b[0m \u001b[32m━━━━━━━━━━━━━━━━━━━━\u001b[0m\u001b[37m\u001b[0m \u001b[1m0s\u001b[0m 99ms/step\n",
            "\u001b[1m1/1\u001b[0m \u001b[32m━━━━━━━━━━━━━━━━━━━━\u001b[0m\u001b[37m\u001b[0m \u001b[1m0s\u001b[0m 115ms/step\n",
            "\u001b[1m1/1\u001b[0m \u001b[32m━━━━━━━━━━━━━━━━━━━━\u001b[0m\u001b[37m\u001b[0m \u001b[1m0s\u001b[0m 118ms/step\n",
            "\u001b[1m1/1\u001b[0m \u001b[32m━━━━━━━━━━━━━━━━━━━━\u001b[0m\u001b[37m\u001b[0m \u001b[1m0s\u001b[0m 179ms/step\n",
            "\u001b[1m1/1\u001b[0m \u001b[32m━━━━━━━━━━━━━━━━━━━━\u001b[0m\u001b[37m\u001b[0m \u001b[1m0s\u001b[0m 89ms/step\n",
            "\u001b[1m1/1\u001b[0m \u001b[32m━━━━━━━━━━━━━━━━━━━━\u001b[0m\u001b[37m\u001b[0m \u001b[1m0s\u001b[0m 73ms/step\n",
            "\u001b[1m1/1\u001b[0m \u001b[32m━━━━━━━━━━━━━━━━━━━━\u001b[0m\u001b[37m\u001b[0m \u001b[1m0s\u001b[0m 71ms/step\n",
            "\u001b[1m1/1\u001b[0m \u001b[32m━━━━━━━━━━━━━━━━━━━━\u001b[0m\u001b[37m\u001b[0m \u001b[1m8s\u001b[0m 8s/step\n"
          ]
        }
      ]
    },
    {
      "cell_type": "code",
      "source": [
        "from sklearn.metrics import classification_report\n",
        "class_names = ['BlackPoint', 'WhearBlast', 'LeafBlight', 'FusariumFootRot', 'HealthyLeaf']\n",
        "\n",
        "print(classification_report(y_true, y_pred, target_names=class_names))"
      ],
      "metadata": {
        "colab": {
          "base_uri": "https://localhost:8080/"
        },
        "id": "tG8e89jxxnQn",
        "outputId": "6cf6c20c-e83f-4367-9665-794c32adf19e"
      },
      "execution_count": null,
      "outputs": [
        {
          "output_type": "stream",
          "name": "stdout",
          "text": [
            "                 precision    recall  f1-score   support\n",
            "\n",
            "     BlackPoint       0.51      0.98      0.67        60\n",
            "     WhearBlast       0.88      0.44      0.59        50\n",
            "     LeafBlight       1.00      0.04      0.08        50\n",
            "FusariumFootRot       0.63      0.82      0.71        80\n",
            "    HealthyLeaf       0.85      0.78      0.81        80\n",
            "\n",
            "       accuracy                           0.66       320\n",
            "      macro avg       0.77      0.61      0.57       320\n",
            "   weighted avg       0.76      0.66      0.61       320\n",
            "\n"
          ]
        }
      ]
    },
    {
      "cell_type": "code",
      "source": [
        "from sklearn.metrics import confusion_matrix\n",
        "import seaborn as sns\n",
        "import matplotlib.pyplot as plt\n",
        "\n",
        "cm = confusion_matrix(y_true, y_pred)\n",
        "\n",
        "plt.figure(figsize=(8, 6))\n",
        "sns.heatmap(cm, annot=True, fmt='d', cmap='Blues',\n",
        "            xticklabels=class_names,\n",
        "            yticklabels=class_names)\n",
        "plt.xlabel('Predicted')\n",
        "plt.ylabel('True')\n",
        "plt.title('Confusion Matrix')\n",
        "plt.show()"
      ],
      "metadata": {
        "colab": {
          "base_uri": "https://localhost:8080/",
          "height": 588
        },
        "id": "ejP2Bx_0xoqH",
        "outputId": "c03989e1-f530-4d07-9e8b-376e8ddd1259"
      },
      "execution_count": null,
      "outputs": [
        {
          "output_type": "display_data",
          "data": {
            "text/plain": [
              "<Figure size 800x600 with 2 Axes>"
            ],
            "image/png": "[encoded data removed]"
          },
          "metadata": {}
        }
      ]
    },
    {
      "cell_type": "code",
      "source": [
        "from sklearn.metrics import roc_curve, auc\n",
        "from sklearn.preprocessing import label_binarize\n",
        "from sklearn.metrics import RocCurveDisplay\n",
        "\n",
        "# Binarize true labels for multi-class ROC AUC\n",
        "num_classes = len(class_names)\n",
        "y_true_bin = label_binarize(y_true, classes=range(num_classes))\n",
        "y_prob = np.array(y_prob)\n",
        "\n",
        "plt.figure(figsize=(10, 8))\n",
        "for i in range(num_classes):\n",
        "    fpr, tpr, _ = roc_curve(y_true_bin[:, i], y_prob[:, i])\n",
        "    roc_auc = auc(fpr, tpr)\n",
        "    RocCurveDisplay(fpr=fpr, tpr=tpr, roc_auc=roc_auc, estimator_name=class_names[i]).plot(ax=plt.gca())\n",
        "\n",
        "plt.title('ROC Curves (One-vs-Rest)')\n",
        "plt.grid(True)\n",
        "plt.show()"
      ],
      "metadata": {
        "colab": {
          "base_uri": "https://localhost:8080/",
          "height": 738
        },
        "id": "Em112-l1zG-C",
        "outputId": "3ead4b34-d925-4b6d-8e76-31df1b410875"
      },
      "execution_count": null,
      "outputs": [
        {
          "output_type": "display_data",
          "data": {
            "text/plain": [
              "<Figure size 1000x800 with 1 Axes>"
            ],
            "image/png": "[encoded data removed]"
          },
          "metadata": {}
        }
      ]
    },
    {
      "cell_type": "markdown",
      "source": [
        "CUSTOM CNN"
      ],
      "metadata": {
        "id": "dbxWZppmqFQ7"
      }
    },
    {
      "cell_type": "code",
      "source": [
        "#new model\n",
        "from tensorflow.keras import backend as K\n",
        "K.clear_session()"
      ],
      "metadata": {
        "id": "qoTc9Kjap8l_"
      },
      "execution_count": null,
      "outputs": []
    },
    {
      "cell_type": "code",
      "source": [
        "# CNN model\n",
        "def build_custom_cnn(input_shape=(224, 224, 3), num_classes=5):\n",
        "    model3 = models.Sequential([\n",
        "        layers.Conv2D(32, (3,3), activation='relu', input_shape=input_shape),\n",
        "        layers.MaxPooling2D(2, 2),\n",
        "        layers.Conv2D(64, (3,3), activation='relu'),\n",
        "        layers.MaxPooling2D(2, 2),\n",
        "        layers.Conv2D(128, (3,3), activation='relu'),\n",
        "        layers.MaxPooling2D(2, 2),\n",
        "        layers.Flatten(),\n",
        "        layers.Dense(128, activation='relu'),\n",
        "        layers.Dropout(0.5),\n",
        "        layers.Dense(num_classes, activation='softmax')\n",
        "    ])\n",
        "    return model3"
      ],
      "metadata": {
        "id": "kn1M6Zx6xSoA"
      },
      "execution_count": null,
      "outputs": []
    },
    {
      "cell_type": "code",
      "source": [
        "# compile and train CNN model\n",
        "cnn_model = build_custom_cnn()\n",
        "cnn_model.compile(optimizer='adam', loss='categorical_crossentropy', metrics=['accuracy'])\n",
        "\n",
        "history_cnn = cnn_model.fit(train_ds, validation_data=val_ds, epochs=10)"
      ],
      "metadata": {
        "colab": {
          "base_uri": "https://localhost:8080/"
        },
        "id": "Hc5frpocqLOK",
        "outputId": "d65e41f8-1af1-424c-94db-cc77d9ff4828"
      },
      "execution_count": null,
      "outputs": [
        {
          "output_type": "stream",
          "name": "stdout",
          "text": [
            "Epoch 1/10\n"
          ]
        },
        {
          "output_type": "stream",
          "name": "stderr",
          "text": [
            "/usr/local/lib/python3.11/dist-packages/keras/src/layers/convolutional/base_conv.py:107: UserWarning: Do not pass an `input_shape`/`input_dim` argument to a layer. When using Sequential models, prefer using an `Input(shape)` object as the first layer in the model instead.\n",
            "  super().__init__(activity_regularizer=activity_regularizer, **kwargs)\n"
          ]
        },
        {
          "output_type": "stream",
          "name": "stdout",
          "text": [
            "\u001b[1m36/36\u001b[0m \u001b[32m━━━━━━━━━━━━━━━━━━━━\u001b[0m\u001b[37m\u001b[0m \u001b[1m13s\u001b[0m 156ms/step - accuracy: 0.1985 - loss: 232.3097 - val_accuracy: 0.3540 - val_loss: 1.5925\n",
            "Epoch 2/10\n",
            "\u001b[1m36/36\u001b[0m \u001b[32m━━━━━━━━━━━━━━━━━━━━\u001b[0m\u001b[37m\u001b[0m \u001b[1m2s\u001b[0m 45ms/step - accuracy: 0.3045 - loss: 1.5204 - val_accuracy: 0.2236 - val_loss: 1.9353\n",
            "Epoch 3/10\n",
            "\u001b[1m36/36\u001b[0m \u001b[32m━━━━━━━━━━━━━━━━━━━━\u001b[0m\u001b[37m\u001b[0m \u001b[1m2s\u001b[0m 48ms/step - accuracy: 0.3354 - loss: 1.5173 - val_accuracy: 0.3602 - val_loss: 1.5007\n",
            "Epoch 4/10\n",
            "\u001b[1m36/36\u001b[0m \u001b[32m━━━━━━━━━━━━━━━━━━━━\u001b[0m\u001b[37m\u001b[0m \u001b[1m2s\u001b[0m 46ms/step - accuracy: 0.3647 - loss: 1.4796 - val_accuracy: 0.3043 - val_loss: 1.5678\n",
            "Epoch 5/10\n",
            "\u001b[1m36/36\u001b[0m \u001b[32m━━━━━━━━━━━━━━━━━━━━\u001b[0m\u001b[37m\u001b[0m \u001b[1m2s\u001b[0m 45ms/step - accuracy: 0.4277 - loss: 1.3546 - val_accuracy: 0.2981 - val_loss: 1.5600\n",
            "Epoch 6/10\n",
            "\u001b[1m36/36\u001b[0m \u001b[32m━━━━━━━━━━━━━━━━━━━━\u001b[0m\u001b[37m\u001b[0m \u001b[1m3s\u001b[0m 46ms/step - accuracy: 0.4940 - loss: 1.2221 - val_accuracy: 0.2981 - val_loss: 1.5625\n",
            "Epoch 7/10\n",
            "\u001b[1m36/36\u001b[0m \u001b[32m━━━━━━━━━━━━━━━━━━━━\u001b[0m\u001b[37m\u001b[0m \u001b[1m2s\u001b[0m 46ms/step - accuracy: 0.5262 - loss: 1.1251 - val_accuracy: 0.2733 - val_loss: 1.8679\n",
            "Epoch 8/10\n",
            "\u001b[1m36/36\u001b[0m \u001b[32m━━━━━━━━━━━━━━━━━━━━\u001b[0m\u001b[37m\u001b[0m \u001b[1m2s\u001b[0m 46ms/step - accuracy: 0.5352 - loss: 1.1408 - val_accuracy: 0.2733 - val_loss: 1.5726\n",
            "Epoch 9/10\n",
            "\u001b[1m36/36\u001b[0m \u001b[32m━━━━━━━━━━━━━━━━━━━━\u001b[0m\u001b[37m\u001b[0m \u001b[1m3s\u001b[0m 50ms/step - accuracy: 0.4924 - loss: 1.1536 - val_accuracy: 0.2857 - val_loss: 1.6070\n",
            "Epoch 10/10\n",
            "\u001b[1m36/36\u001b[0m \u001b[32m━━━━━━━━━━━━━━━━━━━━\u001b[0m\u001b[37m\u001b[0m \u001b[1m2s\u001b[0m 47ms/step - accuracy: 0.6109 - loss: 0.9437 - val_accuracy: 0.2857 - val_loss: 1.9657\n"
          ]
        }
      ]
    },
    {
      "cell_type": "code",
      "source": [
        "cnn_model.save(\"custom_cnn_model.keras\")"
      ],
      "metadata": {
        "id": "Npqrqthiqiu3"
      },
      "execution_count": null,
      "outputs": []
    },
    {
      "cell_type": "code",
      "source": [
        "from tensorflow.keras.models import load_model\n",
        "cnn_model = load_model(\"custom_cnn_model.keras\")"
      ],
      "metadata": {
        "id": "tvGg8sUnrGfH"
      },
      "execution_count": null,
      "outputs": []
    },
    {
      "cell_type": "code",
      "source": [
        "test_loss, test_acc = cnn_model.evaluate(test_ds)\n",
        "print(f\"Test Accuracy: {test_acc:.4f}\")\n",
        "print(f\"Test Loss: {test_loss:.4f}\")"
      ],
      "metadata": {
        "colab": {
          "base_uri": "https://localhost:8080/"
        },
        "id": "0pe1_oZzrPDF",
        "outputId": "a3077089-2e43-48f6-cce7-6f0531816b69"
      },
      "execution_count": null,
      "outputs": [
        {
          "output_type": "stream",
          "name": "stdout",
          "text": [
            "\u001b[1m10/10\u001b[0m \u001b[32m━━━━━━━━━━━━━━━━━━━━\u001b[0m\u001b[37m\u001b[0m \u001b[1m1s\u001b[0m 23ms/step - accuracy: 0.3633 - loss: 1.8234\n",
            "Test Accuracy: 0.3375\n",
            "Test Loss: 1.8766\n"
          ]
        }
      ]
    },
    {
      "cell_type": "code",
      "source": [
        "import numpy as np\n",
        "\n",
        "# to get true labels and predicted probabilities\n",
        "y_true = np.concatenate([y for x, y in test_ds], axis=0)\n",
        "y_pred_probs = cnn_model.predict(test_ds)\n",
        "y_pred = np.argmax(y_pred_probs, axis=1)\n",
        "y_true = np.argmax(y_true, axis=1)  # converting one-hot to label\n"
      ],
      "metadata": {
        "colab": {
          "base_uri": "https://localhost:8080/"
        },
        "id": "Sh4zg8LYrR-7",
        "outputId": "ca75936b-b60e-4169-fe17-5203da3f021b"
      },
      "execution_count": null,
      "outputs": [
        {
          "output_type": "stream",
          "name": "stdout",
          "text": [
            "\u001b[1m10/10\u001b[0m \u001b[32m━━━━━━━━━━━━━━━━━━━━\u001b[0m\u001b[37m\u001b[0m \u001b[1m1s\u001b[0m 21ms/step\n"
          ]
        }
      ]
    },
    {
      "cell_type": "code",
      "source": [
        "from sklearn.metrics import classification_report, confusion_matrix\n",
        "import seaborn as sns\n",
        "import matplotlib.pyplot as plt\n",
        "\n",
        "# Classification report\n",
        "print(\"Classification Report:\")\n",
        "print(classification_report(y_true, y_pred))\n",
        "\n",
        "# Confusion matrix\n",
        "cm = confusion_matrix(y_true, y_pred)\n",
        "plt.figure(figsize=(8,6))\n",
        "sns.heatmap(cm, annot=True, fmt=\"d\", cmap=\"Blues\")\n",
        "plt.xlabel(\"Predicted Label\")\n",
        "plt.ylabel(\"True Label\")\n",
        "plt.title(\"Confusion Matrix\")\n",
        "plt.show()"
      ],
      "metadata": {
        "colab": {
          "base_uri": "https://localhost:8080/",
          "height": 790
        },
        "id": "f7Pbyimdrl6B",
        "outputId": "c0e8ab0e-4913-4606-b665-a41b62963faa"
      },
      "execution_count": null,
      "outputs": [
        {
          "output_type": "stream",
          "name": "stdout",
          "text": [
            "Classification Report:\n",
            "              precision    recall  f1-score   support\n",
            "\n",
            "           0       1.00      0.03      0.06        60\n",
            "           1       0.25      0.34      0.29        50\n",
            "           2       1.00      0.02      0.04        50\n",
            "           3       0.33      0.69      0.44        80\n",
            "           4       0.40      0.41      0.41        80\n",
            "\n",
            "    accuracy                           0.34       320\n",
            "   macro avg       0.60      0.30      0.25       320\n",
            "weighted avg       0.57      0.34      0.28       320\n",
            "\n"
          ]
        },
        {
          "output_type": "display_data",
          "data": {
            "text/plain": [
              "<Figure size 800x600 with 2 Axes>"
            ],
            "image/png": "[encoded data removed]"
          },
          "metadata": {}
        }
      ]
    },
    {
      "cell_type": "code",
      "source": [
        "from sklearn.metrics import roc_curve, auc\n",
        "from sklearn.preprocessing import label_binarize\n",
        "\n",
        "# Binarize true labels for multi-class ROC\n",
        "n_classes = len(np.unique(y_true))\n",
        "y_true_bin = label_binarize(y_true, classes=range(n_classes))\n",
        "\n",
        "# Calculate FPR, TPR, AUC for each class\n",
        "fpr = {}\n",
        "tpr = {}\n",
        "roc_auc = {}\n",
        "for i in range(n_classes):\n",
        "    fpr[i], tpr[i], _ = roc_curve(y_true_bin[:, i], y_pred_probs[:, i])\n",
        "    roc_auc[i] = auc(fpr[i], tpr[i])\n",
        "\n",
        "# Plot ROC curves\n",
        "plt.figure(figsize=(10, 8))\n",
        "for i in range(n_classes):\n",
        "    plt.plot(fpr[i], tpr[i], label=f'Class {i} (AUC = {roc_auc[i]:.2f})')\n",
        "\n",
        "plt.plot([0, 1], [0, 1], 'k--', label='Random Chance')\n",
        "plt.xlabel(\"False Positive Rate\")\n",
        "plt.ylabel(\"True Positive Rate\")\n",
        "plt.title(\"ROC-AUC Curve (Multi-class)\")\n",
        "plt.legend(loc='lower right')\n",
        "plt.grid()\n",
        "plt.show()"
      ],
      "metadata": {
        "colab": {
          "base_uri": "https://localhost:8080/",
          "height": 551
        },
        "id": "lRto9Tabrovx",
        "outputId": "7d522b29-c128-42c7-d10e-9bba01064cf7"
      },
      "execution_count": null,
      "outputs": [
        {
          "output_type": "display_data",
          "data": {
            "text/plain": [
              "<Figure size 1000x800 with 1 Axes>"
            ],
            "image/png": "[encoded data removed]"
          },
          "metadata": {}
        }
      ]
    },
    {
      "cell_type": "code",
      "source": [],
      "metadata": {
        "id": "u3K3EorlUhwr"
      },
      "execution_count": null,
      "outputs": []
    }
  ]
}