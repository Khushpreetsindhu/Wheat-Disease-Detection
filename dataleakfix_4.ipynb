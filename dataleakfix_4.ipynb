{
  "nbformat": 4,
  "nbformat_minor": 0,
  "metadata": {
    "colab": {
      "provenance": [],
      "gpuType": "T4"
    },
    "kernelspec": {
      "name": "python3",
      "display_name": "Python 3"
    },
    "language_info": {
      "name": "python"
    },
    "accelerator": "GPU"
  },
  "cells": [
    {
      "cell_type": "code",
      "execution_count": 78,
      "metadata": {
        "colab": {
          "base_uri": "https://localhost:8080/"
        },
        "id": "vznFDJajCqi1",
        "outputId": "7a03fcc8-2282-4a5c-cc8f-308ef8a49afe"
      },
      "outputs": [
        {
          "output_type": "stream",
          "name": "stdout",
          "text": [
            "Drive already mounted at /content/drive; to attempt to forcibly remount, call drive.mount(\"/content/drive\", force_remount=True).\n"
          ]
        }
      ],
      "source": [
        "from google.colab import drive\n",
        "drive.mount('/content/drive')"
      ]
    },
    {
      "cell_type": "code",
      "source": [
        "import os\n",
        "import pandas as pd\n",
        "folder_path = \"/content/drive/MyDrive/Original_Dataset\""
      ],
      "metadata": {
        "id": "Zwp5rppKCxfM"
      },
      "execution_count": 79,
      "outputs": []
    },
    {
      "cell_type": "code",
      "source": [
        "import os\n",
        "print(os.listdir(\"/content/drive/MyDrive\"))"
      ],
      "metadata": {
        "colab": {
          "base_uri": "https://localhost:8080/"
        },
        "id": "uNRv9Q0_J6ej",
        "outputId": "e150af00-aa83-44b8-f953-deb7b581dd38"
      },
      "execution_count": 80,
      "outputs": [
        {
          "output_type": "stream",
          "name": "stdout",
          "text": [
            "['Colab Notebooks', 'exhibition videos', 'af video.mp4', 'data.zip', 'CODELOOM (File responses)', 'CODELOOM (Responses).gsheet', 'CODELOOM.gform', 'dataset', 'Split Dataset', 'model_checkpoint.weights.h5', 'final_model.h5', 'Original_Dataset.zip']\n"
          ]
        }
      ]
    },
    {
      "cell_type": "code",
      "source": [
        "import zipfile\n",
        "\n",
        "zip_path = \"/content/drive/MyDrive/Original_Dataset.zip\"\n",
        "extract_path = \"/content/Original_Dataset\"\n",
        "\n",
        "with zipfile.ZipFile(zip_path, 'r') as zip_ref:\n",
        "    zip_ref.extractall(extract_path)"
      ],
      "metadata": {
        "id": "T8XNcCT0DCZa"
      },
      "execution_count": 81,
      "outputs": []
    },
    {
      "cell_type": "code",
      "source": [
        "import random\n",
        "import shutil\n",
        "from tqdm import tqdm\n",
        "\n",
        "def split_dataset(original_dir, output_dir, train_pct=0.7, test_pct=0.2, val_pct=0.1, seed=42):\n",
        "    assert abs(train_pct + test_pct + val_pct - 1.0) < 1e-6, \"Splits must sum to 1.0\"\n",
        "\n",
        "    random.seed(seed)\n",
        "\n",
        "    for class_name in os.listdir(original_dir):\n",
        "        class_path = os.path.join(original_dir, class_name)\n",
        "        if not os.path.isdir(class_path):\n",
        "            continue\n",
        "\n",
        "        images = os.listdir(class_path)\n",
        "        images = [img for img in images if img.lower().endswith(('.jpg', '.jpeg', '.png'))]\n",
        "        random.shuffle(images)\n",
        "\n",
        "        total = len(images)\n",
        "        train_end = int(total * train_pct)\n",
        "        test_end = train_end + int(total * test_pct)\n",
        "\n",
        "        split_points = {\n",
        "            'train': images[:train_end],\n",
        "            'test': images[train_end:test_end],\n",
        "            'val': images[test_end:]\n",
        "        }\n",
        "\n",
        "        for split, split_images in split_points.items():\n",
        "            out_class_dir = os.path.join(output_dir, split, class_name)\n",
        "            os.makedirs(out_class_dir, exist_ok=True)\n",
        "\n",
        "            for img in tqdm(split_images, desc=f\"Copying {split}/{class_name}\"):\n",
        "                src = os.path.join(class_path, img)\n",
        "                dst = os.path.join(out_class_dir, img)\n",
        "                shutil.copy2(src, dst)\n"
      ],
      "metadata": {
        "id": "x8Ul9Sp0DHEl"
      },
      "execution_count": 82,
      "outputs": []
    },
    {
      "cell_type": "code",
      "source": [
        "split_dataset(\n",
        "    original_dir=\"/content/Original_Dataset/Original Dataset\",\n",
        "    output_dir=\"split_dataset\",\n",
        "    train_pct=0.7,\n",
        "    test_pct=0.2,\n",
        "    val_pct=0.1\n",
        ")"
      ],
      "metadata": {
        "colab": {
          "base_uri": "https://localhost:8080/"
        },
        "id": "7qljB9RRH90i",
        "outputId": "0a120906-203d-4c12-a4d8-de0e02431db3"
      },
      "execution_count": 83,
      "outputs": [
        {
          "output_type": "stream",
          "name": "stderr",
          "text": [
            "Copying train/FusariumFootRot: 100%|██████████| 175/175 [00:01<00:00, 173.14it/s]\n",
            "Copying test/FusariumFootRot: 100%|██████████| 50/50 [00:00<00:00, 221.50it/s]\n",
            "Copying val/FusariumFootRot: 100%|██████████| 25/25 [00:00<00:00, 258.27it/s]\n",
            "Copying train/HealthyLeaf: 100%|██████████| 175/175 [00:00<00:00, 208.36it/s]\n",
            "Copying test/HealthyLeaf: 100%|██████████| 50/50 [00:00<00:00, 235.12it/s]\n",
            "Copying val/HealthyLeaf: 100%|██████████| 25/25 [00:00<00:00, 219.68it/s]\n",
            "Copying train/LeafBlight: 100%|██████████| 280/280 [00:01<00:00, 227.90it/s]\n",
            "Copying test/LeafBlight: 100%|██████████| 80/80 [00:00<00:00, 278.50it/s]\n",
            "Copying val/LeafBlight: 100%|██████████| 40/40 [00:00<00:00, 274.46it/s]\n",
            "Copying train/BlackPoint: 100%|██████████| 212/212 [00:00<00:00, 248.45it/s]\n",
            "Copying test/BlackPoint: 100%|██████████| 60/60 [00:00<00:00, 266.58it/s]\n",
            "Copying val/BlackPoint: 100%|██████████| 31/31 [00:00<00:00, 293.86it/s]\n",
            "Copying train/WheatBlast: 100%|██████████| 280/280 [00:02<00:00, 138.09it/s]\n",
            "Copying test/WheatBlast: 100%|██████████| 80/80 [00:00<00:00, 255.97it/s]\n",
            "Copying val/WheatBlast: 100%|██████████| 40/40 [00:00<00:00, 274.18it/s]\n"
          ]
        }
      ]
    },
    {
      "cell_type": "code",
      "source": [
        "# AUGMENTATION OF TRAIN SET\n",
        "import tensorflow as tf\n",
        "from tensorflow.keras import layers\n",
        "\n",
        "# Image dimensions and batch size\n",
        "IMAGE_SIZE = (224, 224)\n",
        "BATCH_SIZE = 32\n",
        "\n",
        "# augmentation layer\n",
        "data_augmentation = tf.keras.Sequential([\n",
        "    # 1. Geometric Transformations\n",
        "    layers.RandomFlip(\"horizontal_and_vertical\"),\n",
        "    layers.RandomRotation(0.15),\n",
        "    layers.RandomZoom(height_factor=(-0.2, 0.2), width_factor=(-0.2, 0.2)),\n",
        "    layers.RandomTranslation(0.1, 0.1),\n",
        "\n",
        "    # 2. Color & Intensity Modifications\n",
        "    layers.RandomBrightness(factor=0.3),\n",
        "    layers.RandomContrast(0.3),\n",
        "    layers.Lambda(lambda x: tf.image.random_saturation(x, 0.7, 1.3)),\n",
        "])"
      ],
      "metadata": {
        "id": "EPn-E0dgLOGS"
      },
      "execution_count": 84,
      "outputs": []
    },
    {
      "cell_type": "code",
      "source": [
        "# LOADING DATASET\n",
        "train_ds = tf.keras.utils.image_dataset_from_directory(\n",
        "    directory=\"split_dataset/train\",\n",
        "    image_size=IMAGE_SIZE,\n",
        "    batch_size=BATCH_SIZE,\n",
        "    label_mode='categorical'\n",
        ").map(lambda x, y: (data_augmentation(x, training=True), y))  # Augmentation here\n",
        "\n",
        "val_ds = tf.keras.utils.image_dataset_from_directory(\n",
        "    directory=\"split_dataset/val\",\n",
        "    image_size=IMAGE_SIZE,\n",
        "    batch_size=BATCH_SIZE,\n",
        "    label_mode='categorical'\n",
        ")\n",
        "\n",
        "test_ds = tf.keras.utils.image_dataset_from_directory(\n",
        "    directory=\"split_dataset/test\",\n",
        "    image_size=IMAGE_SIZE,\n",
        "    batch_size=BATCH_SIZE,\n",
        "    label_mode='categorical'\n",
        ")"
      ],
      "metadata": {
        "colab": {
          "base_uri": "https://localhost:8080/"
        },
        "id": "OzKLsT_0Ncn9",
        "outputId": "24f2487c-0297-40f1-9deb-e620e668aa89"
      },
      "execution_count": 85,
      "outputs": [
        {
          "output_type": "stream",
          "name": "stdout",
          "text": [
            "Found 1122 files belonging to 5 classes.\n",
            "Found 161 files belonging to 5 classes.\n",
            "Found 320 files belonging to 5 classes.\n"
          ]
        }
      ]
    },
    {
      "cell_type": "markdown",
      "source": [
        "Fixing extra class inclusion\n"
      ],
      "metadata": {
        "id": "fVwc7hJ-OzTK"
      }
    },
    {
      "cell_type": "code",
      "source": [
        "import os\n",
        "\n",
        "class_folders = os.listdir(\"split_dataset/train\")\n",
        "print(\"Classes:\", class_folders)\n",
        "print(\"Total classes:\", len(class_folders))\n"
      ],
      "metadata": {
        "colab": {
          "base_uri": "https://localhost:8080/"
        },
        "id": "MCYJ20aeNlYT",
        "outputId": "95b316ea-5768-4bc0-dffb-23e2478dcf57"
      },
      "execution_count": 86,
      "outputs": [
        {
          "output_type": "stream",
          "name": "stdout",
          "text": [
            "Classes: ['FusariumFootRot', 'HealthyLeaf', 'LeafBlight', 'BlackPoint', 'WheatBlast']\n",
            "Total classes: 5\n"
          ]
        }
      ]
    },
    {
      "cell_type": "code",
      "source": [
        "import shutil\n",
        "bad_class = \"Original Dataset\"\n",
        "\n",
        "for split in ['train', 'val', 'test']:\n",
        "    folder = f\"split_dataset/{split}/{bad_class}\"\n",
        "    if os.path.exists(folder):\n",
        "        print(f\"Removing: {folder}\")\n",
        "        shutil.rmtree(folder)"
      ],
      "metadata": {
        "id": "HIlmhI-cOdGn"
      },
      "execution_count": 87,
      "outputs": []
    },
    {
      "cell_type": "code",
      "source": [
        "print(\"Train Classes:\", os.listdir(\"split_dataset/train\"))"
      ],
      "metadata": {
        "colab": {
          "base_uri": "https://localhost:8080/"
        },
        "id": "sc-L1D44O7f0",
        "outputId": "4681c86a-a3d2-4090-e97a-aa33c0bdb2f7"
      },
      "execution_count": 88,
      "outputs": [
        {
          "output_type": "stream",
          "name": "stdout",
          "text": [
            "Train Classes: ['FusariumFootRot', 'HealthyLeaf', 'LeafBlight', 'BlackPoint', 'WheatBlast']\n"
          ]
        }
      ]
    },
    {
      "cell_type": "code",
      "source": [
        "# RELOADING DATASET\n",
        "train_ds = tf.keras.utils.image_dataset_from_directory(\n",
        "    directory=\"split_dataset/train\",\n",
        "    image_size=(224, 224),\n",
        "    batch_size=32,\n",
        "    label_mode='categorical'\n",
        ").map(lambda x, y: (data_augmentation(x, training=True), y))\n",
        "\n",
        "val_ds = tf.keras.utils.image_dataset_from_directory(\n",
        "    directory=\"split_dataset/val\",\n",
        "    image_size=(224, 224),\n",
        "    batch_size=32,\n",
        "    label_mode='categorical'\n",
        ")\n",
        "\n",
        "test_ds = tf.keras.utils.image_dataset_from_directory(\n",
        "    directory=\"split_dataset/test\",\n",
        "    image_size=(224, 224),\n",
        "    batch_size=32,\n",
        "    label_mode='categorical'\n",
        ")"
      ],
      "metadata": {
        "colab": {
          "base_uri": "https://localhost:8080/"
        },
        "id": "5ATcryCuO-3-",
        "outputId": "bcbd42e1-0af7-4e6a-864c-27da2eff654a"
      },
      "execution_count": 89,
      "outputs": [
        {
          "output_type": "stream",
          "name": "stdout",
          "text": [
            "Found 1122 files belonging to 5 classes.\n",
            "Found 161 files belonging to 5 classes.\n",
            "Found 320 files belonging to 5 classes.\n"
          ]
        }
      ]
    },
    {
      "cell_type": "code",
      "source": [
        "# Dataset Prefetching\n",
        "AUTOTUNE = tf.data.AUTOTUNE\n",
        "train_ds = train_ds.cache().prefetch(buffer_size=AUTOTUNE)\n",
        "val_ds   = val_ds.cache().prefetch(buffer_size=AUTOTUNE)\n",
        "test_ds  = test_ds.cache().prefetch(buffer_size=AUTOTUNE)"
      ],
      "metadata": {
        "id": "EyqMzzvWPObw"
      },
      "execution_count": 90,
      "outputs": []
    },
    {
      "cell_type": "code",
      "source": [
        "#Model Definition\n",
        "base_model = tf.keras.applications.EfficientNetB0(\n",
        "    include_top=False,\n",
        "    input_shape=(224, 224, 3),\n",
        "    weights='imagenet'\n",
        ")"
      ],
      "metadata": {
        "id": "2ETbXP3yPfz3"
      },
      "execution_count": 91,
      "outputs": []
    },
    {
      "cell_type": "code",
      "source": [
        "import tensorflow as tf\n",
        "from tensorflow.keras import layers, models\n",
        "from PIL import Image, UnidentifiedImageError"
      ],
      "metadata": {
        "id": "4QJ1D6ZqPi2d"
      },
      "execution_count": null,
      "outputs": []
    },
    {
      "cell_type": "code",
      "source": [
        "import tensorflow as tf\n",
        "from tensorflow.keras import layers\n",
        "from tensorflow.keras.utils import register_keras_serializable  # ✅ Add this import\n",
        "\n",
        "# ✅ Decorate custom layers for serialization\n",
        "@register_keras_serializable()\n",
        "class ChannelMean(layers.Layer):\n",
        "    def call(self, inputs):\n",
        "        return tf.reduce_mean(inputs, axis=-1, keepdims=True)\n",
        "\n",
        "@register_keras_serializable()\n",
        "class ChannelMax(layers.Layer):\n",
        "    def call(self, inputs):\n",
        "        return tf.reduce_max(inputs, axis=-1, keepdims=True)\n",
        "\n",
        "# CBAM block (safe version)\n",
        "def cbam_block(input_feature, ratio=8):\n",
        "    channel = input_feature.shape[-1]\n",
        "\n",
        "    # CHANNEL ATTENTION\n",
        "    avg_pool = layers.GlobalAveragePooling2D()(input_feature)\n",
        "    max_pool = layers.GlobalMaxPooling2D()(input_feature)\n",
        "\n",
        "    shared_dense = tf.keras.Sequential([\n",
        "        layers.Dense(channel // ratio, activation='relu'),\n",
        "        layers.Dense(channel)\n",
        "    ])\n",
        "\n",
        "    avg_out = shared_dense(avg_pool)\n",
        "    max_out = shared_dense(max_pool)\n",
        "\n",
        "    channel_attention = layers.Add()([avg_out, max_out])\n",
        "    channel_attention = layers.Activation('sigmoid')(channel_attention)\n",
        "    channel_attention = layers.Reshape((1, 1, channel))(channel_attention)\n",
        "    channel_refined = layers.Multiply()([input_feature, channel_attention])\n",
        "\n",
        "    # SPATIAL ATTENTION (using safe layers)\n",
        "    avg_pool_spatial = ChannelMean()(channel_refined)\n",
        "    max_pool_spatial = ChannelMax()(channel_refined)\n",
        "    concat = layers.Concatenate(axis=-1)([avg_pool_spatial, max_pool_spatial])\n",
        "\n",
        "    spatial_attention = layers.Conv2D(filters=1, kernel_size=7, padding='same', activation='sigmoid')(concat)\n",
        "    refined_feature = layers.Multiply()([channel_refined, spatial_attention])\n",
        "\n",
        "    return refined_feature"
      ],
      "metadata": {
        "id": "7pHwT3Kxc0wK"
      },
      "execution_count": null,
      "outputs": []
    },
    {
      "cell_type": "code",
      "source": [
        "# so that i dont use previously trained model\n",
        "from tensorflow.keras import backend as K\n",
        "K.clear_session()"
      ],
      "metadata": {
        "id": "A-5PwPBehoJ1"
      },
      "execution_count": null,
      "outputs": []
    },
    {
      "cell_type": "code",
      "source": [
        "# Base model\n",
        "base_model = EfficientNetB0(include_top=False, input_shape=(224, 224, 3), weights='imagenet')\n",
        "base_model.trainable = False  # Initially frozen"
      ],
      "metadata": {
        "id": "8aeZVJwJTWsg"
      },
      "execution_count": null,
      "outputs": []
    },
    {
      "cell_type": "code",
      "source": [
        "# final model\n",
        "inputs = tf.keras.Input(shape=(224, 224, 3))\n",
        "x = base_model(inputs, training=False)\n",
        "x = cbam_block(x)  # Now safe\n",
        "x = layers.GlobalAveragePooling2D()(x)\n",
        "x = layers.Dropout(0.4)(x)\n",
        "outputs = layers.Dense(5, activation='softmax')(x)\n",
        "\n",
        "model = tf.keras.Model(inputs, outputs)"
      ],
      "metadata": {
        "id": "tUe8ke8YSCQL"
      },
      "execution_count": null,
      "outputs": []
    },
    {
      "cell_type": "code",
      "source": [
        "from tensorflow.keras import optimizers\n",
        "\n",
        "model.compile(\n",
        "    optimizer=optimizers.Adam(learning_rate=1e-5),\n",
        "    loss='categorical_crossentropy',\n",
        "    metrics=['accuracy']\n",
        ")"
      ],
      "metadata": {
        "id": "pGSdLSiISYn1"
      },
      "execution_count": null,
      "outputs": []
    },
    {
      "cell_type": "code",
      "source": [
        "from tensorflow.keras import callbacks\n",
        "\n",
        "callback_list = [\n",
        "    callbacks.EarlyStopping(\n",
        "        monitor='val_loss', patience=3, restore_best_weights=True\n",
        "    ),\n",
        "    callbacks.ModelCheckpoint(\n",
        "        filepath='best_cbam_model.keras',\n",
        "        monitor='val_accuracy',\n",
        "        save_best_only=True\n",
        "    )\n",
        "]"
      ],
      "metadata": {
        "id": "pJ2c7lsoTlwi"
      },
      "execution_count": null,
      "outputs": []
    },
    {
      "cell_type": "code",
      "source": [
        "# INITIAL TRAINING\n",
        "history = model.fit(\n",
        "    train_ds,\n",
        "    validation_data=val_ds,\n",
        "    epochs=20,\n",
        "    callbacks=callback_list\n",
        ")"
      ],
      "metadata": {
        "colab": {
          "base_uri": "https://localhost:8080/"
        },
        "id": "pl0fTGdWT88N",
        "outputId": "8229cbf0-6e75-408c-c46a-1a9224a18f77"
      },
      "execution_count": null,
      "outputs": [
        {
          "output_type": "stream",
          "name": "stdout",
          "text": [
            "Epoch 1/20\n",
            "\u001b[1m36/36\u001b[0m \u001b[32m━━━━━━━━━━━━━━━━━━━━\u001b[0m\u001b[37m\u001b[0m \u001b[1m44s\u001b[0m 621ms/step - accuracy: 0.1089 - loss: 1.6723 - val_accuracy: 0.0683 - val_loss: 1.6809\n",
            "Epoch 2/20\n",
            "\u001b[1m36/36\u001b[0m \u001b[32m━━━━━━━━━━━━━━━━━━━━\u001b[0m\u001b[37m\u001b[0m \u001b[1m3s\u001b[0m 70ms/step - accuracy: 0.1151 - loss: 1.6559 - val_accuracy: 0.0994 - val_loss: 1.6599\n",
            "Epoch 3/20\n",
            "\u001b[1m36/36\u001b[0m \u001b[32m━━━━━━━━━━━━━━━━━━━━\u001b[0m\u001b[37m\u001b[0m \u001b[1m2s\u001b[0m 61ms/step - accuracy: 0.1407 - loss: 1.6342 - val_accuracy: 0.1242 - val_loss: 1.6404\n",
            "Epoch 4/20\n",
            "\u001b[1m36/36\u001b[0m \u001b[32m━━━━━━━━━━━━━━━━━━━━\u001b[0m\u001b[37m\u001b[0m \u001b[1m2s\u001b[0m 64ms/step - accuracy: 0.1819 - loss: 1.6165 - val_accuracy: 0.1429 - val_loss: 1.6215\n",
            "Epoch 5/20\n",
            "\u001b[1m36/36\u001b[0m \u001b[32m━━━━━━━━━━━━━━━━━━━━\u001b[0m\u001b[37m\u001b[0m \u001b[1m2s\u001b[0m 60ms/step - accuracy: 0.2557 - loss: 1.5975 - val_accuracy: 0.1988 - val_loss: 1.6023\n",
            "Epoch 6/20\n",
            "\u001b[1m36/36\u001b[0m \u001b[32m━━━━━━━━━━━━━━━━━━━━\u001b[0m\u001b[37m\u001b[0m \u001b[1m3s\u001b[0m 60ms/step - accuracy: 0.3028 - loss: 1.5788 - val_accuracy: 0.2919 - val_loss: 1.5823\n",
            "Epoch 7/20\n",
            "\u001b[1m36/36\u001b[0m \u001b[32m━━━━━━━━━━━━━━━━━━━━\u001b[0m\u001b[37m\u001b[0m \u001b[1m3s\u001b[0m 71ms/step - accuracy: 0.3442 - loss: 1.5568 - val_accuracy: 0.3727 - val_loss: 1.5615\n",
            "Epoch 8/20\n",
            "\u001b[1m36/36\u001b[0m \u001b[32m━━━━━━━━━━━━━━━━━━━━\u001b[0m\u001b[37m\u001b[0m \u001b[1m2s\u001b[0m 64ms/step - accuracy: 0.4315 - loss: 1.5319 - val_accuracy: 0.4720 - val_loss: 1.5393\n",
            "Epoch 9/20\n",
            "\u001b[1m36/36\u001b[0m \u001b[32m━━━━━━━━━━━━━━━━━━━━\u001b[0m\u001b[37m\u001b[0m \u001b[1m2s\u001b[0m 60ms/step - accuracy: 0.4580 - loss: 1.5132 - val_accuracy: 0.5466 - val_loss: 1.5155\n",
            "Epoch 10/20\n",
            "\u001b[1m36/36\u001b[0m \u001b[32m━━━━━━━━━━━━━━━━━━━━\u001b[0m\u001b[37m\u001b[0m \u001b[1m3s\u001b[0m 61ms/step - accuracy: 0.5229 - loss: 1.4865 - val_accuracy: 0.5714 - val_loss: 1.4896\n",
            "Epoch 11/20\n",
            "\u001b[1m36/36\u001b[0m \u001b[32m━━━━━━━━━━━━━━━━━━━━\u001b[0m\u001b[37m\u001b[0m \u001b[1m2s\u001b[0m 60ms/step - accuracy: 0.5936 - loss: 1.4609 - val_accuracy: 0.6211 - val_loss: 1.4624\n",
            "Epoch 12/20\n",
            "\u001b[1m36/36\u001b[0m \u001b[32m━━━━━━━━━━━━━━━━━━━━\u001b[0m\u001b[37m\u001b[0m \u001b[1m3s\u001b[0m 71ms/step - accuracy: 0.6176 - loss: 1.4304 - val_accuracy: 0.6708 - val_loss: 1.4339\n",
            "Epoch 13/20\n",
            "\u001b[1m36/36\u001b[0m \u001b[32m━━━━━━━━━━━━━━━━━━━━\u001b[0m\u001b[37m\u001b[0m \u001b[1m3s\u001b[0m 73ms/step - accuracy: 0.6435 - loss: 1.4075 - val_accuracy: 0.6957 - val_loss: 1.4050\n",
            "Epoch 14/20\n",
            "\u001b[1m36/36\u001b[0m \u001b[32m━━━━━━━━━━━━━━━━━━━━\u001b[0m\u001b[37m\u001b[0m \u001b[1m2s\u001b[0m 60ms/step - accuracy: 0.6922 - loss: 1.3718 - val_accuracy: 0.7019 - val_loss: 1.3749\n",
            "Epoch 15/20\n",
            "\u001b[1m36/36\u001b[0m \u001b[32m━━━━━━━━━━━━━━━━━━━━\u001b[0m\u001b[37m\u001b[0m \u001b[1m2s\u001b[0m 60ms/step - accuracy: 0.6986 - loss: 1.3471 - val_accuracy: 0.7143 - val_loss: 1.3448\n",
            "Epoch 16/20\n",
            "\u001b[1m36/36\u001b[0m \u001b[32m━━━━━━━━━━━━━━━━━━━━\u001b[0m\u001b[37m\u001b[0m \u001b[1m2s\u001b[0m 60ms/step - accuracy: 0.6810 - loss: 1.3206 - val_accuracy: 0.7453 - val_loss: 1.3156\n",
            "Epoch 17/20\n",
            "\u001b[1m36/36\u001b[0m \u001b[32m━━━━━━━━━━━━━━━━━━━━\u001b[0m\u001b[37m\u001b[0m \u001b[1m2s\u001b[0m 60ms/step - accuracy: 0.6957 - loss: 1.2955 - val_accuracy: 0.7764 - val_loss: 1.2876\n",
            "Epoch 18/20\n",
            "\u001b[1m36/36\u001b[0m \u001b[32m━━━━━━━━━━━━━━━━━━━━\u001b[0m\u001b[37m\u001b[0m \u001b[1m2s\u001b[0m 67ms/step - accuracy: 0.7084 - loss: 1.2728 - val_accuracy: 0.7826 - val_loss: 1.2599\n",
            "Epoch 19/20\n",
            "\u001b[1m36/36\u001b[0m \u001b[32m━━━━━━━━━━━━━━━━━━━━\u001b[0m\u001b[37m\u001b[0m \u001b[1m3s\u001b[0m 67ms/step - accuracy: 0.7188 - loss: 1.2383 - val_accuracy: 0.7950 - val_loss: 1.2328\n",
            "Epoch 20/20\n",
            "\u001b[1m36/36\u001b[0m \u001b[32m━━━━━━━━━━━━━━━━━━━━\u001b[0m\u001b[37m\u001b[0m \u001b[1m2s\u001b[0m 60ms/step - accuracy: 0.7273 - loss: 1.2177 - val_accuracy: 0.8075 - val_loss: 1.2060\n"
          ]
        }
      ]
    },
    {
      "cell_type": "code",
      "source": [
        "# Unfreezing\n",
        "base_model.trainable = True\n",
        "\n",
        "# Optionally: freeze lower layers\n",
        "for layer in base_model.layers[:150]:\n",
        "    layer.trainable = False\n",
        "\n",
        "# Re-compile with a smaller learning rate\n",
        "model.compile(\n",
        "    optimizer=optimizers.Adam(learning_rate=1e-5),\n",
        "    loss='categorical_crossentropy',\n",
        "    metrics=['accuracy']\n",
        ")\n",
        "\n",
        "# Continue training\n",
        "fine_tune_history = model.fit(\n",
        "    train_ds,\n",
        "    validation_data=val_ds,\n",
        "    epochs=20,\n",
        "    callbacks=callback_list\n",
        ")"
      ],
      "metadata": {
        "colab": {
          "base_uri": "https://localhost:8080/"
        },
        "id": "LuBT7bckUDQe",
        "outputId": "836c5963-6e73-49bb-fb20-f336dc6178c7"
      },
      "execution_count": null,
      "outputs": [
        {
          "output_type": "stream",
          "name": "stdout",
          "text": [
            "Epoch 1/20\n",
            "\u001b[1m36/36\u001b[0m \u001b[32m━━━━━━━━━━━━━━━━━━━━\u001b[0m\u001b[37m\u001b[0m \u001b[1m73s\u001b[0m 870ms/step - accuracy: 0.5058 - loss: 1.4441 - val_accuracy: 0.8696 - val_loss: 1.1821\n",
            "Epoch 2/20\n",
            "\u001b[1m36/36\u001b[0m \u001b[32m━━━━━━━━━━━━━━━━━━━━\u001b[0m\u001b[37m\u001b[0m \u001b[1m2s\u001b[0m 66ms/step - accuracy: 0.6232 - loss: 1.3741 - val_accuracy: 0.8385 - val_loss: 1.1447\n",
            "Epoch 3/20\n",
            "\u001b[1m36/36\u001b[0m \u001b[32m━━━━━━━━━━━━━━━━━━━━\u001b[0m\u001b[37m\u001b[0m \u001b[1m2s\u001b[0m 65ms/step - accuracy: 0.7050 - loss: 1.3062 - val_accuracy: 0.8137 - val_loss: 1.0966\n",
            "Epoch 4/20\n",
            "\u001b[1m36/36\u001b[0m \u001b[32m━━━━━━━━━━━━━━━━━━━━\u001b[0m\u001b[37m\u001b[0m \u001b[1m3s\u001b[0m 70ms/step - accuracy: 0.7656 - loss: 1.2235 - val_accuracy: 0.8261 - val_loss: 1.0394\n",
            "Epoch 5/20\n",
            "\u001b[1m36/36\u001b[0m \u001b[32m━━━━━━━━━━━━━━━━━━━━\u001b[0m\u001b[37m\u001b[0m \u001b[1m2s\u001b[0m 68ms/step - accuracy: 0.8205 - loss: 1.1417 - val_accuracy: 0.8509 - val_loss: 0.9742\n",
            "Epoch 6/20\n",
            "\u001b[1m36/36\u001b[0m \u001b[32m━━━━━━━━━━━━━━━━━━━━\u001b[0m\u001b[37m\u001b[0m \u001b[1m3s\u001b[0m 89ms/step - accuracy: 0.8389 - loss: 1.0619 - val_accuracy: 0.8820 - val_loss: 0.9034\n",
            "Epoch 7/20\n",
            "\u001b[1m36/36\u001b[0m \u001b[32m━━━━━━━━━━━━━━━━━━━━\u001b[0m\u001b[37m\u001b[0m \u001b[1m3s\u001b[0m 89ms/step - accuracy: 0.8670 - loss: 0.9678 - val_accuracy: 0.9068 - val_loss: 0.8301\n",
            "Epoch 8/20\n",
            "\u001b[1m36/36\u001b[0m \u001b[32m━━━━━━━━━━━━━━━━━━━━\u001b[0m\u001b[37m\u001b[0m \u001b[1m3s\u001b[0m 89ms/step - accuracy: 0.8930 - loss: 0.8927 - val_accuracy: 0.9130 - val_loss: 0.7571\n",
            "Epoch 9/20\n",
            "\u001b[1m36/36\u001b[0m \u001b[32m━━━━━━━━━━━━━━━━━━━━\u001b[0m\u001b[37m\u001b[0m \u001b[1m2s\u001b[0m 69ms/step - accuracy: 0.9008 - loss: 0.8117 - val_accuracy: 0.9130 - val_loss: 0.6879\n",
            "Epoch 10/20\n",
            "\u001b[1m36/36\u001b[0m \u001b[32m━━━━━━━━━━━━━━━━━━━━\u001b[0m\u001b[37m\u001b[0m \u001b[1m2s\u001b[0m 66ms/step - accuracy: 0.9301 - loss: 0.7256 - val_accuracy: 0.9130 - val_loss: 0.6217\n",
            "Epoch 11/20\n",
            "\u001b[1m36/36\u001b[0m \u001b[32m━━━━━━━━━━━━━━━━━━━━\u001b[0m\u001b[37m\u001b[0m \u001b[1m2s\u001b[0m 65ms/step - accuracy: 0.9301 - loss: 0.6559 - val_accuracy: 0.9130 - val_loss: 0.5610\n",
            "Epoch 12/20\n",
            "\u001b[1m36/36\u001b[0m \u001b[32m━━━━━━━━━━━━━━━━━━━━\u001b[0m\u001b[37m\u001b[0m \u001b[1m3s\u001b[0m 92ms/step - accuracy: 0.9376 - loss: 0.5882 - val_accuracy: 0.9193 - val_loss: 0.5043\n",
            "Epoch 13/20\n",
            "\u001b[1m36/36\u001b[0m \u001b[32m━━━━━━━━━━━━━━━━━━━━\u001b[0m\u001b[37m\u001b[0m \u001b[1m3s\u001b[0m 92ms/step - accuracy: 0.9502 - loss: 0.5283 - val_accuracy: 0.9255 - val_loss: 0.4528\n",
            "Epoch 14/20\n",
            "\u001b[1m36/36\u001b[0m \u001b[32m━━━━━━━━━━━━━━━━━━━━\u001b[0m\u001b[37m\u001b[0m \u001b[1m5s\u001b[0m 89ms/step - accuracy: 0.9524 - loss: 0.4746 - val_accuracy: 0.9317 - val_loss: 0.4056\n",
            "Epoch 15/20\n",
            "\u001b[1m36/36\u001b[0m \u001b[32m━━━━━━━━━━━━━━━━━━━━\u001b[0m\u001b[37m\u001b[0m \u001b[1m3s\u001b[0m 91ms/step - accuracy: 0.9539 - loss: 0.4234 - val_accuracy: 0.9503 - val_loss: 0.3627\n",
            "Epoch 16/20\n",
            "\u001b[1m36/36\u001b[0m \u001b[32m━━━━━━━━━━━━━━━━━━━━\u001b[0m\u001b[37m\u001b[0m \u001b[1m2s\u001b[0m 64ms/step - accuracy: 0.9598 - loss: 0.3815 - val_accuracy: 0.9503 - val_loss: 0.3258\n",
            "Epoch 17/20\n",
            "\u001b[1m36/36\u001b[0m \u001b[32m━━━━━━━━━━━━━━━━━━━━\u001b[0m\u001b[37m\u001b[0m \u001b[1m3s\u001b[0m 67ms/step - accuracy: 0.9627 - loss: 0.3302 - val_accuracy: 0.9503 - val_loss: 0.2941\n",
            "Epoch 18/20\n",
            "\u001b[1m36/36\u001b[0m \u001b[32m━━━━━━━━━━━━━━━━━━━━\u001b[0m\u001b[37m\u001b[0m \u001b[1m2s\u001b[0m 65ms/step - accuracy: 0.9644 - loss: 0.3094 - val_accuracy: 0.9503 - val_loss: 0.2677\n",
            "Epoch 19/20\n",
            "\u001b[1m36/36\u001b[0m \u001b[32m━━━━━━━━━━━━━━━━━━━━\u001b[0m\u001b[37m\u001b[0m \u001b[1m3s\u001b[0m 87ms/step - accuracy: 0.9633 - loss: 0.2691 - val_accuracy: 0.9565 - val_loss: 0.2459\n",
            "Epoch 20/20\n",
            "\u001b[1m36/36\u001b[0m \u001b[32m━━━━━━━━━━━━━━━━━━━━\u001b[0m\u001b[37m\u001b[0m \u001b[1m3s\u001b[0m 86ms/step - accuracy: 0.9637 - loss: 0.2450 - val_accuracy: 0.9627 - val_loss: 0.2272\n"
          ]
        }
      ]
    },
    {
      "cell_type": "code",
      "source": [
        "model.save(\"efficientnet_cbam_wheat.keras\")"
      ],
      "metadata": {
        "id": "12UW41yHUYvV"
      },
      "execution_count": null,
      "outputs": []
    },
    {
      "cell_type": "markdown",
      "source": [
        "EVALUATION"
      ],
      "metadata": {
        "id": "Pt82UXbjVtXZ"
      }
    },
    {
      "cell_type": "code",
      "source": [
        "model = tf.keras.models.load_model(\n",
        "    \"efficientnet_cbam_wheat.keras\",\n",
        "    custom_objects={\n",
        "        \"cbam_block\": cbam_block,\n",
        "        \"ChannelMean\": ChannelMean,\n",
        "        \"ChannelMax\": ChannelMax\n",
        "\n",
        "    }\n",
        ")"
      ],
      "metadata": {
        "id": "8M7P_4klbx5z"
      },
      "execution_count": null,
      "outputs": []
    },
    {
      "cell_type": "code",
      "source": [
        "from tensorflow.keras.models import load_model\n",
        "\n",
        "model = load_model(\"efficientnet_cbam_wheat.keras\", custom_objects={\n",
        "    \"cbam_block\": cbam_block,\n",
        "    \"ChannelMean\": ChannelMean,\n",
        "    \"ChannelMax\": ChannelMax\n",
        "})"
      ],
      "metadata": {
        "id": "lXHfnnQDWNnr"
      },
      "execution_count": null,
      "outputs": []
    },
    {
      "cell_type": "code",
      "source": [
        "loss, accuracy = model.evaluate(test_ds)\n",
        "print(f\"Test Accuracy: {accuracy:.4f}\")\n",
        "print(f\"Test Loss: {loss:.4f}\")"
      ],
      "metadata": {
        "colab": {
          "base_uri": "https://localhost:8080/"
        },
        "id": "4d5NmAcLVzzL",
        "outputId": "89ef7ffa-23c6-4d30-cbd6-17e0ca08beaa"
      },
      "execution_count": null,
      "outputs": [
        {
          "output_type": "stream",
          "name": "stdout",
          "text": [
            "\u001b[1m10/10\u001b[0m \u001b[32m━━━━━━━━━━━━━━━━━━━━\u001b[0m\u001b[37m\u001b[0m \u001b[1m12s\u001b[0m 134ms/step - accuracy: 0.9630 - loss: 0.2256\n",
            "Test Accuracy: 0.9500\n",
            "Test Loss: 0.2399\n"
          ]
        }
      ]
    },
    {
      "cell_type": "code",
      "source": [
        "import numpy as np\n",
        "\n",
        "# Get predictions\n",
        "y_pred_probs = model.predict(test_ds)\n",
        "y_pred = np.argmax(y_pred_probs, axis=1)\n",
        "\n",
        "# Get true labels\n",
        "y_true = np.concatenate([np.argmax(label, axis=-1) for _, label in test_ds])"
      ],
      "metadata": {
        "colab": {
          "base_uri": "https://localhost:8080/"
        },
        "id": "-uFb5EPzj0DI",
        "outputId": "a16b8faa-60f2-44e5-db1d-c775e109c351"
      },
      "execution_count": null,
      "outputs": [
        {
          "output_type": "stream",
          "name": "stdout",
          "text": [
            "\u001b[1m10/10\u001b[0m \u001b[32m━━━━━━━━━━━━━━━━━━━━\u001b[0m\u001b[37m\u001b[0m \u001b[1m7s\u001b[0m 37ms/step\n"
          ]
        }
      ]
    },
    {
      "cell_type": "code",
      "source": [
        "# confusion matrix and classification report\n",
        "from sklearn.metrics import confusion_matrix, classification_report\n",
        "import seaborn as sns\n",
        "import matplotlib.pyplot as plt\n",
        "\n",
        "# Confusion Matrix\n",
        "cm = confusion_matrix(y_true, y_pred)\n",
        "plt.figure(figsize=(8, 6))\n",
        "sns.heatmap(cm, annot=True, fmt=\"d\", cmap=\"Blues\")\n",
        "plt.xlabel(\"Predicted Label\")\n",
        "plt.ylabel(\"True Label\")\n",
        "plt.title(\"Confusion Matrix\")\n",
        "plt.show()\n",
        "\n",
        "# Classification Report\n",
        "print(\"Classification Report:\")\n",
        "print(classification_report(y_true, y_pred))"
      ],
      "metadata": {
        "colab": {
          "base_uri": "https://localhost:8080/",
          "height": 790
        },
        "id": "YavUbQiKkFbh",
        "outputId": "1955cca7-2762-48b1-9dfa-6cd23250070f"
      },
      "execution_count": null,
      "outputs": [
        {
          "output_type": "display_data",
          "data": {
            "text/plain": [
              "<Figure size 800x600 with 2 Axes>"
            ],
            "image/png": "[encoded data removed]"
          },
          "metadata": {}
        },
        {
          "output_type": "stream",
          "name": "stdout",
          "text": [
            "Classification Report:\n",
            "              precision    recall  f1-score   support\n",
            "\n",
            "           0       0.81      1.00      0.90        60\n",
            "           1       0.96      1.00      0.98        50\n",
            "           2       1.00      0.76      0.86        50\n",
            "           3       1.00      0.95      0.97        80\n",
            "           4       1.00      1.00      1.00        80\n",
            "\n",
            "    accuracy                           0.95       320\n",
            "   macro avg       0.95      0.94      0.94       320\n",
            "weighted avg       0.96      0.95      0.95       320\n",
            "\n"
          ]
        }
      ]
    },
    {
      "cell_type": "code",
      "source": [
        "# roc-auc\n",
        "from sklearn.metrics import roc_curve, auc\n",
        "from sklearn.preprocessing import label_binarize\n",
        "from sklearn.metrics import roc_auc_score\n",
        "\n",
        "n_classes = y_pred_probs.shape[1]\n",
        "y_true_bin = label_binarize(y_true, classes=list(range(n_classes)))\n",
        "\n",
        "# Computeing ROC AUC\n",
        "fpr = dict()\n",
        "tpr = dict()\n",
        "roc_auc = dict()\n",
        "\n",
        "for i in range(n_classes):\n",
        "    fpr[i], tpr[i], _ = roc_curve(y_true_bin[:, i], y_pred_probs[:, i])\n",
        "    roc_auc[i] = auc(fpr[i], tpr[i])\n",
        "\n",
        "# Plotting all ROC curves\n",
        "plt.figure(figsize=(10, 8))\n",
        "for i in range(n_classes):\n",
        "    plt.plot(fpr[i], tpr[i], label=f\"Class {i} (AUC = {roc_auc[i]:.2f})\")\n",
        "\n",
        "plt.plot([0, 1], [0, 1], \"k--\")  # Diagonal line\n",
        "plt.xlabel(\"False Positive Rate\")\n",
        "plt.ylabel(\"True Positive Rate\")\n",
        "plt.title(\"ROC-AUC Curve (Multi-class)\")\n",
        "plt.legend(loc=\"lower right\")\n",
        "plt.grid(True)\n",
        "plt.show()\n",
        "\n",
        "# Overall AUC\n",
        "print(f\"Macro ROC-AUC Score: {roc_auc_score(y_true_bin, y_pred_probs, average='macro'):.4f}\")"
      ],
      "metadata": {
        "colab": {
          "base_uri": "https://localhost:8080/",
          "height": 568
        },
        "id": "mOOlC_wMkNIP",
        "outputId": "f911fb7c-2ff5-4cff-c587-336e7ac9f0db"
      },
      "execution_count": null,
      "outputs": [
        {
          "output_type": "display_data",
          "data": {
            "text/plain": [
              "<Figure size 1000x800 with 1 Axes>"
            ],
            "image/png": "[encoded data removed]"
          },
          "metadata": {}
        },
        {
          "output_type": "stream",
          "name": "stdout",
          "text": [
            "Macro ROC-AUC Score: 0.9969\n"
          ]
        }
      ]
    },
    {
      "cell_type": "markdown",
      "source": [
        "MOBILENETV2"
      ],
      "metadata": {
        "id": "5jYUqlUkqA08"
      }
    },
    {
      "cell_type": "code",
      "source": [
        "#new model\n",
        "from tensorflow.keras import backend as K\n",
        "K.clear_session()"
      ],
      "metadata": {
        "id": "RAwkY7Bmk6TM"
      },
      "execution_count": 97,
      "outputs": []
    },
    {
      "cell_type": "code",
      "source": [
        "# Defining mobilenet-V2\n",
        "import os\n",
        "import numpy as np\n",
        "import matplotlib.pyplot as plt\n",
        "import tensorflow as tf\n",
        "import pandas as pd\n",
        "from tensorflow.keras.preprocessing.image import ImageDataGenerator\n",
        "from tensorflow.keras import layers, models\n",
        "from tensorflow.keras.applications import MobileNetV2\n",
        "from tensorflow.keras.applications.mobilenet_v2 import preprocess_input as mobilenet_preprocess\n",
        "from tensorflow.keras.applications.resnet50 import preprocess_input as resnet_preprocess\n",
        "from sklearn.metrics import classification_report, confusion_matrix\n",
        "import seaborn as sns"
      ],
      "metadata": {
        "id": "zi-xQibhg4g5"
      },
      "execution_count": 98,
      "outputs": []
    },
    {
      "cell_type": "code",
      "source": [
        "from tensorflow.keras.layers import Layer\n",
        "from tensorflow.keras.utils import register_keras_serializable\n",
        "import tensorflow as tf\n",
        "\n",
        "@register_keras_serializable()\n",
        "class ChannelMean(Layer):\n",
        "    def call(self, inputs):\n",
        "        return tf.reduce_mean(inputs, axis=-1, keepdims=True)\n",
        "\n",
        "@register_keras_serializable()\n",
        "class ChannelMax(Layer):\n",
        "    def call(self, inputs):\n",
        "        return tf.reduce_max(inputs, axis=-1, keepdims=True)\n",
        "\n",
        "class CBAM(tf.keras.layers.Layer):\n",
        "    def __init__(self, ratio=8, **kwargs):\n",
        "        super().__init__(**kwargs)\n",
        "        self.ratio = ratio\n",
        "        self.channel_mean = ChannelMean()\n",
        "        self.channel_max = ChannelMax()\n",
        "        self.spatial_conv = tf.keras.layers.Conv2D(filters=1, kernel_size=7, padding='same', activation='sigmoid')\n",
        "\n",
        "    def build(self, input_shape):\n",
        "        channel = input_shape[-1]\n",
        "\n",
        "        # Define shared MLP for channel attention\n",
        "        self.shared_dense_1 = tf.keras.layers.Dense(channel // self.ratio, activation='relu')\n",
        "        self.shared_dense_2 = tf.keras.layers.Dense(channel)\n",
        "\n",
        "    def call(self, inputs):\n",
        "        # ----- Channel Attention -----\n",
        "        avg_pool = tf.reduce_mean(inputs, axis=[1, 2])  # shape: (batch, channels)\n",
        "        max_pool = tf.reduce_max(inputs, axis=[1, 2])  # shape: (batch, channels)\n",
        "\n",
        "        avg_out = self.shared_dense_2(self.shared_dense_1(avg_pool))\n",
        "        max_out = self.shared_dense_2(self.shared_dense_1(max_pool))\n",
        "\n",
        "        channel_attention = tf.nn.sigmoid(avg_out + max_out)\n",
        "        channel_attention = tf.reshape(channel_attention, [-1, 1, 1, inputs.shape[-1]])\n",
        "        x = inputs * channel_attention\n",
        "\n",
        "        # ----- Spatial Attention -----\n",
        "        avg_pool_spatial = self.channel_mean(x)\n",
        "        max_pool_spatial = self.channel_max(x)\n",
        "        concat = tf.concat([avg_pool_spatial, max_pool_spatial], axis=-1)\n",
        "\n",
        "        spatial_attention = self.spatial_conv(concat)\n",
        "        refined_feature = x * spatial_attention\n",
        "\n",
        "        return refined_feature\n"
      ],
      "metadata": {
        "id": "dVWY-o2cl7gh"
      },
      "execution_count": 105,
      "outputs": []
    },
    {
      "cell_type": "code",
      "source": [
        "def build_mobilenet_cbam_model(input_shape=(224, 224, 3), num_classes=5):\n",
        "    base_model = MobileNetV2(weights='imagenet', include_top=False, input_shape=input_shape)\n",
        "    base_model.trainable = False  # freezing base model\n",
        "\n",
        "    inputs = layers.Input(shape=input_shape)\n",
        "    x = base_model(inputs, training=False)\n",
        "    x = CBAM()(x)\n",
        "    x = layers.GlobalAveragePooling2D()(x)\n",
        "    x = layers.Dense(128, activation='relu')(x)\n",
        "    x = layers.Dropout(0.5)(x)\n",
        "    outputs = layers.Dense(num_classes, activation='softmax')(x)\n",
        "\n",
        "    return tf.keras.Model(inputs, outputs)"
      ],
      "metadata": {
        "id": "Bf5_DkMof8qL"
      },
      "execution_count": 106,
      "outputs": []
    },
    {
      "cell_type": "code",
      "source": [
        "# Clear session before building\n",
        "from tensorflow.keras import backend as K\n",
        "\n",
        "mobilenet_cbam_model = build_mobilenet_cbam_model()\n",
        "\n",
        "# Clear session after building but before compilation\n",
        "K.clear_session()\n",
        "\n",
        "mobilenet_cbam_model.compile(\n",
        "    optimizer=optimizers.Adam(learning_rate=1e-4),\n",
        "    loss='categorical_crossentropy',\n",
        "    metrics=['accuracy']\n",
        ")\n",
        "\n",
        "mobilenet_cbam_callbacks = [\n",
        "    callbacks.ModelCheckpoint(\n",
        "        filepath='mobilenet_cbam_model.keras',\n",
        "        monitor='val_accuracy',\n",
        "        save_best_only=True,\n",
        "        verbose=1\n",
        "    ),\n",
        "    callbacks.EarlyStopping(\n",
        "        monitor='val_loss',\n",
        "        patience=3,\n",
        "        restore_best_weights=True,\n",
        "        verbose=1\n",
        "    )\n",
        "]\n",
        "\n",
        "history_cbam = mobilenet_cbam_model.fit(\n",
        "    train_ds,\n",
        "    validation_data=val_ds,\n",
        "    epochs=20,\n",
        "    callbacks=mobilenet_cbam_callbacks\n",
        ")"
      ],
      "metadata": {
        "colab": {
          "base_uri": "https://localhost:8080/"
        },
        "id": "CAsD-xyfgC4R",
        "outputId": "5af2ee7f-c02b-472a-cd17-2e2e0285e2f5"
      },
      "execution_count": 107,
      "outputs": [
        {
          "output_type": "stream",
          "name": "stdout",
          "text": [
            "Epoch 1/20\n",
            "\u001b[1m36/36\u001b[0m \u001b[32m━━━━━━━━━━━━━━━━━━━━\u001b[0m\u001b[37m\u001b[0m \u001b[1m0s\u001b[0m 828ms/step - accuracy: 0.2733 - loss: 1.6549\n",
            "Epoch 1: val_accuracy improved from -inf to 0.37267, saving model to mobilenet_cbam_model.keras\n",
            "\u001b[1m36/36\u001b[0m \u001b[32m━━━━━━━━━━━━━━━━━━━━\u001b[0m\u001b[37m\u001b[0m \u001b[1m49s\u001b[0m 1s/step - accuracy: 0.2745 - loss: 1.6531 - val_accuracy: 0.3727 - val_loss: 1.5019\n",
            "Epoch 2/20\n",
            "\u001b[1m35/36\u001b[0m \u001b[32m━━━━━━━━━━━━━━━━━━━\u001b[0m\u001b[37m━\u001b[0m \u001b[1m0s\u001b[0m 33ms/step - accuracy: 0.3765 - loss: 1.4434\n",
            "Epoch 2: val_accuracy did not improve from 0.37267\n",
            "\u001b[1m36/36\u001b[0m \u001b[32m━━━━━━━━━━━━━━━━━━━━\u001b[0m\u001b[37m\u001b[0m \u001b[1m40s\u001b[0m 39ms/step - accuracy: 0.3788 - loss: 1.4409 - val_accuracy: 0.3540 - val_loss: 1.4345\n",
            "Epoch 3/20\n",
            "\u001b[1m35/36\u001b[0m \u001b[32m━━━━━━━━━━━━━━━━━━━\u001b[0m\u001b[37m━\u001b[0m \u001b[1m0s\u001b[0m 30ms/step - accuracy: 0.4962 - loss: 1.2946\n",
            "Epoch 3: val_accuracy did not improve from 0.37267\n",
            "\u001b[1m36/36\u001b[0m \u001b[32m━━━━━━━━━━━━━━━━━━━━\u001b[0m\u001b[37m\u001b[0m \u001b[1m1s\u001b[0m 36ms/step - accuracy: 0.4971 - loss: 1.2930 - val_accuracy: 0.3727 - val_loss: 1.3841\n",
            "Epoch 4/20\n",
            "\u001b[1m35/36\u001b[0m \u001b[32m━━━━━━━━━━━━━━━━━━━\u001b[0m\u001b[37m━\u001b[0m \u001b[1m0s\u001b[0m 30ms/step - accuracy: 0.5353 - loss: 1.1866\n",
            "Epoch 4: val_accuracy improved from 0.37267 to 0.39130, saving model to mobilenet_cbam_model.keras\n",
            "\u001b[1m36/36\u001b[0m \u001b[32m━━━━━━━━━━━━━━━━━━━━\u001b[0m\u001b[37m\u001b[0m \u001b[1m2s\u001b[0m 49ms/step - accuracy: 0.5360 - loss: 1.1851 - val_accuracy: 0.3913 - val_loss: 1.3518\n",
            "Epoch 5/20\n",
            "\u001b[1m35/36\u001b[0m \u001b[32m━━━━━━━━━━━━━━━━━━━\u001b[0m\u001b[37m━\u001b[0m \u001b[1m0s\u001b[0m 31ms/step - accuracy: 0.5695 - loss: 1.1130\n",
            "Epoch 5: val_accuracy improved from 0.39130 to 0.44099, saving model to mobilenet_cbam_model.keras\n",
            "\u001b[1m36/36\u001b[0m \u001b[32m━━━━━━━━━━━━━━━━━━━━\u001b[0m\u001b[37m\u001b[0m \u001b[1m2s\u001b[0m 50ms/step - accuracy: 0.5704 - loss: 1.1117 - val_accuracy: 0.4410 - val_loss: 1.2982\n",
            "Epoch 6/20\n",
            "\u001b[1m35/36\u001b[0m \u001b[32m━━━━━━━━━━━━━━━━━━━\u001b[0m\u001b[37m━\u001b[0m \u001b[1m0s\u001b[0m 30ms/step - accuracy: 0.5970 - loss: 1.0389\n",
            "Epoch 6: val_accuracy improved from 0.44099 to 0.47205, saving model to mobilenet_cbam_model.keras\n",
            "\u001b[1m36/36\u001b[0m \u001b[32m━━━━━━━━━━━━━━━━━━━━\u001b[0m\u001b[37m\u001b[0m \u001b[1m2s\u001b[0m 49ms/step - accuracy: 0.5978 - loss: 1.0379 - val_accuracy: 0.4720 - val_loss: 1.2657\n",
            "Epoch 7/20\n",
            "\u001b[1m35/36\u001b[0m \u001b[32m━━━━━━━━━━━━━━━━━━━\u001b[0m\u001b[37m━\u001b[0m \u001b[1m0s\u001b[0m 30ms/step - accuracy: 0.6361 - loss: 0.9662\n",
            "Epoch 7: val_accuracy did not improve from 0.47205\n",
            "\u001b[1m36/36\u001b[0m \u001b[32m━━━━━━━━━━━━━━━━━━━━\u001b[0m\u001b[37m\u001b[0m \u001b[1m1s\u001b[0m 34ms/step - accuracy: 0.6373 - loss: 0.9648 - val_accuracy: 0.4286 - val_loss: 1.2826\n",
            "Epoch 8/20\n",
            "\u001b[1m35/36\u001b[0m \u001b[32m━━━━━━━━━━━━━━━━━━━\u001b[0m\u001b[37m━\u001b[0m \u001b[1m0s\u001b[0m 33ms/step - accuracy: 0.6639 - loss: 0.8967\n",
            "Epoch 8: val_accuracy did not improve from 0.47205\n",
            "\u001b[1m36/36\u001b[0m \u001b[32m━━━━━━━━━━━━━━━━━━━━\u001b[0m\u001b[37m\u001b[0m \u001b[1m1s\u001b[0m 39ms/step - accuracy: 0.6647 - loss: 0.8955 - val_accuracy: 0.4472 - val_loss: 1.2187\n",
            "Epoch 9/20\n",
            "\u001b[1m35/36\u001b[0m \u001b[32m━━━━━━━━━━━━━━━━━━━\u001b[0m\u001b[37m━\u001b[0m \u001b[1m0s\u001b[0m 31ms/step - accuracy: 0.6954 - loss: 0.8499\n",
            "Epoch 9: val_accuracy did not improve from 0.47205\n",
            "\u001b[1m36/36\u001b[0m \u001b[32m━━━━━━━━━━━━━━━━━━━━\u001b[0m\u001b[37m\u001b[0m \u001b[1m2s\u001b[0m 35ms/step - accuracy: 0.6960 - loss: 0.8485 - val_accuracy: 0.4348 - val_loss: 1.2465\n",
            "Epoch 10/20\n",
            "\u001b[1m35/36\u001b[0m \u001b[32m━━━━━━━━━━━━━━━━━━━\u001b[0m\u001b[37m━\u001b[0m \u001b[1m0s\u001b[0m 31ms/step - accuracy: 0.7143 - loss: 0.8143\n",
            "Epoch 10: val_accuracy improved from 0.47205 to 0.47826, saving model to mobilenet_cbam_model.keras\n",
            "\u001b[1m36/36\u001b[0m \u001b[32m━━━━━━━━━━━━━━━━━━━━\u001b[0m\u001b[37m\u001b[0m \u001b[1m2s\u001b[0m 50ms/step - accuracy: 0.7146 - loss: 0.8124 - val_accuracy: 0.4783 - val_loss: 1.2076\n",
            "Epoch 11/20\n",
            "\u001b[1m35/36\u001b[0m \u001b[32m━━━━━━━━━━━━━━━━━━━\u001b[0m\u001b[37m━\u001b[0m \u001b[1m0s\u001b[0m 31ms/step - accuracy: 0.7587 - loss: 0.7209\n",
            "Epoch 11: val_accuracy improved from 0.47826 to 0.49068, saving model to mobilenet_cbam_model.keras\n",
            "\u001b[1m36/36\u001b[0m \u001b[32m━━━━━━━━━━━━━━━━━━━━\u001b[0m\u001b[37m\u001b[0m \u001b[1m2s\u001b[0m 50ms/step - accuracy: 0.7588 - loss: 0.7205 - val_accuracy: 0.4907 - val_loss: 1.1988\n",
            "Epoch 12/20\n",
            "\u001b[1m35/36\u001b[0m \u001b[32m━━━━━━━━━━━━━━━━━━━\u001b[0m\u001b[37m━\u001b[0m \u001b[1m0s\u001b[0m 30ms/step - accuracy: 0.7848 - loss: 0.6805\n",
            "Epoch 12: val_accuracy did not improve from 0.49068\n",
            "\u001b[1m36/36\u001b[0m \u001b[32m━━━━━━━━━━━━━━━━━━━━\u001b[0m\u001b[37m\u001b[0m \u001b[1m2s\u001b[0m 36ms/step - accuracy: 0.7846 - loss: 0.6800 - val_accuracy: 0.4720 - val_loss: 1.1802\n",
            "Epoch 13/20\n",
            "\u001b[1m35/36\u001b[0m \u001b[32m━━━━━━━━━━━━━━━━━━━\u001b[0m\u001b[37m━\u001b[0m \u001b[1m0s\u001b[0m 31ms/step - accuracy: 0.8002 - loss: 0.6308\n",
            "Epoch 13: val_accuracy improved from 0.49068 to 0.49689, saving model to mobilenet_cbam_model.keras\n",
            "\u001b[1m36/36\u001b[0m \u001b[32m━━━━━━━━━━━━━━━━━━━━\u001b[0m\u001b[37m\u001b[0m \u001b[1m3s\u001b[0m 47ms/step - accuracy: 0.7995 - loss: 0.6305 - val_accuracy: 0.4969 - val_loss: 1.2155\n",
            "Epoch 14/20\n",
            "\u001b[1m34/36\u001b[0m \u001b[32m━━━━━━━━━━━━━━━━━━\u001b[0m\u001b[37m━━\u001b[0m \u001b[1m0s\u001b[0m 33ms/step - accuracy: 0.8014 - loss: 0.5960\n",
            "Epoch 14: val_accuracy did not improve from 0.49689\n",
            "\u001b[1m36/36\u001b[0m \u001b[32m━━━━━━━━━━━━━━━━━━━━\u001b[0m\u001b[37m\u001b[0m \u001b[1m1s\u001b[0m 36ms/step - accuracy: 0.8010 - loss: 0.5954 - val_accuracy: 0.4658 - val_loss: 1.3059\n",
            "Epoch 15/20\n",
            "\u001b[1m35/36\u001b[0m \u001b[32m━━━━━━━━━━━━━━━━━━━\u001b[0m\u001b[37m━\u001b[0m \u001b[1m0s\u001b[0m 33ms/step - accuracy: 0.8011 - loss: 0.5597\n",
            "Epoch 15: val_accuracy did not improve from 0.49689\n",
            "\u001b[1m36/36\u001b[0m \u001b[32m━━━━━━━━━━━━━━━━━━━━\u001b[0m\u001b[37m\u001b[0m \u001b[1m1s\u001b[0m 37ms/step - accuracy: 0.8020 - loss: 0.5588 - val_accuracy: 0.4720 - val_loss: 1.2476\n",
            "Epoch 15: early stopping\n",
            "Restoring model weights from the end of the best epoch: 12.\n"
          ]
        }
      ]
    },
    {
      "cell_type": "code",
      "source": [
        "# Unfreeze the base model\n",
        "model.get_layer('mobilenetv2_1.00_224').trainable = True"
      ],
      "metadata": {
        "id": "-R896QikhnL3"
      },
      "execution_count": 108,
      "outputs": []
    },
    {
      "cell_type": "code",
      "source": [
        "\n",
        "# Recompile with lower learning rate\n",
        "model.compile(\n",
        "    optimizer=optimizers.Adam(1e-5),\n",
        "    loss='categorical_crossentropy',\n",
        "    metrics=['accuracy']\n",
        ")\n",
        "\n",
        "# Fine-tuning callbacks\n",
        "fine_tune_callbacks = [\n",
        "    callbacks.ModelCheckpoint('mobilenet_cbam_finetuned.keras', monitor='val_accuracy', save_best_only=True, verbose=1),\n",
        "    callbacks.EarlyStopping(monitor='val_loss', patience=5, restore_best_weights=True, verbose=1),\n",
        "    callbacks.ReduceLROnPlateau(monitor='val_loss', factor=0.5, patience=2, min_lr=1e-6, verbose=1)\n",
        "]\n",
        "\n",
        "# Fine-tune for additional epochs\n",
        "history2 = model.fit(\n",
        "    train_ds,\n",
        "    validation_data=val_ds,\n",
        "    epochs=20,\n",
        "    callbacks=fine_tune_callbacks\n",
        ")"
      ],
      "metadata": {
        "id": "agOay2NSjYnU",
        "colab": {
          "base_uri": "https://localhost:8080/"
        },
        "outputId": "128be3b3-c4a1-4336-8112-52bf5b864cc0"
      },
      "execution_count": 109,
      "outputs": [
        {
          "output_type": "stream",
          "name": "stdout",
          "text": [
            "Epoch 1/20\n",
            "\u001b[1m36/36\u001b[0m \u001b[32m━━━━━━━━━━━━━━━━━━━━\u001b[0m\u001b[37m\u001b[0m \u001b[1m0s\u001b[0m 713ms/step - accuracy: 0.2484 - loss: 3.6375\n",
            "Epoch 1: val_accuracy improved from -inf to 0.41615, saving model to mobilenet_cbam_finetuned.keras\n",
            "\u001b[1m36/36\u001b[0m \u001b[32m━━━━━━━━━━━━━━━━━━━━\u001b[0m\u001b[37m\u001b[0m \u001b[1m84s\u001b[0m 923ms/step - accuracy: 0.2496 - loss: 3.6267 - val_accuracy: 0.4161 - val_loss: 2.2304 - learning_rate: 1.0000e-05\n",
            "Epoch 2/20\n",
            "\u001b[1m35/36\u001b[0m \u001b[32m━━━━━━━━━━━━━━━━━━━\u001b[0m\u001b[37m━\u001b[0m \u001b[1m0s\u001b[0m 102ms/step - accuracy: 0.5171 - loss: 1.6067\n",
            "Epoch 2: val_accuracy improved from 0.41615 to 0.46584, saving model to mobilenet_cbam_finetuned.keras\n",
            "\u001b[1m36/36\u001b[0m \u001b[32m━━━━━━━━━━━━━━━━━━━━\u001b[0m\u001b[37m\u001b[0m \u001b[1m5s\u001b[0m 126ms/step - accuracy: 0.5182 - loss: 1.6033 - val_accuracy: 0.4658 - val_loss: 2.2384 - learning_rate: 1.0000e-05\n",
            "Epoch 3/20\n",
            "\u001b[1m35/36\u001b[0m \u001b[32m━━━━━━━━━━━━━━━━━━━\u001b[0m\u001b[37m━\u001b[0m \u001b[1m0s\u001b[0m 120ms/step - accuracy: 0.7001 - loss: 0.8811\n",
            "Epoch 3: val_accuracy improved from 0.46584 to 0.53416, saving model to mobilenet_cbam_finetuned.keras\n",
            "\u001b[1m36/36\u001b[0m \u001b[32m━━━━━━━━━━━━━━━━━━━━\u001b[0m\u001b[37m\u001b[0m \u001b[1m6s\u001b[0m 155ms/step - accuracy: 0.7005 - loss: 0.8794 - val_accuracy: 0.5342 - val_loss: 2.2255 - learning_rate: 1.0000e-05\n",
            "Epoch 4/20\n",
            "\u001b[1m35/36\u001b[0m \u001b[32m━━━━━━━━━━━━━━━━━━━\u001b[0m\u001b[37m━\u001b[0m \u001b[1m0s\u001b[0m 100ms/step - accuracy: 0.7936 - loss: 0.5725\n",
            "Epoch 4: val_accuracy improved from 0.53416 to 0.58385, saving model to mobilenet_cbam_finetuned.keras\n",
            "\u001b[1m36/36\u001b[0m \u001b[32m━━━━━━━━━━━━━━━━━━━━\u001b[0m\u001b[37m\u001b[0m \u001b[1m4s\u001b[0m 123ms/step - accuracy: 0.7936 - loss: 0.5719 - val_accuracy: 0.5839 - val_loss: 2.2388 - learning_rate: 1.0000e-05\n",
            "Epoch 5/20\n",
            "\u001b[1m35/36\u001b[0m \u001b[32m━━━━━━━━━━━━━━━━━━━\u001b[0m\u001b[37m━\u001b[0m \u001b[1m0s\u001b[0m 100ms/step - accuracy: 0.8522 - loss: 0.4016\n",
            "Epoch 5: val_accuracy did not improve from 0.58385\n",
            "\n",
            "Epoch 5: ReduceLROnPlateau reducing learning rate to 4.999999873689376e-06.\n",
            "\u001b[1m36/36\u001b[0m \u001b[32m━━━━━━━━━━━━━━━━━━━━\u001b[0m\u001b[37m\u001b[0m \u001b[1m4s\u001b[0m 102ms/step - accuracy: 0.8521 - loss: 0.4027 - val_accuracy: 0.5652 - val_loss: 2.2909 - learning_rate: 1.0000e-05\n",
            "Epoch 6/20\n",
            "\u001b[1m35/36\u001b[0m \u001b[32m━━━━━━━━━━━━━━━━━━━\u001b[0m\u001b[37m━\u001b[0m \u001b[1m0s\u001b[0m 103ms/step - accuracy: 0.8974 - loss: 0.3000\n",
            "Epoch 6: val_accuracy improved from 0.58385 to 0.59006, saving model to mobilenet_cbam_finetuned.keras\n",
            "\u001b[1m36/36\u001b[0m \u001b[32m━━━━━━━━━━━━━━━━━━━━\u001b[0m\u001b[37m\u001b[0m \u001b[1m5s\u001b[0m 139ms/step - accuracy: 0.8970 - loss: 0.3006 - val_accuracy: 0.5901 - val_loss: 2.2925 - learning_rate: 5.0000e-06\n",
            "Epoch 7/20\n",
            "\u001b[1m35/36\u001b[0m \u001b[32m━━━━━━━━━━━━━━━━━━━\u001b[0m\u001b[37m━\u001b[0m \u001b[1m0s\u001b[0m 101ms/step - accuracy: 0.9077 - loss: 0.2856\n",
            "Epoch 7: val_accuracy did not improve from 0.59006\n",
            "\n",
            "Epoch 7: ReduceLROnPlateau reducing learning rate to 2.499999936844688e-06.\n",
            "\u001b[1m36/36\u001b[0m \u001b[32m━━━━━━━━━━━━━━━━━━━━\u001b[0m\u001b[37m\u001b[0m \u001b[1m4s\u001b[0m 103ms/step - accuracy: 0.9074 - loss: 0.2862 - val_accuracy: 0.5652 - val_loss: 2.2638 - learning_rate: 5.0000e-06\n",
            "Epoch 8/20\n",
            "\u001b[1m35/36\u001b[0m \u001b[32m━━━━━━━━━━━━━━━━━━━\u001b[0m\u001b[37m━\u001b[0m \u001b[1m0s\u001b[0m 101ms/step - accuracy: 0.9238 - loss: 0.2161\n",
            "Epoch 8: val_accuracy did not improve from 0.59006\n",
            "\u001b[1m36/36\u001b[0m \u001b[32m━━━━━━━━━━━━━━━━━━━━\u001b[0m\u001b[37m\u001b[0m \u001b[1m4s\u001b[0m 106ms/step - accuracy: 0.9233 - loss: 0.2176 - val_accuracy: 0.5528 - val_loss: 2.1803 - learning_rate: 2.5000e-06\n",
            "Epoch 9/20\n",
            "\u001b[1m35/36\u001b[0m \u001b[32m━━━━━━━━━━━━━━━━━━━\u001b[0m\u001b[37m━\u001b[0m \u001b[1m0s\u001b[0m 102ms/step - accuracy: 0.9421 - loss: 0.1967\n",
            "Epoch 9: val_accuracy did not improve from 0.59006\n",
            "\u001b[1m36/36\u001b[0m \u001b[32m━━━━━━━━━━━━━━━━━━━━\u001b[0m\u001b[37m\u001b[0m \u001b[1m4s\u001b[0m 108ms/step - accuracy: 0.9416 - loss: 0.1979 - val_accuracy: 0.5652 - val_loss: 2.0669 - learning_rate: 2.5000e-06\n",
            "Epoch 10/20\n",
            "\u001b[1m35/36\u001b[0m \u001b[32m━━━━━━━━━━━━━━━━━━━\u001b[0m\u001b[37m━\u001b[0m \u001b[1m0s\u001b[0m 102ms/step - accuracy: 0.9457 - loss: 0.1977\n",
            "Epoch 10: val_accuracy did not improve from 0.59006\n",
            "\u001b[1m36/36\u001b[0m \u001b[32m━━━━━━━━━━━━━━━━━━━━\u001b[0m\u001b[37m\u001b[0m \u001b[1m5s\u001b[0m 106ms/step - accuracy: 0.9451 - loss: 0.1988 - val_accuracy: 0.5652 - val_loss: 1.9316 - learning_rate: 2.5000e-06\n",
            "Epoch 11/20\n",
            "\u001b[1m35/36\u001b[0m \u001b[32m━━━━━━━━━━━━━━━━━━━\u001b[0m\u001b[37m━\u001b[0m \u001b[1m0s\u001b[0m 101ms/step - accuracy: 0.9423 - loss: 0.1961\n",
            "Epoch 11: val_accuracy did not improve from 0.59006\n",
            "\u001b[1m36/36\u001b[0m \u001b[32m━━━━━━━━━━━━━━━━━━━━\u001b[0m\u001b[37m\u001b[0m \u001b[1m4s\u001b[0m 106ms/step - accuracy: 0.9419 - loss: 0.1972 - val_accuracy: 0.5528 - val_loss: 1.8278 - learning_rate: 2.5000e-06\n",
            "Epoch 12/20\n",
            "\u001b[1m35/36\u001b[0m \u001b[32m━━━━━━━━━━━━━━━━━━━\u001b[0m\u001b[37m━\u001b[0m \u001b[1m0s\u001b[0m 103ms/step - accuracy: 0.9466 - loss: 0.1865\n",
            "Epoch 12: val_accuracy did not improve from 0.59006\n",
            "\u001b[1m36/36\u001b[0m \u001b[32m━━━━━━━━━━━━━━━━━━━━\u001b[0m\u001b[37m\u001b[0m \u001b[1m4s\u001b[0m 109ms/step - accuracy: 0.9466 - loss: 0.1864 - val_accuracy: 0.5528 - val_loss: 1.7245 - learning_rate: 2.5000e-06\n",
            "Epoch 13/20\n",
            "\u001b[1m35/36\u001b[0m \u001b[32m━━━━━━━━━━━━━━━━━━━\u001b[0m\u001b[37m━\u001b[0m \u001b[1m0s\u001b[0m 103ms/step - accuracy: 0.9557 - loss: 0.1618\n",
            "Epoch 13: val_accuracy did not improve from 0.59006\n",
            "\u001b[1m36/36\u001b[0m \u001b[32m━━━━━━━━━━━━━━━━━━━━\u001b[0m\u001b[37m\u001b[0m \u001b[1m4s\u001b[0m 107ms/step - accuracy: 0.9554 - loss: 0.1626 - val_accuracy: 0.5776 - val_loss: 1.6171 - learning_rate: 2.5000e-06\n",
            "Epoch 14/20\n",
            "\u001b[1m35/36\u001b[0m \u001b[32m━━━━━━━━━━━━━━━━━━━\u001b[0m\u001b[37m━\u001b[0m \u001b[1m0s\u001b[0m 101ms/step - accuracy: 0.9636 - loss: 0.1503\n",
            "Epoch 14: val_accuracy did not improve from 0.59006\n",
            "\u001b[1m36/36\u001b[0m \u001b[32m━━━━━━━━━━━━━━━━━━━━\u001b[0m\u001b[37m\u001b[0m \u001b[1m4s\u001b[0m 106ms/step - accuracy: 0.9632 - loss: 0.1510 - val_accuracy: 0.5839 - val_loss: 1.5076 - learning_rate: 2.5000e-06\n",
            "Epoch 15/20\n",
            "\u001b[1m35/36\u001b[0m \u001b[32m━━━━━━━━━━━━━━━━━━━\u001b[0m\u001b[37m━\u001b[0m \u001b[1m0s\u001b[0m 102ms/step - accuracy: 0.9623 - loss: 0.1456\n",
            "Epoch 15: val_accuracy improved from 0.59006 to 0.61491, saving model to mobilenet_cbam_finetuned.keras\n",
            "\u001b[1m36/36\u001b[0m \u001b[32m━━━━━━━━━━━━━━━━━━━━\u001b[0m\u001b[37m\u001b[0m \u001b[1m5s\u001b[0m 132ms/step - accuracy: 0.9618 - loss: 0.1465 - val_accuracy: 0.6149 - val_loss: 1.3927 - learning_rate: 2.5000e-06\n",
            "Epoch 16/20\n",
            "\u001b[1m35/36\u001b[0m \u001b[32m━━━━━━━━━━━━━━━━━━━\u001b[0m\u001b[37m━\u001b[0m \u001b[1m0s\u001b[0m 105ms/step - accuracy: 0.9543 - loss: 0.1538\n",
            "Epoch 16: val_accuracy improved from 0.61491 to 0.65839, saving model to mobilenet_cbam_finetuned.keras\n",
            "\u001b[1m36/36\u001b[0m \u001b[32m━━━━━━━━━━━━━━━━━━━━\u001b[0m\u001b[37m\u001b[0m \u001b[1m5s\u001b[0m 130ms/step - accuracy: 0.9546 - loss: 0.1534 - val_accuracy: 0.6584 - val_loss: 1.3125 - learning_rate: 2.5000e-06\n",
            "Epoch 17/20\n",
            "\u001b[1m35/36\u001b[0m \u001b[32m━━━━━━━━━━━━━━━━━━━\u001b[0m\u001b[37m━\u001b[0m \u001b[1m0s\u001b[0m 101ms/step - accuracy: 0.9787 - loss: 0.1200\n",
            "Epoch 17: val_accuracy improved from 0.65839 to 0.66460, saving model to mobilenet_cbam_finetuned.keras\n",
            "\u001b[1m36/36\u001b[0m \u001b[32m━━━━━━━━━━━━━━━━━━━━\u001b[0m\u001b[37m\u001b[0m \u001b[1m5s\u001b[0m 128ms/step - accuracy: 0.9782 - loss: 0.1207 - val_accuracy: 0.6646 - val_loss: 1.2381 - learning_rate: 2.5000e-06\n",
            "Epoch 18/20\n",
            "\u001b[1m36/36\u001b[0m \u001b[32m━━━━━━━━━━━━━━━━━━━━\u001b[0m\u001b[37m\u001b[0m \u001b[1m0s\u001b[0m 111ms/step - accuracy: 0.9744 - loss: 0.1256\n",
            "Epoch 18: val_accuracy improved from 0.66460 to 0.67702, saving model to mobilenet_cbam_finetuned.keras\n",
            "\u001b[1m36/36\u001b[0m \u001b[32m━━━━━━━━━━━━━━━━━━━━\u001b[0m\u001b[37m\u001b[0m \u001b[1m7s\u001b[0m 190ms/step - accuracy: 0.9742 - loss: 0.1261 - val_accuracy: 0.6770 - val_loss: 1.1814 - learning_rate: 2.5000e-06\n",
            "Epoch 19/20\n",
            "\u001b[1m35/36\u001b[0m \u001b[32m━━━━━━━━━━━━━━━━━━━\u001b[0m\u001b[37m━\u001b[0m \u001b[1m0s\u001b[0m 120ms/step - accuracy: 0.9874 - loss: 0.1104\n",
            "Epoch 19: val_accuracy improved from 0.67702 to 0.68944, saving model to mobilenet_cbam_finetuned.keras\n",
            "\u001b[1m36/36\u001b[0m \u001b[32m━━━━━━━━━━━━━━━━━━━━\u001b[0m\u001b[37m\u001b[0m \u001b[1m5s\u001b[0m 145ms/step - accuracy: 0.9869 - loss: 0.1108 - val_accuracy: 0.6894 - val_loss: 1.1290 - learning_rate: 2.5000e-06\n",
            "Epoch 20/20\n",
            "\u001b[1m35/36\u001b[0m \u001b[32m━━━━━━━━━━━━━━━━━━━\u001b[0m\u001b[37m━\u001b[0m \u001b[1m0s\u001b[0m 101ms/step - accuracy: 0.9805 - loss: 0.1134\n",
            "Epoch 20: val_accuracy improved from 0.68944 to 0.72050, saving model to mobilenet_cbam_finetuned.keras\n",
            "\u001b[1m36/36\u001b[0m \u001b[32m━━━━━━━━━━━━━━━━━━━━\u001b[0m\u001b[37m\u001b[0m \u001b[1m5s\u001b[0m 126ms/step - accuracy: 0.9799 - loss: 0.1142 - val_accuracy: 0.7205 - val_loss: 1.0775 - learning_rate: 2.5000e-06\n",
            "Restoring model weights from the end of the best epoch: 20.\n"
          ]
        }
      ]
    },
    {
      "cell_type": "code",
      "source": [
        "model.save(\"mobilenet_cbam_final.keras\")"
      ],
      "metadata": {
        "id": "rbbqQlkdufZR"
      },
      "execution_count": 110,
      "outputs": []
    },
    {
      "cell_type": "markdown",
      "source": [
        "EVALUATION OF MOBILENET-V2"
      ],
      "metadata": {
        "id": "qi1Jjm7DusPf"
      }
    },
    {
      "cell_type": "code",
      "source": [
        "# import os\n",
        "\n",
        "# # List all files in the current directory\n",
        "# print(os.listdir())"
      ],
      "metadata": {
        "colab": {
          "base_uri": "https://localhost:8080/"
        },
        "id": "Clzwr-UghN3q",
        "outputId": "d4b1fbb8-6d86-4663-bd7d-f7ed1543ff0b"
      },
      "execution_count": null,
      "outputs": [
        {
          "output_type": "stream",
          "name": "stdout",
          "text": [
            "['.config', 'nasnet_model.keras', 'drive', 'Original_Dataset', 'split_dataset', 'mobilenetv2_wheat.keras', 'nasnet_cbam_model.keras', 'sample_data']\n"
          ]
        }
      ]
    },
    {
      "cell_type": "code",
      "source": [
        "from tensorflow.keras.models import load_model\n",
        "\n",
        "# Loading the best model from training\n",
        "model_cbam_loaded = load_model('mobilenet_cbam_model.keras', custom_objects={'CBAM': CBAM})"
      ],
      "metadata": {
        "id": "sZAyiAZkgt51"
      },
      "execution_count": null,
      "outputs": []
    },
    {
      "cell_type": "code",
      "source": [
        "from tensorflow.keras.models import load_model\n",
        "\n",
        "model = load_model(\n",
        "    \"mobilenet_cbam_final.keras\",\n",
        "    custom_objects={\n",
        "        \"CBAM\": CBAM,\n",
        "        \"ChannelMean\": ChannelMean,\n",
        "        \"ChannelMax\": ChannelMax\n",
        "    }\n",
        ")"
      ],
      "metadata": {
        "id": "TPtsaoL0wqjm"
      },
      "execution_count": 111,
      "outputs": []
    },
    {
      "cell_type": "code",
      "source": [
        "loss, acc = model.evaluate(test_ds)\n",
        "print(f\"Test Accuracy: {acc:.4f}\")\n",
        "print(f\"Test Loss: {loss:.4f}\")"
      ],
      "metadata": {
        "colab": {
          "base_uri": "https://localhost:8080/"
        },
        "id": "99Bwcl4mw0WJ",
        "outputId": "2086235b-4af8-401c-e481-1f8d506f7d2a"
      },
      "execution_count": 112,
      "outputs": [
        {
          "output_type": "stream",
          "name": "stdout",
          "text": [
            "\u001b[1m10/10\u001b[0m \u001b[32m━━━━━━━━━━━━━━━━━━━━\u001b[0m\u001b[37m\u001b[0m \u001b[1m9s\u001b[0m 132ms/step - accuracy: 0.6462 - loss: 1.1766\n",
            "Test Accuracy: 0.6594\n",
            "Test Loss: 1.1161\n"
          ]
        }
      ]
    },
    {
      "cell_type": "code",
      "source": [
        "import numpy as np\n",
        "\n",
        "y_true = []\n",
        "y_pred = []\n",
        "y_prob = []\n",
        "\n",
        "for images, labels in test_ds:\n",
        "    preds = model.predict(images)\n",
        "    y_true.extend(tf.argmax(labels, axis=1).numpy())\n",
        "    y_pred.extend(tf.argmax(preds, axis=1).numpy())\n",
        "    y_prob.extend(preds)  # raw probabilities"
      ],
      "metadata": {
        "colab": {
          "base_uri": "https://localhost:8080/"
        },
        "id": "6GnGmX2Rxcp1",
        "outputId": "a950d3a1-97f4-45f7-8460-90caba402399"
      },
      "execution_count": 117,
      "outputs": [
        {
          "output_type": "stream",
          "name": "stdout",
          "text": [
            "\u001b[1m1/1\u001b[0m \u001b[32m━━━━━━━━━━━━━━━━━━━━\u001b[0m\u001b[37m\u001b[0m \u001b[1m8s\u001b[0m 8s/step\n",
            "\u001b[1m1/1\u001b[0m \u001b[32m━━━━━━━━━━━━━━━━━━━━\u001b[0m\u001b[37m\u001b[0m \u001b[1m0s\u001b[0m 319ms/step\n",
            "\u001b[1m1/1\u001b[0m \u001b[32m━━━━━━━━━━━━━━━━━━━━\u001b[0m\u001b[37m\u001b[0m \u001b[1m0s\u001b[0m 99ms/step\n",
            "\u001b[1m1/1\u001b[0m \u001b[32m━━━━━━━━━━━━━━━━━━━━\u001b[0m\u001b[37m\u001b[0m \u001b[1m0s\u001b[0m 115ms/step\n",
            "\u001b[1m1/1\u001b[0m \u001b[32m━━━━━━━━━━━━━━━━━━━━\u001b[0m\u001b[37m\u001b[0m \u001b[1m0s\u001b[0m 118ms/step\n",
            "\u001b[1m1/1\u001b[0m \u001b[32m━━━━━━━━━━━━━━━━━━━━\u001b[0m\u001b[37m\u001b[0m \u001b[1m0s\u001b[0m 179ms/step\n",
            "\u001b[1m1/1\u001b[0m \u001b[32m━━━━━━━━━━━━━━━━━━━━\u001b[0m\u001b[37m\u001b[0m \u001b[1m0s\u001b[0m 89ms/step\n",
            "\u001b[1m1/1\u001b[0m \u001b[32m━━━━━━━━━━━━━━━━━━━━\u001b[0m\u001b[37m\u001b[0m \u001b[1m0s\u001b[0m 73ms/step\n",
            "\u001b[1m1/1\u001b[0m \u001b[32m━━━━━━━━━━━━━━━━━━━━\u001b[0m\u001b[37m\u001b[0m \u001b[1m0s\u001b[0m 71ms/step\n",
            "\u001b[1m1/1\u001b[0m \u001b[32m━━━━━━━━━━━━━━━━━━━━\u001b[0m\u001b[37m\u001b[0m \u001b[1m8s\u001b[0m 8s/step\n"
          ]
        }
      ]
    },
    {
      "cell_type": "code",
      "source": [
        "from sklearn.metrics import classification_report\n",
        "class_names = ['BlackPoint', 'WhearBlast', 'LeafBlight', 'FusariumFootRot', 'HealthyLeaf']\n",
        "\n",
        "print(classification_report(y_true, y_pred, target_names=class_names))"
      ],
      "metadata": {
        "colab": {
          "base_uri": "https://localhost:8080/"
        },
        "id": "tG8e89jxxnQn",
        "outputId": "6cf6c20c-e83f-4367-9665-794c32adf19e"
      },
      "execution_count": 119,
      "outputs": [
        {
          "output_type": "stream",
          "name": "stdout",
          "text": [
            "                 precision    recall  f1-score   support\n",
            "\n",
            "     BlackPoint       0.51      0.98      0.67        60\n",
            "     WhearBlast       0.88      0.44      0.59        50\n",
            "     LeafBlight       1.00      0.04      0.08        50\n",
            "FusariumFootRot       0.63      0.82      0.71        80\n",
            "    HealthyLeaf       0.85      0.78      0.81        80\n",
            "\n",
            "       accuracy                           0.66       320\n",
            "      macro avg       0.77      0.61      0.57       320\n",
            "   weighted avg       0.76      0.66      0.61       320\n",
            "\n"
          ]
        }
      ]
    },
    {
      "cell_type": "code",
      "source": [
        "from sklearn.metrics import confusion_matrix\n",
        "import seaborn as sns\n",
        "import matplotlib.pyplot as plt\n",
        "\n",
        "cm = confusion_matrix(y_true, y_pred)\n",
        "\n",
        "plt.figure(figsize=(8, 6))\n",
        "sns.heatmap(cm, annot=True, fmt='d', cmap='Blues',\n",
        "            xticklabels=class_names,\n",
        "            yticklabels=class_names)\n",
        "plt.xlabel('Predicted')\n",
        "plt.ylabel('True')\n",
        "plt.title('Confusion Matrix')\n",
        "plt.show()"
      ],
      "metadata": {
        "colab": {
          "base_uri": "https://localhost:8080/",
          "height": 588
        },
        "id": "ejP2Bx_0xoqH",
        "outputId": "c03989e1-f530-4d07-9e8b-376e8ddd1259"
      },
      "execution_count": 120,
      "outputs": [
        {
          "output_type": "display_data",
          "data": {
            "text/plain": [
              "<Figure size 800x600 with 2 Axes>"
            ],
            "image/png": "[encoded data removed]"
          },
          "metadata": {}
        }
      ]
    },
    {
      "cell_type": "code",
      "source": [
        "from sklearn.metrics import roc_curve, auc\n",
        "from sklearn.preprocessing import label_binarize\n",
        "from sklearn.metrics import RocCurveDisplay\n",
        "\n",
        "# Binarize true labels for multi-class ROC AUC\n",
        "num_classes = len(class_names)\n",
        "y_true_bin = label_binarize(y_true, classes=range(num_classes))\n",
        "y_prob = np.array(y_prob)\n",
        "\n",
        "plt.figure(figsize=(10, 8))\n",
        "for i in range(num_classes):\n",
        "    fpr, tpr, _ = roc_curve(y_true_bin[:, i], y_prob[:, i])\n",
        "    roc_auc = auc(fpr, tpr)\n",
        "    RocCurveDisplay(fpr=fpr, tpr=tpr, roc_auc=roc_auc, estimator_name=class_names[i]).plot(ax=plt.gca())\n",
        "\n",
        "plt.title('ROC Curves (One-vs-Rest)')\n",
        "plt.grid(True)\n",
        "plt.show()"
      ],
      "metadata": {
        "colab": {
          "base_uri": "https://localhost:8080/",
          "height": 738
        },
        "id": "Em112-l1zG-C",
        "outputId": "3ead4b34-d925-4b6d-8e76-31df1b410875"
      },
      "execution_count": 122,
      "outputs": [
        {
          "output_type": "display_data",
          "data": {
            "text/plain": [
              "<Figure size 1000x800 with 1 Axes>"
            ],
            "image/png": "[encoded data removed]"
          },
          "metadata": {}
        }
      ]
    },
    {
      "cell_type": "markdown",
      "source": [
        "CUSTOM CNN"
      ],
      "metadata": {
        "id": "dbxWZppmqFQ7"
      }
    },
    {
      "cell_type": "code",
      "source": [
        "#new model\n",
        "from tensorflow.keras import backend as K\n",
        "K.clear_session()"
      ],
      "metadata": {
        "id": "qoTc9Kjap8l_"
      },
      "execution_count": null,
      "outputs": []
    },
    {
      "cell_type": "code",
      "source": [
        "# CNN model\n",
        "def build_custom_cnn(input_shape=(224, 224, 3), num_classes=5):\n",
        "    model3 = models.Sequential([\n",
        "        layers.Conv2D(32, (3,3), activation='relu', input_shape=input_shape),\n",
        "        layers.MaxPooling2D(2, 2),\n",
        "        layers.Conv2D(64, (3,3), activation='relu'),\n",
        "        layers.MaxPooling2D(2, 2),\n",
        "        layers.Conv2D(128, (3,3), activation='relu'),\n",
        "        layers.MaxPooling2D(2, 2),\n",
        "        layers.Flatten(),\n",
        "        layers.Dense(128, activation='relu'),\n",
        "        layers.Dropout(0.5),\n",
        "        layers.Dense(num_classes, activation='softmax')\n",
        "    ])\n",
        "    return model3"
      ],
      "metadata": {
        "id": "kn1M6Zx6xSoA"
      },
      "execution_count": null,
      "outputs": []
    },
    {
      "cell_type": "code",
      "source": [
        "# compile and train CNN model\n",
        "cnn_model = build_custom_cnn()\n",
        "cnn_model.compile(optimizer='adam', loss='categorical_crossentropy', metrics=['accuracy'])\n",
        "\n",
        "history_cnn = cnn_model.fit(train_ds, validation_data=val_ds, epochs=10)"
      ],
      "metadata": {
        "colab": {
          "base_uri": "https://localhost:8080/"
        },
        "id": "Hc5frpocqLOK",
        "outputId": "d65e41f8-1af1-424c-94db-cc77d9ff4828"
      },
      "execution_count": null,
      "outputs": [
        {
          "output_type": "stream",
          "name": "stdout",
          "text": [
            "Epoch 1/10\n"
          ]
        },
        {
          "output_type": "stream",
          "name": "stderr",
          "text": [
            "/usr/local/lib/python3.11/dist-packages/keras/src/layers/convolutional/base_conv.py:107: UserWarning: Do not pass an `input_shape`/`input_dim` argument to a layer. When using Sequential models, prefer using an `Input(shape)` object as the first layer in the model instead.\n",
            "  super().__init__(activity_regularizer=activity_regularizer, **kwargs)\n"
          ]
        },
        {
          "output_type": "stream",
          "name": "stdout",
          "text": [
            "\u001b[1m36/36\u001b[0m \u001b[32m━━━━━━━━━━━━━━━━━━━━\u001b[0m\u001b[37m\u001b[0m \u001b[1m13s\u001b[0m 156ms/step - accuracy: 0.1985 - loss: 232.3097 - val_accuracy: 0.3540 - val_loss: 1.5925\n",
            "Epoch 2/10\n",
            "\u001b[1m36/36\u001b[0m \u001b[32m━━━━━━━━━━━━━━━━━━━━\u001b[0m\u001b[37m\u001b[0m \u001b[1m2s\u001b[0m 45ms/step - accuracy: 0.3045 - loss: 1.5204 - val_accuracy: 0.2236 - val_loss: 1.9353\n",
            "Epoch 3/10\n",
            "\u001b[1m36/36\u001b[0m \u001b[32m━━━━━━━━━━━━━━━━━━━━\u001b[0m\u001b[37m\u001b[0m \u001b[1m2s\u001b[0m 48ms/step - accuracy: 0.3354 - loss: 1.5173 - val_accuracy: 0.3602 - val_loss: 1.5007\n",
            "Epoch 4/10\n",
            "\u001b[1m36/36\u001b[0m \u001b[32m━━━━━━━━━━━━━━━━━━━━\u001b[0m\u001b[37m\u001b[0m \u001b[1m2s\u001b[0m 46ms/step - accuracy: 0.3647 - loss: 1.4796 - val_accuracy: 0.3043 - val_loss: 1.5678\n",
            "Epoch 5/10\n",
            "\u001b[1m36/36\u001b[0m \u001b[32m━━━━━━━━━━━━━━━━━━━━\u001b[0m\u001b[37m\u001b[0m \u001b[1m2s\u001b[0m 45ms/step - accuracy: 0.4277 - loss: 1.3546 - val_accuracy: 0.2981 - val_loss: 1.5600\n",
            "Epoch 6/10\n",
            "\u001b[1m36/36\u001b[0m \u001b[32m━━━━━━━━━━━━━━━━━━━━\u001b[0m\u001b[37m\u001b[0m \u001b[1m3s\u001b[0m 46ms/step - accuracy: 0.4940 - loss: 1.2221 - val_accuracy: 0.2981 - val_loss: 1.5625\n",
            "Epoch 7/10\n",
            "\u001b[1m36/36\u001b[0m \u001b[32m━━━━━━━━━━━━━━━━━━━━\u001b[0m\u001b[37m\u001b[0m \u001b[1m2s\u001b[0m 46ms/step - accuracy: 0.5262 - loss: 1.1251 - val_accuracy: 0.2733 - val_loss: 1.8679\n",
            "Epoch 8/10\n",
            "\u001b[1m36/36\u001b[0m \u001b[32m━━━━━━━━━━━━━━━━━━━━\u001b[0m\u001b[37m\u001b[0m \u001b[1m2s\u001b[0m 46ms/step - accuracy: 0.5352 - loss: 1.1408 - val_accuracy: 0.2733 - val_loss: 1.5726\n",
            "Epoch 9/10\n",
            "\u001b[1m36/36\u001b[0m \u001b[32m━━━━━━━━━━━━━━━━━━━━\u001b[0m\u001b[37m\u001b[0m \u001b[1m3s\u001b[0m 50ms/step - accuracy: 0.4924 - loss: 1.1536 - val_accuracy: 0.2857 - val_loss: 1.6070\n",
            "Epoch 10/10\n",
            "\u001b[1m36/36\u001b[0m \u001b[32m━━━━━━━━━━━━━━━━━━━━\u001b[0m\u001b[37m\u001b[0m \u001b[1m2s\u001b[0m 47ms/step - accuracy: 0.6109 - loss: 0.9437 - val_accuracy: 0.2857 - val_loss: 1.9657\n"
          ]
        }
      ]
    },
    {
      "cell_type": "code",
      "source": [
        "cnn_model.save(\"custom_cnn_model.keras\")"
      ],
      "metadata": {
        "id": "Npqrqthiqiu3"
      },
      "execution_count": null,
      "outputs": []
    },
    {
      "cell_type": "code",
      "source": [
        "from tensorflow.keras.models import load_model\n",
        "cnn_model = load_model(\"custom_cnn_model.keras\")"
      ],
      "metadata": {
        "id": "tvGg8sUnrGfH"
      },
      "execution_count": null,
      "outputs": []
    },
    {
      "cell_type": "code",
      "source": [
        "test_loss, test_acc = cnn_model.evaluate(test_ds)\n",
        "print(f\"Test Accuracy: {test_acc:.4f}\")\n",
        "print(f\"Test Loss: {test_loss:.4f}\")"
      ],
      "metadata": {
        "colab": {
          "base_uri": "https://localhost:8080/"
        },
        "id": "0pe1_oZzrPDF",
        "outputId": "a3077089-2e43-48f6-cce7-6f0531816b69"
      },
      "execution_count": null,
      "outputs": [
        {
          "output_type": "stream",
          "name": "stdout",
          "text": [
            "\u001b[1m10/10\u001b[0m \u001b[32m━━━━━━━━━━━━━━━━━━━━\u001b[0m\u001b[37m\u001b[0m \u001b[1m1s\u001b[0m 23ms/step - accuracy: 0.3633 - loss: 1.8234\n",
            "Test Accuracy: 0.3375\n",
            "Test Loss: 1.8766\n"
          ]
        }
      ]
    },
    {
      "cell_type": "code",
      "source": [
        "import numpy as np\n",
        "\n",
        "# to get true labels and predicted probabilities\n",
        "y_true = np.concatenate([y for x, y in test_ds], axis=0)\n",
        "y_pred_probs = cnn_model.predict(test_ds)\n",
        "y_pred = np.argmax(y_pred_probs, axis=1)\n",
        "y_true = np.argmax(y_true, axis=1)  # converting one-hot to label\n"
      ],
      "metadata": {
        "colab": {
          "base_uri": "https://localhost:8080/"
        },
        "id": "Sh4zg8LYrR-7",
        "outputId": "ca75936b-b60e-4169-fe17-5203da3f021b"
      },
      "execution_count": null,
      "outputs": [
        {
          "output_type": "stream",
          "name": "stdout",
          "text": [
            "\u001b[1m10/10\u001b[0m \u001b[32m━━━━━━━━━━━━━━━━━━━━\u001b[0m\u001b[37m\u001b[0m \u001b[1m1s\u001b[0m 21ms/step\n"
          ]
        }
      ]
    },
    {
      "cell_type": "code",
      "source": [
        "from sklearn.metrics import classification_report, confusion_matrix\n",
        "import seaborn as sns\n",
        "import matplotlib.pyplot as plt\n",
        "\n",
        "# Classification report\n",
        "print(\"Classification Report:\")\n",
        "print(classification_report(y_true, y_pred))\n",
        "\n",
        "# Confusion matrix\n",
        "cm = confusion_matrix(y_true, y_pred)\n",
        "plt.figure(figsize=(8,6))\n",
        "sns.heatmap(cm, annot=True, fmt=\"d\", cmap=\"Blues\")\n",
        "plt.xlabel(\"Predicted Label\")\n",
        "plt.ylabel(\"True Label\")\n",
        "plt.title(\"Confusion Matrix\")\n",
        "plt.show()"
      ],
      "metadata": {
        "colab": {
          "base_uri": "https://localhost:8080/",
          "height": 790
        },
        "id": "f7Pbyimdrl6B",
        "outputId": "c0e8ab0e-4913-4606-b665-a41b62963faa"
      },
      "execution_count": null,
      "outputs": [
        {
          "output_type": "stream",
          "name": "stdout",
          "text": [
            "Classification Report:\n",
            "              precision    recall  f1-score   support\n",
            "\n",
            "           0       1.00      0.03      0.06        60\n",
            "           1       0.25      0.34      0.29        50\n",
            "           2       1.00      0.02      0.04        50\n",
            "           3       0.33      0.69      0.44        80\n",
            "           4       0.40      0.41      0.41        80\n",
            "\n",
            "    accuracy                           0.34       320\n",
            "   macro avg       0.60      0.30      0.25       320\n",
            "weighted avg       0.57      0.34      0.28       320\n",
            "\n"
          ]
        },
        {
          "output_type": "display_data",
          "data": {
            "text/plain": [
              "<Figure size 800x600 with 2 Axes>"
            ],
            "image/png": "[encoded data removed]"
          },
          "metadata": {}
        }
      ]
    },
    {
      "cell_type": "code",
      "source": [
        "from sklearn.metrics import roc_curve, auc\n",
        "from sklearn.preprocessing import label_binarize\n",
        "\n",
        "# Binarize true labels for multi-class ROC\n",
        "n_classes = len(np.unique(y_true))\n",
        "y_true_bin = label_binarize(y_true, classes=range(n_classes))\n",
        "\n",
        "# Calculate FPR, TPR, AUC for each class\n",
        "fpr = {}\n",
        "tpr = {}\n",
        "roc_auc = {}\n",
        "for i in range(n_classes):\n",
        "    fpr[i], tpr[i], _ = roc_curve(y_true_bin[:, i], y_pred_probs[:, i])\n",
        "    roc_auc[i] = auc(fpr[i], tpr[i])\n",
        "\n",
        "# Plot ROC curves\n",
        "plt.figure(figsize=(10, 8))\n",
        "for i in range(n_classes):\n",
        "    plt.plot(fpr[i], tpr[i], label=f'Class {i} (AUC = {roc_auc[i]:.2f})')\n",
        "\n",
        "plt.plot([0, 1], [0, 1], 'k--', label='Random Chance')\n",
        "plt.xlabel(\"False Positive Rate\")\n",
        "plt.ylabel(\"True Positive Rate\")\n",
        "plt.title(\"ROC-AUC Curve (Multi-class)\")\n",
        "plt.legend(loc='lower right')\n",
        "plt.grid()\n",
        "plt.show()"
      ],
      "metadata": {
        "colab": {
          "base_uri": "https://localhost:8080/",
          "height": 551
        },
        "id": "lRto9Tabrovx",
        "outputId": "7d522b29-c128-42c7-d10e-9bba01064cf7"
      },
      "execution_count": null,
      "outputs": [
        {
          "output_type": "display_data",
          "data": {
            "text/plain": [
              "<Figure size 1000x800 with 1 Axes>"
            ],
            "image/png": "[encoded data removed]"
          },
          "metadata": {}
        }
      ]
    },
    {
      "cell_type": "markdown",
      "source": [
        "NASNetMobile"
      ],
      "metadata": {
        "id": "i4zKPPgUSfnL"
      }
    },
    {
      "cell_type": "code",
      "source": [
        "from tensorflow.keras import backend as K\n",
        "K.clear_session()"
      ],
      "metadata": {
        "id": "t-UQGt53Tb_c"
      },
      "execution_count": null,
      "outputs": []
    },
    {
      "cell_type": "code",
      "source": [
        "import tensorflow as tf\n",
        "from tensorflow.keras.applications import NASNetMobile\n",
        "from tensorflow.keras import layers, models, optimizers, callbacks\n",
        "from tensorflow.keras.utils import register_keras_serializable"
      ],
      "metadata": {
        "id": "umdrmo--Y-mf"
      },
      "execution_count": null,
      "outputs": []
    },
    {
      "cell_type": "code",
      "source": [
        "# CBAM MODULE\n",
        "@register_keras_serializable()\n",
        "class CBAM(tf.keras.layers.Layer):\n",
        "    def __init__(self, filters, reduction_ratio=8, **kwargs):\n",
        "        super(CBAM, self).__init__(**kwargs)\n",
        "        self.filters = filters\n",
        "        self.reduction_ratio = reduction_ratio\n",
        "\n",
        "    def build(self, input_shape):\n",
        "        self.shared_mlp = tf.keras.Sequential([\n",
        "            layers.Dense(self.filters // self.reduction_ratio, activation='relu'),\n",
        "            layers.Dense(self.filters)\n",
        "        ])\n",
        "        self.conv_spatial = layers.Conv2D(1, kernel_size=7, padding='same', activation='sigmoid')\n",
        "\n",
        "    def call(self, input_tensor):\n",
        "        # Channel attention\n",
        "        avg_pool = tf.reduce_mean(input_tensor, axis=[1, 2], keepdims=True)\n",
        "        max_pool = tf.reduce_max(input_tensor, axis=[1, 2], keepdims=True)\n",
        "        channel_attention = tf.nn.sigmoid(\n",
        "            self.shared_mlp(avg_pool) + self.shared_mlp(max_pool)\n",
        "        )\n",
        "        x = input_tensor * channel_attention\n",
        "\n",
        "        # Spatial attention\n",
        "        avg_pool = tf.reduce_mean(x, axis=-1, keepdims=True)\n",
        "        max_pool = tf.reduce_max(x, axis=-1, keepdims=True)\n",
        "        concat = tf.concat([avg_pool, max_pool], axis=-1)\n",
        "        spatial_attention = self.conv_spatial(concat)\n",
        "        x = x * spatial_attention\n",
        "        return x"
      ],
      "metadata": {
        "id": "c5Dl73OYZDOj"
      },
      "execution_count": null,
      "outputs": []
    },
    {
      "cell_type": "code",
      "source": [
        "# MODEL BUILD FUNCTIONAL\n",
        "def build_nasnet_cbam(input_shape=(224, 224, 3), num_classes=5):\n",
        "    inputs = tf.keras.Input(shape=input_shape)\n",
        "    base_model = NASNetMobile(weights='imagenet', include_top=False, input_tensor=inputs)\n",
        "    base_model.trainable = False  # freeze NASNet\n",
        "\n",
        "    x = base_model.output\n",
        "    x = CBAM(filters=x.shape[-1])(x)\n",
        "    x = layers.GlobalAveragePooling2D()(x)\n",
        "    x = layers.Dense(128, activation='relu')(x)\n",
        "    x = layers.Dropout(0.5)(x)\n",
        "    outputs = layers.Dense(num_classes, activation='softmax')(x)\n",
        "\n",
        "    model = tf.keras.Model(inputs=inputs, outputs=outputs)\n",
        "    return model, base_model"
      ],
      "metadata": {
        "id": "QbG9-qIiZjnb"
      },
      "execution_count": null,
      "outputs": []
    },
    {
      "cell_type": "code",
      "source": [
        "# BUILD MODEL\n",
        "model_cbam, base_model = build_nasnet_cbam()"
      ],
      "metadata": {
        "id": "BOGxd4xZZy37"
      },
      "execution_count": null,
      "outputs": []
    },
    {
      "cell_type": "code",
      "source": [
        "# COMPILE\n",
        "model_cbam.compile(\n",
        "    optimizer=optimizers.Adam(learning_rate=1e-5),\n",
        "    loss='categorical_crossentropy',\n",
        "    metrics=['accuracy']\n",
        ")\n",
        "\n",
        "# CALLBACKS\n",
        "cbam_callbacks = [\n",
        "    callbacks.ModelCheckpoint('nasnet_cbam_model.keras', monitor='val_accuracy', save_best_only=True, verbose=1),\n",
        "    callbacks.EarlyStopping(monitor='val_loss', patience=3, restore_best_weights=True, verbose=1)\n",
        "]"
      ],
      "metadata": {
        "id": "f46_HcTcbVQw"
      },
      "execution_count": null,
      "outputs": []
    },
    {
      "cell_type": "code",
      "source": [
        "# ---- TRAIN ---- #\n",
        "history_cbam = model_cbam.fit(\n",
        "    train_ds,\n",
        "    validation_data=val_ds,\n",
        "    epochs=20,\n",
        "    callbacks=cbam_callbacks\n",
        ")"
      ],
      "metadata": {
        "colab": {
          "base_uri": "https://localhost:8080/"
        },
        "id": "Pgu8o5M0bdlU",
        "outputId": "bb344de0-728f-401e-ac9f-633a69de2ee9"
      },
      "execution_count": null,
      "outputs": [
        {
          "output_type": "stream",
          "name": "stdout",
          "text": [
            "Epoch 1/20\n",
            "\u001b[1m36/36\u001b[0m \u001b[32m━━━━━━━━━━━━━━━━━━━━\u001b[0m\u001b[37m\u001b[0m \u001b[1m0s\u001b[0m 382ms/step - accuracy: 0.1964 - loss: 2.8347\n",
            "Epoch 1: val_accuracy improved from -inf to 0.15528, saving model to nasnet_cbam_model.keras\n",
            "\u001b[1m36/36\u001b[0m \u001b[32m━━━━━━━━━━━━━━━━━━━━\u001b[0m\u001b[37m\u001b[0m \u001b[1m72s\u001b[0m 1s/step - accuracy: 0.1967 - loss: 2.8341 - val_accuracy: 0.1553 - val_loss: 2.2362\n",
            "Epoch 2/20\n",
            "\u001b[1m35/36\u001b[0m \u001b[32m━━━━━━━━━━━━━━━━━━━\u001b[0m\u001b[37m━\u001b[0m \u001b[1m0s\u001b[0m 57ms/step - accuracy: 0.1776 - loss: 2.8426\n",
            "Epoch 2: val_accuracy did not improve from 0.15528\n",
            "\u001b[1m36/36\u001b[0m \u001b[32m━━━━━━━━━━━━━━━━━━━━\u001b[0m\u001b[37m\u001b[0m \u001b[1m3s\u001b[0m 74ms/step - accuracy: 0.1790 - loss: 2.8357 - val_accuracy: 0.1553 - val_loss: 2.1695\n",
            "Epoch 3/20\n",
            "\u001b[1m35/36\u001b[0m \u001b[32m━━━━━━━━━━━━━━━━━━━\u001b[0m\u001b[37m━\u001b[0m \u001b[1m0s\u001b[0m 61ms/step - accuracy: 0.1901 - loss: 2.6541\n",
            "Epoch 3: val_accuracy improved from 0.15528 to 0.18634, saving model to nasnet_cbam_model.keras\n",
            "\u001b[1m36/36\u001b[0m \u001b[32m━━━━━━━━━━━━━━━━━━━━\u001b[0m\u001b[37m\u001b[0m \u001b[1m7s\u001b[0m 142ms/step - accuracy: 0.1906 - loss: 2.6546 - val_accuracy: 0.1863 - val_loss: 2.0989\n",
            "Epoch 4/20\n",
            "\u001b[1m35/36\u001b[0m \u001b[32m━━━━━━━━━━━━━━━━━━━\u001b[0m\u001b[37m━\u001b[0m \u001b[1m0s\u001b[0m 56ms/step - accuracy: 0.2163 - loss: 2.4558\n",
            "Epoch 4: val_accuracy improved from 0.18634 to 0.20497, saving model to nasnet_cbam_model.keras\n",
            "\u001b[1m36/36\u001b[0m \u001b[32m━━━━━━━━━━━━━━━━━━━━\u001b[0m\u001b[37m\u001b[0m \u001b[1m4s\u001b[0m 121ms/step - accuracy: 0.2158 - loss: 2.4570 - val_accuracy: 0.2050 - val_loss: 2.0412\n",
            "Epoch 5/20\n",
            "\u001b[1m35/36\u001b[0m \u001b[32m━━━━━━━━━━━━━━━━━━━\u001b[0m\u001b[37m━\u001b[0m \u001b[1m0s\u001b[0m 56ms/step - accuracy: 0.1917 - loss: 2.4252\n",
            "Epoch 5: val_accuracy did not improve from 0.20497\n",
            "\u001b[1m36/36\u001b[0m \u001b[32m━━━━━━━━━━━━━━━━━━━━\u001b[0m\u001b[37m\u001b[0m \u001b[1m3s\u001b[0m 73ms/step - accuracy: 0.1924 - loss: 2.4250 - val_accuracy: 0.2050 - val_loss: 1.9905\n",
            "Epoch 6/20\n",
            "\u001b[1m35/36\u001b[0m \u001b[32m━━━━━━━━━━━━━━━━━━━\u001b[0m\u001b[37m━\u001b[0m \u001b[1m0s\u001b[0m 65ms/step - accuracy: 0.2115 - loss: 2.5350\n",
            "Epoch 6: val_accuracy did not improve from 0.20497\n",
            "\u001b[1m36/36\u001b[0m \u001b[32m━━━━━━━━━━━━━━━━━━━━\u001b[0m\u001b[37m\u001b[0m \u001b[1m5s\u001b[0m 83ms/step - accuracy: 0.2119 - loss: 2.5330 - val_accuracy: 0.1988 - val_loss: 1.9567\n",
            "Epoch 7/20\n",
            "\u001b[1m35/36\u001b[0m \u001b[32m━━━━━━━━━━━━━━━━━━━\u001b[0m\u001b[37m━\u001b[0m \u001b[1m0s\u001b[0m 55ms/step - accuracy: 0.2002 - loss: 2.3876\n",
            "Epoch 7: val_accuracy did not improve from 0.20497\n",
            "\u001b[1m36/36\u001b[0m \u001b[32m━━━━━━━━━━━━━━━━━━━━\u001b[0m\u001b[37m\u001b[0m \u001b[1m3s\u001b[0m 72ms/step - accuracy: 0.2007 - loss: 2.3876 - val_accuracy: 0.1925 - val_loss: 1.9293\n",
            "Epoch 8/20\n",
            "\u001b[1m35/36\u001b[0m \u001b[32m━━━━━━━━━━━━━━━━━━━\u001b[0m\u001b[37m━\u001b[0m \u001b[1m0s\u001b[0m 55ms/step - accuracy: 0.2272 - loss: 2.3675\n",
            "Epoch 8: val_accuracy did not improve from 0.20497\n",
            "\u001b[1m36/36\u001b[0m \u001b[32m━━━━━━━━━━━━━━━━━━━━\u001b[0m\u001b[37m\u001b[0m \u001b[1m3s\u001b[0m 72ms/step - accuracy: 0.2262 - loss: 2.3664 - val_accuracy: 0.1863 - val_loss: 1.8968\n",
            "Epoch 9/20\n",
            "\u001b[1m35/36\u001b[0m \u001b[32m━━━━━━━━━━━━━━━━━━━\u001b[0m\u001b[37m━\u001b[0m \u001b[1m0s\u001b[0m 55ms/step - accuracy: 0.2161 - loss: 2.2999\n",
            "Epoch 9: val_accuracy did not improve from 0.20497\n",
            "\u001b[1m36/36\u001b[0m \u001b[32m━━━━━━━━━━━━━━━━━━━━\u001b[0m\u001b[37m\u001b[0m \u001b[1m3s\u001b[0m 71ms/step - accuracy: 0.2170 - loss: 2.2981 - val_accuracy: 0.1988 - val_loss: 1.8689\n",
            "Epoch 10/20\n",
            "\u001b[1m35/36\u001b[0m \u001b[32m━━━━━━━━━━━━━━━━━━━\u001b[0m\u001b[37m━\u001b[0m \u001b[1m0s\u001b[0m 55ms/step - accuracy: 0.1998 - loss: 2.4050\n",
            "Epoch 10: val_accuracy improved from 0.20497 to 0.21739, saving model to nasnet_cbam_model.keras\n",
            "\u001b[1m36/36\u001b[0m \u001b[32m━━━━━━━━━━━━━━━━━━━━\u001b[0m\u001b[37m\u001b[0m \u001b[1m5s\u001b[0m 144ms/step - accuracy: 0.2002 - loss: 2.4027 - val_accuracy: 0.2174 - val_loss: 1.8431\n",
            "Epoch 11/20\n",
            "\u001b[1m35/36\u001b[0m \u001b[32m━━━━━━━━━━━━━━━━━━━\u001b[0m\u001b[37m━\u001b[0m \u001b[1m0s\u001b[0m 57ms/step - accuracy: 0.2551 - loss: 2.1579\n",
            "Epoch 11: val_accuracy did not improve from 0.21739\n",
            "\u001b[1m36/36\u001b[0m \u001b[32m━━━━━━━━━━━━━━━━━━━━\u001b[0m\u001b[37m\u001b[0m \u001b[1m3s\u001b[0m 74ms/step - accuracy: 0.2552 - loss: 2.1580 - val_accuracy: 0.1988 - val_loss: 1.8134\n",
            "Epoch 12/20\n",
            "\u001b[1m35/36\u001b[0m \u001b[32m━━━━━━━━━━━━━━━━━━━\u001b[0m\u001b[37m━\u001b[0m \u001b[1m0s\u001b[0m 56ms/step - accuracy: 0.2377 - loss: 2.0896\n",
            "Epoch 12: val_accuracy did not improve from 0.21739\n",
            "\u001b[1m36/36\u001b[0m \u001b[32m━━━━━━━━━━━━━━━━━━━━\u001b[0m\u001b[37m\u001b[0m \u001b[1m3s\u001b[0m 72ms/step - accuracy: 0.2374 - loss: 2.0903 - val_accuracy: 0.1988 - val_loss: 1.7759\n",
            "Epoch 13/20\n",
            "\u001b[1m35/36\u001b[0m \u001b[32m━━━━━━━━━━━━━━━━━━━\u001b[0m\u001b[37m━\u001b[0m \u001b[1m0s\u001b[0m 58ms/step - accuracy: 0.2239 - loss: 2.0866\n",
            "Epoch 13: val_accuracy did not improve from 0.21739\n",
            "\u001b[1m36/36\u001b[0m \u001b[32m━━━━━━━━━━━━━━━━━━━━\u001b[0m\u001b[37m\u001b[0m \u001b[1m5s\u001b[0m 77ms/step - accuracy: 0.2243 - loss: 2.0873 - val_accuracy: 0.1988 - val_loss: 1.7588\n",
            "Epoch 14/20\n",
            "\u001b[1m35/36\u001b[0m \u001b[32m━━━━━━━━━━━━━━━━━━━\u001b[0m\u001b[37m━\u001b[0m \u001b[1m0s\u001b[0m 56ms/step - accuracy: 0.2462 - loss: 2.0738\n",
            "Epoch 14: val_accuracy did not improve from 0.21739\n",
            "\u001b[1m36/36\u001b[0m \u001b[32m━━━━━━━━━━━━━━━━━━━━\u001b[0m\u001b[37m\u001b[0m \u001b[1m5s\u001b[0m 73ms/step - accuracy: 0.2463 - loss: 2.0736 - val_accuracy: 0.2112 - val_loss: 1.7410\n",
            "Epoch 15/20\n",
            "\u001b[1m35/36\u001b[0m \u001b[32m━━━━━━━━━━━━━━━━━━━\u001b[0m\u001b[37m━\u001b[0m \u001b[1m0s\u001b[0m 55ms/step - accuracy: 0.2543 - loss: 2.0409\n",
            "Epoch 15: val_accuracy did not improve from 0.21739\n",
            "\u001b[1m36/36\u001b[0m \u001b[32m━━━━━━━━━━━━━━━━━━━━\u001b[0m\u001b[37m\u001b[0m \u001b[1m3s\u001b[0m 71ms/step - accuracy: 0.2536 - loss: 2.0422 - val_accuracy: 0.2174 - val_loss: 1.7276\n",
            "Epoch 16/20\n",
            "\u001b[1m35/36\u001b[0m \u001b[32m━━━━━━━━━━━━━━━━━━━\u001b[0m\u001b[37m━\u001b[0m \u001b[1m0s\u001b[0m 60ms/step - accuracy: 0.2626 - loss: 2.0199\n",
            "Epoch 16: val_accuracy did not improve from 0.21739\n",
            "\u001b[1m36/36\u001b[0m \u001b[32m━━━━━━━━━━━━━━━━━━━━\u001b[0m\u001b[37m\u001b[0m \u001b[1m5s\u001b[0m 80ms/step - accuracy: 0.2611 - loss: 2.0218 - val_accuracy: 0.2174 - val_loss: 1.7103\n",
            "Epoch 17/20\n",
            "\u001b[1m35/36\u001b[0m \u001b[32m━━━━━━━━━━━━━━━━━━━\u001b[0m\u001b[37m━\u001b[0m \u001b[1m0s\u001b[0m 57ms/step - accuracy: 0.2204 - loss: 2.0203\n",
            "Epoch 17: val_accuracy did not improve from 0.21739\n",
            "\u001b[1m36/36\u001b[0m \u001b[32m━━━━━━━━━━━━━━━━━━━━\u001b[0m\u001b[37m\u001b[0m \u001b[1m5s\u001b[0m 74ms/step - accuracy: 0.2212 - loss: 2.0186 - val_accuracy: 0.2112 - val_loss: 1.6947\n",
            "Epoch 18/20\n",
            "\u001b[1m35/36\u001b[0m \u001b[32m━━━━━━━━━━━━━━━━━━━\u001b[0m\u001b[37m━\u001b[0m \u001b[1m0s\u001b[0m 56ms/step - accuracy: 0.2750 - loss: 1.9523\n",
            "Epoch 18: val_accuracy did not improve from 0.21739\n",
            "\u001b[1m36/36\u001b[0m \u001b[32m━━━━━━━━━━━━━━━━━━━━\u001b[0m\u001b[37m\u001b[0m \u001b[1m3s\u001b[0m 72ms/step - accuracy: 0.2745 - loss: 1.9520 - val_accuracy: 0.2050 - val_loss: 1.6809\n",
            "Epoch 19/20\n",
            "\u001b[1m35/36\u001b[0m \u001b[32m━━━━━━━━━━━━━━━━━━━\u001b[0m\u001b[37m━\u001b[0m \u001b[1m0s\u001b[0m 62ms/step - accuracy: 0.2685 - loss: 1.9028\n",
            "Epoch 19: val_accuracy did not improve from 0.21739\n",
            "\u001b[1m36/36\u001b[0m \u001b[32m━━━━━━━━━━━━━━━━━━━━\u001b[0m\u001b[37m\u001b[0m \u001b[1m5s\u001b[0m 82ms/step - accuracy: 0.2682 - loss: 1.9039 - val_accuracy: 0.2112 - val_loss: 1.6680\n",
            "Epoch 20/20\n",
            "\u001b[1m35/36\u001b[0m \u001b[32m━━━━━━━━━━━━━━━━━━━\u001b[0m\u001b[37m━\u001b[0m \u001b[1m0s\u001b[0m 58ms/step - accuracy: 0.2508 - loss: 1.9200\n",
            "Epoch 20: val_accuracy did not improve from 0.21739\n",
            "\u001b[1m36/36\u001b[0m \u001b[32m━━━━━━━━━━━━━━━━━━━━\u001b[0m\u001b[37m\u001b[0m \u001b[1m5s\u001b[0m 74ms/step - accuracy: 0.2498 - loss: 1.9225 - val_accuracy: 0.1925 - val_loss: 1.6617\n",
            "Restoring model weights from the end of the best epoch: 20.\n"
          ]
        }
      ]
    },
    {
      "cell_type": "code",
      "source": [
        "# Unfreezing the top NASNet layers for fine-tuning\n",
        "base_model.trainable = True\n",
        "for layer in base_model.layers[:-20]:  # Unfreezing last 20 layers\n",
        "    layer.trainable = False\n",
        "\n",
        "# Recompiling with lower learning rate for fine-tuning\n",
        "model_cbam.compile(\n",
        "    optimizer=optimizers.Adam(learning_rate=1e-6),\n",
        "    loss='categorical_crossentropy',\n",
        "    metrics=['accuracy']\n",
        ")\n",
        "\n",
        "fine_tune_history = model_cbam.fit(\n",
        "    train_ds,\n",
        "    validation_data=val_ds,\n",
        "    epochs=10,\n",
        "    callbacks=cbam_callbacks\n",
        ")"
      ],
      "metadata": {
        "colab": {
          "base_uri": "https://localhost:8080/"
        },
        "id": "Evt4NlWLcgYt",
        "outputId": "a1dff103-a919-46fe-be8d-79be82db0239"
      },
      "execution_count": null,
      "outputs": [
        {
          "output_type": "stream",
          "name": "stdout",
          "text": [
            "Epoch 1/10\n",
            "\u001b[1m36/36\u001b[0m \u001b[32m━━━━━━━━━━━━━━━━━━━━\u001b[0m\u001b[37m\u001b[0m \u001b[1m0s\u001b[0m 426ms/step - accuracy: 0.2573 - loss: 2.0183\n",
            "Epoch 1: val_accuracy improved from 0.21739 to 0.24845, saving model to nasnet_cbam_model.keras\n",
            "\u001b[1m36/36\u001b[0m \u001b[32m━━━━━━━━━━━━━━━━━━━━\u001b[0m\u001b[37m\u001b[0m \u001b[1m84s\u001b[0m 1s/step - accuracy: 0.2570 - loss: 2.0192 - val_accuracy: 0.2484 - val_loss: 1.6410\n",
            "Epoch 2/10\n",
            "\u001b[1m35/36\u001b[0m \u001b[32m━━━━━━━━━━━━━━━━━━━\u001b[0m\u001b[37m━\u001b[0m \u001b[1m0s\u001b[0m 60ms/step - accuracy: 0.2519 - loss: 1.9983\n",
            "Epoch 2: val_accuracy did not improve from 0.24845\n",
            "\u001b[1m36/36\u001b[0m \u001b[32m━━━━━━━━━━━━━━━━━━━━\u001b[0m\u001b[37m\u001b[0m \u001b[1m2s\u001b[0m 68ms/step - accuracy: 0.2517 - loss: 2.0001 - val_accuracy: 0.2360 - val_loss: 1.6472\n",
            "Epoch 3/10\n",
            "\u001b[1m35/36\u001b[0m \u001b[32m━━━━━━━━━━━━━━━━━━━\u001b[0m\u001b[37m━\u001b[0m \u001b[1m0s\u001b[0m 65ms/step - accuracy: 0.2345 - loss: 2.0064\n",
            "Epoch 3: val_accuracy did not improve from 0.24845\n",
            "\u001b[1m36/36\u001b[0m \u001b[32m━━━━━━━━━━━━━━━━━━━━\u001b[0m\u001b[37m\u001b[0m \u001b[1m3s\u001b[0m 74ms/step - accuracy: 0.2351 - loss: 2.0077 - val_accuracy: 0.2298 - val_loss: 1.6531\n",
            "Epoch 4/10\n",
            "\u001b[1m35/36\u001b[0m \u001b[32m━━━━━━━━━━━━━━━━━━━\u001b[0m\u001b[37m━\u001b[0m \u001b[1m0s\u001b[0m 61ms/step - accuracy: 0.2426 - loss: 2.0723\n",
            "Epoch 4: val_accuracy did not improve from 0.24845\n",
            "\u001b[1m36/36\u001b[0m \u001b[32m━━━━━━━━━━━━━━━━━━━━\u001b[0m\u001b[37m\u001b[0m \u001b[1m5s\u001b[0m 68ms/step - accuracy: 0.2426 - loss: 2.0712 - val_accuracy: 0.2298 - val_loss: 1.6548\n",
            "Epoch 4: early stopping\n",
            "Restoring model weights from the end of the best epoch: 1.\n"
          ]
        }
      ]
    },
    {
      "cell_type": "code",
      "source": [
        "# from tensorflow.keras.applications import NASNetMobile\n",
        "# from tensorflow.keras import layers, models, optimizers, callbacks\n",
        "\n",
        "# def build_nasnet_model(input_shape=(224, 224, 3), num_classes=5):\n",
        "#     base_model4 = NASNetMobile(weights='imagenet', include_top=False, input_shape=input_shape)\n",
        "#     base_model4.trainable = False  # freeze base for feature extraction\n",
        "\n",
        "#     model4 = models.Sequential([\n",
        "#         base_model4,\n",
        "#         layers.GlobalAveragePooling2D(),\n",
        "#         layers.Dense(128, activation='relu'),\n",
        "#         layers.Dropout(0.5),\n",
        "#         layers.Dense(num_classes, activation='softmax')\n",
        "#     ])\n",
        "#     return model4, base_model4\n",
        "\n",
        "# # Build the model\n",
        "# nasnet_model, base_nasnet = build_nasnet_model()\n",
        "\n",
        "# # Compile with learning rate\n",
        "# nasnet_model.compile(\n",
        "#     optimizer=optimizers.Adam(learning_rate=1e-5),\n",
        "#     loss='categorical_crossentropy',\n",
        "#     metrics=['accuracy']\n",
        "# )\n",
        "\n",
        "# # Define callbacks\n",
        "# nasnet_callbacks = [\n",
        "#     callbacks.ModelCheckpoint(\n",
        "#         filepath='nasnet_model.keras',\n",
        "#         monitor='val_accuracy',\n",
        "#         save_best_only=True,\n",
        "#         verbose=1\n",
        "#     ),\n",
        "#     callbacks.EarlyStopping(\n",
        "#         monitor='val_loss',\n",
        "#         patience=3,\n",
        "#         restore_best_weights=True,\n",
        "#         verbose=1\n",
        "#     )\n",
        "# ]\n",
        "\n",
        "# # Train\n",
        "# history_nasnet = nasnet_model.fit(\n",
        "#     train_ds,\n",
        "#     validation_data=val_ds,\n",
        "#     epochs=20,\n",
        "#     callbacks=nasnet_callbacks\n",
        "# )"
      ],
      "metadata": {
        "colab": {
          "base_uri": "https://localhost:8080/"
        },
        "id": "FnPwcATrTEhy",
        "outputId": "807108e8-9da6-480c-e0f4-e54e5050540b"
      },
      "execution_count": null,
      "outputs": [
        {
          "output_type": "stream",
          "name": "stdout",
          "text": [
            "Downloading data from https://storage.googleapis.com/tensorflow/keras-applications/nasnet/NASNet-mobile-no-top.h5\n",
            "\u001b[1m19993432/19993432\u001b[0m \u001b[32m━━━━━━━━━━━━━━━━━━━━\u001b[0m\u001b[37m\u001b[0m \u001b[1m0s\u001b[0m 0us/step\n",
            "Epoch 1/20\n",
            "\u001b[1m36/36\u001b[0m \u001b[32m━━━━━━━━━━━━━━━━━━━━\u001b[0m\u001b[37m\u001b[0m \u001b[1m0s\u001b[0m 1s/step - accuracy: 0.1824 - loss: 10.1114   \n",
            "Epoch 1: val_accuracy improved from -inf to 0.18634, saving model to nasnet_model.keras\n",
            "\u001b[1m36/36\u001b[0m \u001b[32m━━━━━━━━━━━━━━━━━━━━\u001b[0m\u001b[37m\u001b[0m \u001b[1m102s\u001b[0m 2s/step - accuracy: 0.1824 - loss: 10.0946 - val_accuracy: 0.1863 - val_loss: 8.2062\n",
            "Epoch 2/20\n",
            "\u001b[1m35/36\u001b[0m \u001b[32m━━━━━━━━━━━━━━━━━━━\u001b[0m\u001b[37m━\u001b[0m \u001b[1m0s\u001b[0m 62ms/step - accuracy: 0.1607 - loss: 9.7646\n",
            "Epoch 2: val_accuracy did not improve from 0.18634\n",
            "\u001b[1m36/36\u001b[0m \u001b[32m━━━━━━━━━━━━━━━━━━━━\u001b[0m\u001b[37m\u001b[0m \u001b[1m3s\u001b[0m 78ms/step - accuracy: 0.1617 - loss: 9.7315 - val_accuracy: 0.1863 - val_loss: 7.6726\n",
            "Epoch 3/20\n",
            "\u001b[1m35/36\u001b[0m \u001b[32m━━━━━━━━━━━━━━━━━━━\u001b[0m\u001b[37m━\u001b[0m \u001b[1m0s\u001b[0m 55ms/step - accuracy: 0.1833 - loss: 8.8865\n",
            "Epoch 3: val_accuracy did not improve from 0.18634\n",
            "\u001b[1m36/36\u001b[0m \u001b[32m━━━━━━━━━━━━━━━━━━━━\u001b[0m\u001b[37m\u001b[0m \u001b[1m3s\u001b[0m 75ms/step - accuracy: 0.1835 - loss: 8.8756 - val_accuracy: 0.1863 - val_loss: 7.1686\n",
            "Epoch 4/20\n",
            "\u001b[1m35/36\u001b[0m \u001b[32m━━━━━━━━━━━━━━━━━━━\u001b[0m\u001b[37m━\u001b[0m \u001b[1m0s\u001b[0m 54ms/step - accuracy: 0.1865 - loss: 8.4036\n",
            "Epoch 4: val_accuracy did not improve from 0.18634\n",
            "\u001b[1m36/36\u001b[0m \u001b[32m━━━━━━━━━━━━━━━━━━━━\u001b[0m\u001b[37m\u001b[0m \u001b[1m3s\u001b[0m 71ms/step - accuracy: 0.1866 - loss: 8.4061 - val_accuracy: 0.1863 - val_loss: 6.7036\n",
            "Epoch 5/20\n",
            "\u001b[1m36/36\u001b[0m \u001b[32m━━━━━━━━━━━━━━━━━━━━\u001b[0m\u001b[37m\u001b[0m \u001b[1m0s\u001b[0m 51ms/step - accuracy: 0.1867 - loss: 8.0483\n",
            "Epoch 5: val_accuracy did not improve from 0.18634\n",
            "\u001b[1m36/36\u001b[0m \u001b[32m━━━━━━━━━━━━━━━━━━━━\u001b[0m\u001b[37m\u001b[0m \u001b[1m2s\u001b[0m 69ms/step - accuracy: 0.1867 - loss: 8.0469 - val_accuracy: 0.1863 - val_loss: 6.2517\n",
            "Epoch 6/20\n",
            "\u001b[1m35/36\u001b[0m \u001b[32m━━━━━━━━━━━━━━━━━━━\u001b[0m\u001b[37m━\u001b[0m \u001b[1m0s\u001b[0m 52ms/step - accuracy: 0.1802 - loss: 7.3196\n",
            "Epoch 6: val_accuracy did not improve from 0.18634\n",
            "\u001b[1m36/36\u001b[0m \u001b[32m━━━━━━━━━━━━━━━━━━━━\u001b[0m\u001b[37m\u001b[0m \u001b[1m2s\u001b[0m 68ms/step - accuracy: 0.1807 - loss: 7.3125 - val_accuracy: 0.1863 - val_loss: 5.8607\n",
            "Epoch 7/20\n",
            "\u001b[1m35/36\u001b[0m \u001b[32m━━━━━━━━━━━━━━━━━━━\u001b[0m\u001b[37m━\u001b[0m \u001b[1m0s\u001b[0m 52ms/step - accuracy: 0.2070 - loss: 7.3084\n",
            "Epoch 7: val_accuracy improved from 0.18634 to 0.19876, saving model to nasnet_model.keras\n",
            "\u001b[1m36/36\u001b[0m \u001b[32m━━━━━━━━━━━━━━━━━━━━\u001b[0m\u001b[37m\u001b[0m \u001b[1m4s\u001b[0m 124ms/step - accuracy: 0.2071 - loss: 7.3032 - val_accuracy: 0.1988 - val_loss: 5.4869\n",
            "Epoch 8/20\n",
            "\u001b[1m35/36\u001b[0m \u001b[32m━━━━━━━━━━━━━━━━━━━\u001b[0m\u001b[37m━\u001b[0m \u001b[1m0s\u001b[0m 59ms/step - accuracy: 0.2090 - loss: 7.2751\n",
            "Epoch 8: val_accuracy did not improve from 0.19876\n",
            "\u001b[1m36/36\u001b[0m \u001b[32m━━━━━━━━━━━━━━━━━━━━\u001b[0m\u001b[37m\u001b[0m \u001b[1m3s\u001b[0m 76ms/step - accuracy: 0.2088 - loss: 7.2539 - val_accuracy: 0.1988 - val_loss: 5.1465\n",
            "Epoch 9/20\n",
            "\u001b[1m35/36\u001b[0m \u001b[32m━━━━━━━━━━━━━━━━━━━\u001b[0m\u001b[37m━\u001b[0m \u001b[1m0s\u001b[0m 52ms/step - accuracy: 0.2020 - loss: 6.8527\n",
            "Epoch 9: val_accuracy did not improve from 0.19876\n",
            "\u001b[1m36/36\u001b[0m \u001b[32m━━━━━━━━━━━━━━━━━━━━\u001b[0m\u001b[37m\u001b[0m \u001b[1m2s\u001b[0m 68ms/step - accuracy: 0.2020 - loss: 6.8453 - val_accuracy: 0.1988 - val_loss: 4.8418\n",
            "Epoch 10/20\n",
            "\u001b[1m36/36\u001b[0m \u001b[32m━━━━━━━━━━━━━━━━━━━━\u001b[0m\u001b[37m\u001b[0m \u001b[1m0s\u001b[0m 51ms/step - accuracy: 0.1799 - loss: 7.0074\n",
            "Epoch 10: val_accuracy did not improve from 0.19876\n",
            "\u001b[1m36/36\u001b[0m \u001b[32m━━━━━━━━━━━━━━━━━━━━\u001b[0m\u001b[37m\u001b[0m \u001b[1m2s\u001b[0m 68ms/step - accuracy: 0.1805 - loss: 7.0016 - val_accuracy: 0.1988 - val_loss: 4.5676\n",
            "Epoch 11/20\n",
            "\u001b[1m35/36\u001b[0m \u001b[32m━━━━━━━━━━━━━━━━━━━\u001b[0m\u001b[37m━\u001b[0m \u001b[1m0s\u001b[0m 52ms/step - accuracy: 0.2004 - loss: 6.4020\n",
            "Epoch 11: val_accuracy did not improve from 0.19876\n",
            "\u001b[1m36/36\u001b[0m \u001b[32m━━━━━━━━━━━━━━━━━━━━\u001b[0m\u001b[37m\u001b[0m \u001b[1m2s\u001b[0m 68ms/step - accuracy: 0.2008 - loss: 6.4030 - val_accuracy: 0.1863 - val_loss: 4.3043\n",
            "Epoch 12/20\n",
            "\u001b[1m35/36\u001b[0m \u001b[32m━━━━━━━━━━━━━━━━━━━\u001b[0m\u001b[37m━\u001b[0m \u001b[1m0s\u001b[0m 52ms/step - accuracy: 0.2353 - loss: 6.1868\n",
            "Epoch 12: val_accuracy did not improve from 0.19876\n",
            "\u001b[1m36/36\u001b[0m \u001b[32m━━━━━━━━━━━━━━━━━━━━\u001b[0m\u001b[37m\u001b[0m \u001b[1m3s\u001b[0m 72ms/step - accuracy: 0.2354 - loss: 6.1911 - val_accuracy: 0.1863 - val_loss: 4.0705\n",
            "Epoch 13/20\n",
            "\u001b[1m36/36\u001b[0m \u001b[32m━━━━━━━━━━━━━━━━━━━━\u001b[0m\u001b[37m\u001b[0m \u001b[1m0s\u001b[0m 52ms/step - accuracy: 0.1957 - loss: 6.2814\n",
            "Epoch 13: val_accuracy did not improve from 0.19876\n",
            "\u001b[1m36/36\u001b[0m \u001b[32m━━━━━━━━━━━━━━━━━━━━\u001b[0m\u001b[37m\u001b[0m \u001b[1m5s\u001b[0m 70ms/step - accuracy: 0.1958 - loss: 6.2801 - val_accuracy: 0.1863 - val_loss: 3.8351\n",
            "Epoch 14/20\n",
            "\u001b[1m35/36\u001b[0m \u001b[32m━━━━━━━━━━━━━━━━━━━\u001b[0m\u001b[37m━\u001b[0m \u001b[1m0s\u001b[0m 51ms/step - accuracy: 0.2120 - loss: 6.0388\n",
            "Epoch 14: val_accuracy did not improve from 0.19876\n",
            "\u001b[1m36/36\u001b[0m \u001b[32m━━━━━━━━━━━━━━━━━━━━\u001b[0m\u001b[37m\u001b[0m \u001b[1m2s\u001b[0m 67ms/step - accuracy: 0.2127 - loss: 6.0389 - val_accuracy: 0.1925 - val_loss: 3.6487\n",
            "Epoch 15/20\n",
            "\u001b[1m35/36\u001b[0m \u001b[32m━━━━━━━━━━━━━━━━━━━\u001b[0m\u001b[37m━\u001b[0m \u001b[1m0s\u001b[0m 52ms/step - accuracy: 0.2163 - loss: 5.9955\n",
            "Epoch 15: val_accuracy did not improve from 0.19876\n",
            "\u001b[1m36/36\u001b[0m \u001b[32m━━━━━━━━━━━━━━━━━━━━\u001b[0m\u001b[37m\u001b[0m \u001b[1m2s\u001b[0m 68ms/step - accuracy: 0.2169 - loss: 5.9892 - val_accuracy: 0.1988 - val_loss: 3.4607\n",
            "Epoch 16/20\n",
            "\u001b[1m35/36\u001b[0m \u001b[32m━━━━━━━━━━━━━━━━━━━\u001b[0m\u001b[37m━\u001b[0m \u001b[1m0s\u001b[0m 52ms/step - accuracy: 0.1961 - loss: 5.9909\n",
            "Epoch 16: val_accuracy improved from 0.19876 to 0.21118, saving model to nasnet_model.keras\n",
            "\u001b[1m36/36\u001b[0m \u001b[32m━━━━━━━━━━━━━━━━━━━━\u001b[0m\u001b[37m\u001b[0m \u001b[1m5s\u001b[0m 139ms/step - accuracy: 0.1969 - loss: 5.9900 - val_accuracy: 0.2112 - val_loss: 3.3108\n",
            "Epoch 17/20\n",
            "\u001b[1m35/36\u001b[0m \u001b[32m━━━━━━━━━━━━━━━━━━━\u001b[0m\u001b[37m━\u001b[0m \u001b[1m0s\u001b[0m 53ms/step - accuracy: 0.2332 - loss: 5.8744\n",
            "Epoch 17: val_accuracy improved from 0.21118 to 0.21739, saving model to nasnet_model.keras\n",
            "\u001b[1m36/36\u001b[0m \u001b[32m━━━━━━━━━━━━━━━━━━━━\u001b[0m\u001b[37m\u001b[0m \u001b[1m5s\u001b[0m 129ms/step - accuracy: 0.2335 - loss: 5.8608 - val_accuracy: 0.2174 - val_loss: 3.1775\n",
            "Epoch 18/20\n",
            "\u001b[1m35/36\u001b[0m \u001b[32m━━━━━━━━━━━━━━━━━━━\u001b[0m\u001b[37m━\u001b[0m \u001b[1m0s\u001b[0m 54ms/step - accuracy: 0.2331 - loss: 5.7957\n",
            "Epoch 18: val_accuracy improved from 0.21739 to 0.22360, saving model to nasnet_model.keras\n",
            "\u001b[1m36/36\u001b[0m \u001b[32m━━━━━━━━━━━━━━━━━━━━\u001b[0m\u001b[37m\u001b[0m \u001b[1m4s\u001b[0m 119ms/step - accuracy: 0.2322 - loss: 5.7963 - val_accuracy: 0.2236 - val_loss: 3.0481\n",
            "Epoch 19/20\n",
            "\u001b[1m35/36\u001b[0m \u001b[32m━━━━━━━━━━━━━━━━━━━\u001b[0m\u001b[37m━\u001b[0m \u001b[1m0s\u001b[0m 56ms/step - accuracy: 0.2236 - loss: 5.7189\n",
            "Epoch 19: val_accuracy did not improve from 0.22360\n",
            "\u001b[1m36/36\u001b[0m \u001b[32m━━━━━━━━━━━━━━━━━━━━\u001b[0m\u001b[37m\u001b[0m \u001b[1m3s\u001b[0m 76ms/step - accuracy: 0.2239 - loss: 5.7092 - val_accuracy: 0.2236 - val_loss: 2.9307\n",
            "Epoch 20/20\n",
            "\u001b[1m36/36\u001b[0m \u001b[32m━━━━━━━━━━━━━━━━━━━━\u001b[0m\u001b[37m\u001b[0m \u001b[1m0s\u001b[0m 54ms/step - accuracy: 0.2181 - loss: 5.7960\n",
            "Epoch 20: val_accuracy did not improve from 0.22360\n",
            "\u001b[1m36/36\u001b[0m \u001b[32m━━━━━━━━━━━━━━━━━━━━\u001b[0m\u001b[37m\u001b[0m \u001b[1m3s\u001b[0m 71ms/step - accuracy: 0.2182 - loss: 5.7898 - val_accuracy: 0.2174 - val_loss: 2.8227\n",
            "Restoring model weights from the end of the best epoch: 20.\n"
          ]
        }
      ]
    },
    {
      "cell_type": "code",
      "source": [
        "# Unfreeze base model\n",
        "base_nasnet.trainable = True\n",
        "\n",
        "# Recompile with a lower LR (fine-tuning)\n",
        "nasnet_model.compile(\n",
        "    optimizer=optimizers.Adam(learning_rate=1e-5),  # Slower learning rate!\n",
        "    loss='categorical_crossentropy',\n",
        "    metrics=['accuracy']\n",
        ")\n",
        "\n",
        "# Train further\n",
        "fine_tune_history = nasnet_model.fit(\n",
        "    train_ds,\n",
        "    validation_data=val_ds,\n",
        "    epochs=10,  # Start with 10 more epochs\n",
        "    callbacks=nasnet_callbacks  # Same early stopping & checkpoint\n",
        ")"
      ],
      "metadata": {
        "colab": {
          "base_uri": "https://localhost:8080/"
        },
        "id": "i_DjFX5vTeRt",
        "outputId": "b0ed8d37-36b8-45b7-a943-0559814e46c6"
      },
      "execution_count": null,
      "outputs": [
        {
          "output_type": "stream",
          "name": "stdout",
          "text": [
            "Epoch 1/10\n",
            "\u001b[1m36/36\u001b[0m \u001b[32m━━━━━━━━━━━━━━━━━━━━\u001b[0m\u001b[37m\u001b[0m \u001b[1m0s\u001b[0m 2s/step - accuracy: 0.2337 - loss: 1.7673   \n",
            "Epoch 1: val_accuracy did not improve from 0.22360\n",
            "\u001b[1m36/36\u001b[0m \u001b[32m━━━━━━━━━━━━━━━━━━━━\u001b[0m\u001b[37m\u001b[0m \u001b[1m304s\u001b[0m 3s/step - accuracy: 0.2338 - loss: 1.7671 - val_accuracy: 0.2174 - val_loss: 1.7084\n",
            "Epoch 2/10\n",
            "\u001b[1m36/36\u001b[0m \u001b[32m━━━━━━━━━━━━━━━━━━━━\u001b[0m\u001b[37m\u001b[0m \u001b[1m0s\u001b[0m 209ms/step - accuracy: 0.3450 - loss: 1.4930\n",
            "Epoch 2: val_accuracy did not improve from 0.22360\n",
            "\u001b[1m36/36\u001b[0m \u001b[32m━━━━━━━━━━━━━━━━━━━━\u001b[0m\u001b[37m\u001b[0m \u001b[1m24s\u001b[0m 217ms/step - accuracy: 0.3448 - loss: 1.4938 - val_accuracy: 0.1801 - val_loss: 1.8089\n",
            "Epoch 3/10\n",
            "\u001b[1m36/36\u001b[0m \u001b[32m━━━━━━━━━━━━━━━━━━━━\u001b[0m\u001b[37m\u001b[0m \u001b[1m0s\u001b[0m 214ms/step - accuracy: 0.4433 - loss: 1.3407\n",
            "Epoch 3: val_accuracy did not improve from 0.22360\n",
            "\u001b[1m36/36\u001b[0m \u001b[32m━━━━━━━━━━━━━━━━━━━━\u001b[0m\u001b[37m\u001b[0m \u001b[1m8s\u001b[0m 224ms/step - accuracy: 0.4432 - loss: 1.3408 - val_accuracy: 0.1988 - val_loss: 1.7456\n",
            "Epoch 4/10\n",
            "\u001b[1m36/36\u001b[0m \u001b[32m━━━━━━━━━━━━━━━━━━━━\u001b[0m\u001b[37m\u001b[0m \u001b[1m0s\u001b[0m 210ms/step - accuracy: 0.5129 - loss: 1.1985\n",
            "Epoch 4: val_accuracy did not improve from 0.22360\n",
            "\u001b[1m36/36\u001b[0m \u001b[32m━━━━━━━━━━━━━━━━━━━━\u001b[0m\u001b[37m\u001b[0m \u001b[1m11s\u001b[0m 230ms/step - accuracy: 0.5131 - loss: 1.1984 - val_accuracy: 0.2050 - val_loss: 1.7074\n",
            "Epoch 5/10\n",
            "\u001b[1m36/36\u001b[0m \u001b[32m━━━━━━━━━━━━━━━━━━━━\u001b[0m\u001b[37m\u001b[0m \u001b[1m0s\u001b[0m 205ms/step - accuracy: 0.6125 - loss: 1.0888\n",
            "Epoch 5: val_accuracy improved from 0.22360 to 0.26087, saving model to nasnet_model.keras\n",
            "\u001b[1m36/36\u001b[0m \u001b[32m━━━━━━━━━━━━━━━━━━━━\u001b[0m\u001b[37m\u001b[0m \u001b[1m12s\u001b[0m 349ms/step - accuracy: 0.6126 - loss: 1.0890 - val_accuracy: 0.2609 - val_loss: 1.6391\n",
            "Epoch 6/10\n",
            "\u001b[1m36/36\u001b[0m \u001b[32m━━━━━━━━━━━━━━━━━━━━\u001b[0m\u001b[37m\u001b[0m \u001b[1m0s\u001b[0m 208ms/step - accuracy: 0.6820 - loss: 0.9791\n",
            "Epoch 6: val_accuracy did not improve from 0.26087\n",
            "\u001b[1m36/36\u001b[0m \u001b[32m━━━━━━━━━━━━━━━━━━━━\u001b[0m\u001b[37m\u001b[0m \u001b[1m16s\u001b[0m 216ms/step - accuracy: 0.6820 - loss: 0.9789 - val_accuracy: 0.2298 - val_loss: 1.6535\n",
            "Epoch 7/10\n",
            "\u001b[1m36/36\u001b[0m \u001b[32m━━━━━━━━━━━━━━━━━━━━\u001b[0m\u001b[37m\u001b[0m \u001b[1m0s\u001b[0m 207ms/step - accuracy: 0.7103 - loss: 0.8911\n",
            "Epoch 7: val_accuracy did not improve from 0.26087\n",
            "\u001b[1m36/36\u001b[0m \u001b[32m━━━━━━━━━━━━━━━━━━━━\u001b[0m\u001b[37m\u001b[0m \u001b[1m10s\u001b[0m 215ms/step - accuracy: 0.7106 - loss: 0.8907 - val_accuracy: 0.2298 - val_loss: 1.6943\n",
            "Epoch 8/10\n",
            "\u001b[1m36/36\u001b[0m \u001b[32m━━━━━━━━━━━━━━━━━━━━\u001b[0m\u001b[37m\u001b[0m \u001b[1m0s\u001b[0m 205ms/step - accuracy: 0.7689 - loss: 0.7997\n",
            "Epoch 8: val_accuracy did not improve from 0.26087\n",
            "\u001b[1m36/36\u001b[0m \u001b[32m━━━━━━━━━━━━━━━━━━━━\u001b[0m\u001b[37m\u001b[0m \u001b[1m8s\u001b[0m 212ms/step - accuracy: 0.7690 - loss: 0.7993 - val_accuracy: 0.1863 - val_loss: 1.7301\n",
            "Epoch 8: early stopping\n",
            "Restoring model weights from the end of the best epoch: 5.\n"
          ]
        }
      ]
    },
    {
      "cell_type": "code",
      "source": [],
      "metadata": {
        "id": "u3K3EorlUhwr"
      },
      "execution_count": null,
      "outputs": []
    }
  ]
}